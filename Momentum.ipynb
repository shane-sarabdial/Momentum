{
 "cells": [
  {
   "cell_type": "code",
   "execution_count": 12,
   "metadata": {},
   "outputs": [],
   "source": [
    "import yfinance as yf\n",
    "import numpy as np\n",
    "import pandas as pd\n",
    "import datetime as dt\n",
    "from pandas.tseries.offsets import MonthEnd\n",
    "from yahooquery import Ticker"
   ]
  },
  {
   "cell_type": "code",
   "execution_count": 13,
   "metadata": {
    "pycharm": {
     "name": "#%%\n"
    }
   },
   "outputs": [],
   "source": [
    "uni = pd.read_csv('S&P500 from 2000-2021')"
   ]
  },
  {
   "cell_type": "code",
   "execution_count": 14,
   "metadata": {
    "pycharm": {
     "name": "#%%\n"
    }
   },
   "outputs": [],
   "source": [
    "tickers = uni.ticker.to_list()"
   ]
  },
  {
   "cell_type": "code",
   "execution_count": 15,
   "metadata": {
    "pycharm": {
     "name": "#%%\n"
    }
   },
   "outputs": [
    {
     "data": {
      "text/plain": "653"
     },
     "execution_count": 15,
     "metadata": {},
     "output_type": "execute_result"
    }
   ],
   "source": [
    "len(tickers)\n"
   ]
  },
  {
   "cell_type": "code",
   "execution_count": 16,
   "metadata": {
    "pycharm": {
     "name": "#%%\n"
    }
   },
   "outputs": [
    {
     "name": "stdout",
     "output_type": "stream",
     "text": [
      "[*********************100%***********************]  575 of 575 completed\n",
      "\n",
      "144 Failed downloads:\n",
      "- DJ: No data found for this date range, symbol may be delisted\n",
      "- CPGX: No data found for this date range, symbol may be delisted\n",
      "- AGN: No data found, symbol may be delisted\n",
      "- TSS: No data found, symbol may be delisted\n",
      "- MIL: No data found for this date range, symbol may be delisted\n",
      "- FDC: No data found, symbol may be delisted\n",
      "- XEC: No data found, symbol may be delisted\n",
      "- TSO: No data found for this date range, symbol may be delisted\n",
      "- TIF: No data found, symbol may be delisted\n",
      "- LVLT: No data found for this date range, symbol may be delisted\n",
      "- NBL: No data found, symbol may be delisted\n",
      "- MJN: No data found for this date range, symbol may be delisted\n",
      "- DWDP: No data found, symbol may be delisted\n",
      "- BRCM: No data found for this date range, symbol may be delisted\n",
      "- SNDK: No data found for this date range, symbol may be delisted\n",
      "- CAM: No data found for this date range, symbol may be delisted\n",
      "- AV: No data found for this date range, symbol may be delisted\n",
      "- NOVL: No data found for this date range, symbol may be delisted\n",
      "- CELG: No data found, symbol may be delisted\n",
      "- LEH: No data found for this date range, symbol may be delisted\n",
      "- PGN: No data found for this date range, symbol may be delisted\n",
      "- FLIR: No data found, symbol may be delisted\n",
      "- HRS: No data found, symbol may be delisted\n",
      "- KFT: No data found for this date range, symbol may be delisted\n",
      "- AKS: No data found, symbol may be delisted\n",
      "- TYC: No data found for this date range, symbol may be delisted\n",
      "- ESV: No data found, symbol may be delisted\n",
      "- LM: No data found, symbol may be delisted\n",
      "- STI: No data found, symbol may be delisted\n",
      "- ABK: No data found for this date range, symbol may be delisted\n",
      "- PCLN: No data found for this date range, symbol may be delisted\n",
      "- WCG: No data found, symbol may be delisted\n",
      "- VAR: No data found, symbol may be delisted\n",
      "- HSP: No data found for this date range, symbol may be delisted\n",
      "- PCS: No data found for this date range, symbol may be delisted\n",
      "- APOL: No data found for this date range, symbol may be delisted\n",
      "- WLTW: No data found, symbol may be delisted\n",
      "- TSG: No data found, symbol may be delisted\n",
      "- EK: No data found for this date range, symbol may be delisted\n",
      "- EMC: No data found for this date range, symbol may be delisted\n",
      "- JDSU: No data found for this date range, symbol may be delisted\n",
      "- MWW: No data found for this date range, symbol may be delisted\n",
      "- INFO: No data found, symbol may be delisted\n",
      "- PTV: No data found for this date range, symbol may be delisted\n",
      "- RHT: No data found, symbol may be delisted\n",
      "- RDC: No data found, symbol may be delisted\n",
      "- TEG: No data found for this date range, symbol may be delisted\n",
      "- KORS: No data found for this date range, symbol may be delisted\n",
      "- JEC: No data found, symbol may be delisted\n",
      "- TIE: No data found for this date range, symbol may be delisted\n",
      "- LO: No data found for this date range, symbol may be delisted\n",
      "- AVP: No data found, symbol may be delisted\n",
      "- MNK: No data found, symbol may be delisted\n",
      "- FNM: No data found for this date range, symbol may be delisted\n",
      "- QEP: No data found, symbol may be delisted\n",
      "- ETFC: No data found, symbol may be delisted\n",
      "- TRB: No data found for this date range, symbol may be delisted\n",
      "- KG: No data found for this date range, symbol may be delisted\n",
      "- ALXN: No data found, symbol may be delisted\n",
      "- RX: No data found for this date range, symbol may be delisted\n",
      "- WYN: No data found for this date range, symbol may be delisted\n",
      "- MEE: No data found for this date range, symbol may be delisted\n",
      "- DPS: No data found for this date range, symbol may be delisted\n",
      "- COG: No data found, symbol may be delisted\n",
      "- NVLS: No data found for this date range, symbol may be delisted\n",
      "- RRD: No data found, symbol may be delisted\n",
      "- DNR: No data found, symbol may be delisted\n",
      "- Q: No data found for this date range, symbol may be delisted\n",
      "- GENZ: No data found for this date range, symbol may be delisted\n",
      "- SIAL: No data found for this date range, symbol may be delisted\n",
      "- BXLT: No data found for this date range, symbol may be delisted\n",
      "- KSU: No data found, symbol may be delisted\n",
      "- GLK: No data found for this date range, symbol may be delisted\n",
      "- BCR: No data found for this date range, symbol may be delisted\n",
      "- CMCSK: No data found for this date range, symbol may be delisted\n",
      "- PCP: No data found for this date range, symbol may be delisted\n",
      "- MXIM: No data found, symbol may be delisted\n",
      "- FTR: No data found, symbol may be delisted\n",
      "- QTRN: No data found for this date range, symbol may be delisted\n",
      "- COV: No data found for this date range, symbol may be delisted\n",
      "- CTX: No data found for this date range, symbol may be delisted\n",
      "- GGP: No data found for this date range, symbol may be delisted\n",
      "- DLPH: No data found, symbol may be delisted\n",
      "- DO: Data doesn't exist for startDate = 946702800, endDate = 1640926800\n",
      "- MHS: No data found for this date range, symbol may be delisted\n",
      "- SLE: No data found for this date range, symbol may be delisted\n",
      "- GR: No data found for this date range, symbol may be delisted\n",
      "- RTN: No data found, symbol may be delisted\n",
      "- BS: No data found for this date range, symbol may be delisted\n",
      "- BRK.B: No data found, symbol may be delisted\n",
      "- STJ: No data found for this date range, symbol may be delisted\n",
      "- MOLX: No data found for this date range, symbol may be delisted\n",
      "- HCBK: No data found for this date range, symbol may be delisted\n",
      "- VIAB: No data found, symbol may be delisted\n",
      "- HAR: No data found for this date range, symbol may be delisted\n",
      "- TWC: No data found for this date range, symbol may be delisted\n",
      "- TE: No data found for this date range, symbol may be delisted\n",
      "- PCL: No data found for this date range, symbol may be delisted\n",
      "- SBL: No data found for this date range, symbol may be delisted\n",
      "- CCE: No data found for this date range, symbol may be delisted\n",
      "- FRE: No data found for this date range, symbol may be delisted\n",
      "- WPX: No data found, symbol may be delisted\n",
      "- APC: No data found, symbol may be delisted\n",
      "- FII: No data found, symbol may be delisted\n",
      "- RAI: No data found for this date range, symbol may be delisted\n",
      "- GMCR: No data found for this date range, symbol may be delisted\n",
      "- WFM: No data found for this date range, symbol may be delisted\n",
      "- YHOO: No data found for this date range, symbol may be delisted\n",
      "- LXK: No data found for this date range, symbol may be delisted\n",
      "- SWY: No data found for this date range, symbol may be delisted\n",
      "- ABS: No data found for this date range, symbol may be delisted\n",
      "- JOY: No data found for this date range, symbol may be delisted\n",
      "- BMC: No data found for this date range, symbol may be delisted\n",
      "- XTO: No data found for this date range, symbol may be delisted\n",
      "- DTV: No data found, symbol may be delisted\n",
      "- CSC: No data found for this date range, symbol may be delisted\n",
      "- ANR: No data found for this date range, symbol may be delisted\n",
      "- CVC: No data found for this date range, symbol may be delisted\n",
      "- JNY: No data found for this date range, symbol may be delisted\n",
      "- CFN: No data found for this date range, symbol may be delisted\n",
      "- ARG: No data found for this date range, symbol may be delisted\n",
      "- GAS: No data found for this date range, symbol may be delisted\n",
      "- JNS: No data found for this date range, symbol may be delisted\n",
      "- SLR: No data found for this date range, symbol may be delisted\n",
      "- LUK: No data found for this date range, symbol may be delisted\n",
      "- CVH: No data found for this date range, symbol may be delisted\n",
      "- BJS: No data found for this date range, symbol may be delisted\n",
      "- LLTC: No data found for this date range, symbol may be delisted\n",
      "- FDO: No data found for this date range, symbol may be delisted\n",
      "- WIN: No data found, symbol may be delisted\n",
      "- DF: No data found, symbol may be delisted\n",
      "- GRA: No data found, symbol may be delisted\n",
      "- SPLS: No data found for this date range, symbol may be delisted\n",
      "- CEPH: No data found for this date range, symbol may be delisted\n",
      "- SMS: No data found for this date range, symbol may be delisted\n",
      "- JCP: No data found, symbol may be delisted\n",
      "- HNZ: No data found, symbol may be delisted\n",
      "- ACE: No data found for this date range, symbol may be delisted\n",
      "- ACAS: No data found for this date range, symbol may be delisted\n",
      "- FRX: No data found, symbol may be delisted\n",
      "- CEG: Data doesn't exist for startDate = 946702800, endDate = 1640926800\n",
      "- CXO: No data found, symbol may be delisted\n",
      "- CBE: No data found for this date range, symbol may be delisted\n",
      "- KRFT: No data found for this date range, symbol may be delisted\n"
     ]
    }
   ],
   "source": [
    "data = yf.download(tickers, start='2000-01-01', end='2021-12-31')"
   ]
  },
  {
   "cell_type": "code",
   "execution_count": 22,
   "metadata": {
    "pycharm": {
     "name": "#%%\n"
    }
   },
   "outputs": [
    {
     "data": {
      "text/plain": "                      Adj Close                                                \\\n                              A         AA        AAL         AAP        ABBV   \nDate                                                                            \n2021-12-27 00:00:00  158.531204  59.830002  18.170000  236.500000  133.029587   \n2021-12-28 00:00:00  158.970612  59.189999  18.540001  238.130005  133.009781   \n2021-12-29 00:00:00  160.438675  59.630001  18.049999  241.029999  133.969818   \n2021-12-30 00:00:00  160.668396  59.209999  18.070000  237.520004  134.533966   \n2021-12-31 00:00:00         NaN        NaN        NaN         NaN         NaN   \n\n                                                          ...     Volume  \\\n                            ABC ABK        ABMD ABS ACAS  ...         XL   \nDate                                                      ...              \n2021-12-27 00:00:00  131.471329 NaN  357.829987 NaN  NaN  ...  4187100.0   \n2021-12-28 00:00:00  131.929840 NaN  357.440002 NaN  NaN  ...  3164800.0   \n2021-12-29 00:00:00  132.906647 NaN  361.839996 NaN  NaN  ...  2692800.0   \n2021-12-30 00:00:00  133.335266 NaN  362.059998 NaN  NaN  ...  4984100.0   \n2021-12-31 00:00:00         NaN NaN         NaN NaN  NaN  ...        NaN   \n\n                                                                         \\\n                          XRAY        XRX XTO       XYL YHOO        ZBH   \nDate                                                                      \n2021-12-27 00:00:00  1268500.0  2209600.0 NaN  837200.0  NaN  1221065.0   \n2021-12-28 00:00:00   772100.0  1983400.0 NaN  402400.0  NaN  1506581.0   \n2021-12-29 00:00:00  1112400.0  2269700.0 NaN  708800.0  NaN  2508771.0   \n2021-12-30 00:00:00  1119100.0  1747000.0 NaN  401400.0  NaN  1304701.0   \n2021-12-31 00:00:00        NaN        NaN NaN       NaN  NaN        NaN   \n\n                                                    \n                         ZBRA      ZION        ZTS  \nDate                                                \n2021-12-27 00:00:00  636400.0  495500.0   807000.0  \n2021-12-28 00:00:00  139500.0  497200.0  1004400.0  \n2021-12-29 00:00:00  128600.0  691600.0   939900.0  \n2021-12-30 00:00:00   87500.0  413100.0   859100.0  \n2021-12-31 00:00:00       NaN       NaN        NaN  \n\n[5 rows x 3450 columns]",
      "text/html": "<div>\n<style scoped>\n    .dataframe tbody tr th:only-of-type {\n        vertical-align: middle;\n    }\n\n    .dataframe tbody tr th {\n        vertical-align: top;\n    }\n\n    .dataframe thead tr th {\n        text-align: left;\n    }\n\n    .dataframe thead tr:last-of-type th {\n        text-align: right;\n    }\n</style>\n<table border=\"1\" class=\"dataframe\">\n  <thead>\n    <tr>\n      <th></th>\n      <th colspan=\"10\" halign=\"left\">Adj Close</th>\n      <th>...</th>\n      <th colspan=\"10\" halign=\"left\">Volume</th>\n    </tr>\n    <tr>\n      <th></th>\n      <th>A</th>\n      <th>AA</th>\n      <th>AAL</th>\n      <th>AAP</th>\n      <th>ABBV</th>\n      <th>ABC</th>\n      <th>ABK</th>\n      <th>ABMD</th>\n      <th>ABS</th>\n      <th>ACAS</th>\n      <th>...</th>\n      <th>XL</th>\n      <th>XRAY</th>\n      <th>XRX</th>\n      <th>XTO</th>\n      <th>XYL</th>\n      <th>YHOO</th>\n      <th>ZBH</th>\n      <th>ZBRA</th>\n      <th>ZION</th>\n      <th>ZTS</th>\n    </tr>\n    <tr>\n      <th>Date</th>\n      <th></th>\n      <th></th>\n      <th></th>\n      <th></th>\n      <th></th>\n      <th></th>\n      <th></th>\n      <th></th>\n      <th></th>\n      <th></th>\n      <th></th>\n      <th></th>\n      <th></th>\n      <th></th>\n      <th></th>\n      <th></th>\n      <th></th>\n      <th></th>\n      <th></th>\n      <th></th>\n      <th></th>\n    </tr>\n  </thead>\n  <tbody>\n    <tr>\n      <th>2021-12-27 00:00:00</th>\n      <td>158.531204</td>\n      <td>59.830002</td>\n      <td>18.170000</td>\n      <td>236.500000</td>\n      <td>133.029587</td>\n      <td>131.471329</td>\n      <td>NaN</td>\n      <td>357.829987</td>\n      <td>NaN</td>\n      <td>NaN</td>\n      <td>...</td>\n      <td>4187100.0</td>\n      <td>1268500.0</td>\n      <td>2209600.0</td>\n      <td>NaN</td>\n      <td>837200.0</td>\n      <td>NaN</td>\n      <td>1221065.0</td>\n      <td>636400.0</td>\n      <td>495500.0</td>\n      <td>807000.0</td>\n    </tr>\n    <tr>\n      <th>2021-12-28 00:00:00</th>\n      <td>158.970612</td>\n      <td>59.189999</td>\n      <td>18.540001</td>\n      <td>238.130005</td>\n      <td>133.009781</td>\n      <td>131.929840</td>\n      <td>NaN</td>\n      <td>357.440002</td>\n      <td>NaN</td>\n      <td>NaN</td>\n      <td>...</td>\n      <td>3164800.0</td>\n      <td>772100.0</td>\n      <td>1983400.0</td>\n      <td>NaN</td>\n      <td>402400.0</td>\n      <td>NaN</td>\n      <td>1506581.0</td>\n      <td>139500.0</td>\n      <td>497200.0</td>\n      <td>1004400.0</td>\n    </tr>\n    <tr>\n      <th>2021-12-29 00:00:00</th>\n      <td>160.438675</td>\n      <td>59.630001</td>\n      <td>18.049999</td>\n      <td>241.029999</td>\n      <td>133.969818</td>\n      <td>132.906647</td>\n      <td>NaN</td>\n      <td>361.839996</td>\n      <td>NaN</td>\n      <td>NaN</td>\n      <td>...</td>\n      <td>2692800.0</td>\n      <td>1112400.0</td>\n      <td>2269700.0</td>\n      <td>NaN</td>\n      <td>708800.0</td>\n      <td>NaN</td>\n      <td>2508771.0</td>\n      <td>128600.0</td>\n      <td>691600.0</td>\n      <td>939900.0</td>\n    </tr>\n    <tr>\n      <th>2021-12-30 00:00:00</th>\n      <td>160.668396</td>\n      <td>59.209999</td>\n      <td>18.070000</td>\n      <td>237.520004</td>\n      <td>134.533966</td>\n      <td>133.335266</td>\n      <td>NaN</td>\n      <td>362.059998</td>\n      <td>NaN</td>\n      <td>NaN</td>\n      <td>...</td>\n      <td>4984100.0</td>\n      <td>1119100.0</td>\n      <td>1747000.0</td>\n      <td>NaN</td>\n      <td>401400.0</td>\n      <td>NaN</td>\n      <td>1304701.0</td>\n      <td>87500.0</td>\n      <td>413100.0</td>\n      <td>859100.0</td>\n    </tr>\n    <tr>\n      <th>2021-12-31 00:00:00</th>\n      <td>NaN</td>\n      <td>NaN</td>\n      <td>NaN</td>\n      <td>NaN</td>\n      <td>NaN</td>\n      <td>NaN</td>\n      <td>NaN</td>\n      <td>NaN</td>\n      <td>NaN</td>\n      <td>NaN</td>\n      <td>...</td>\n      <td>NaN</td>\n      <td>NaN</td>\n      <td>NaN</td>\n      <td>NaN</td>\n      <td>NaN</td>\n      <td>NaN</td>\n      <td>NaN</td>\n      <td>NaN</td>\n      <td>NaN</td>\n      <td>NaN</td>\n    </tr>\n  </tbody>\n</table>\n<p>5 rows × 3450 columns</p>\n</div>"
     },
     "execution_count": 22,
     "metadata": {},
     "output_type": "execute_result"
    }
   ],
   "source": [
    "data.tail()\n"
   ]
  },
  {
   "cell_type": "code",
   "execution_count": 51,
   "metadata": {},
   "outputs": [],
   "source": [
    "prices = data['Adj Close']\n",
    "prices.index = pd.to_datetime(prices.index)\n",
    "monthly_return = prices.pct_change().resample('M').agg(lambda x: (x+1).prod() -1)"
   ]
  },
  {
   "cell_type": "code",
   "execution_count": 243,
   "metadata": {},
   "outputs": [
    {
     "data": {
      "text/plain": "pandas.core.frame.DataFrame"
     },
     "execution_count": 243,
     "metadata": {},
     "output_type": "execute_result"
    }
   ],
   "source": [
    "monthly_return"
   ]
  },
  {
   "cell_type": "code",
   "execution_count": 288,
   "outputs": [],
   "source": [
    "past_11 = (monthly_return+1).rolling(9).apply(np.prod) -1"
   ],
   "metadata": {
    "collapsed": false,
    "pycharm": {
     "name": "#%%\n"
    }
   }
  },
  {
   "cell_type": "code",
   "execution_count": 289,
   "outputs": [
    {
     "data": {
      "text/plain": "                   A        AA       AAL       AAP      ABBV       ABC  ABK  \\\nDate                                                                          \n2000-01-31       NaN       NaN       NaN       NaN       NaN       NaN  NaN   \n2000-02-29       NaN       NaN       NaN       NaN       NaN       NaN  NaN   \n2000-03-31       NaN       NaN       NaN       NaN       NaN       NaN  NaN   \n2000-04-30       NaN       NaN       NaN       NaN       NaN       NaN  NaN   \n2000-05-31       NaN       NaN       NaN       NaN       NaN       NaN  NaN   \n...              ...       ...       ...       ...       ...       ...  ...   \n2021-08-31  0.507755  1.229648  0.411182  0.384447  0.195803  0.198961  NaN   \n2021-09-30  0.335439  1.123210  0.301205  0.341309  0.042370  0.236016  NaN   \n2021-10-31  0.315916  1.558353  0.118230  0.529362  0.159064  0.184575  NaN   \n2021-11-30  0.241228  0.899455 -0.155205  0.392169  0.108342  0.156230  NaN   \n2021-12-31  0.270548  0.826387 -0.243933  0.312895  0.301082  0.145536  NaN   \n\n                ABMD  ABS  ACAS  ...        XL      XRAY       XRX  XTO  \\\nDate                             ...                                      \n2000-01-31       NaN  NaN   NaN  ...       NaN       NaN       NaN  NaN   \n2000-02-29       NaN  NaN   NaN  ...       NaN       NaN       NaN  NaN   \n2000-03-31       NaN  NaN   NaN  ...       NaN       NaN       NaN  NaN   \n2000-04-30       NaN  NaN   NaN  ...       NaN       NaN       NaN  NaN   \n2000-05-31       NaN  NaN   NaN  ...       NaN       NaN       NaN  NaN   \n...              ...  ...   ...  ...       ...       ...       ...  ...   \n2021-08-31  0.327836  NaN   NaN  ... -0.515670  0.218872  0.061636  NaN   \n2021-09-30  0.004071  NaN   NaN  ... -0.740413  0.112421 -0.101202  NaN   \n2021-10-31 -0.046547  NaN   NaN  ... -0.711275  0.073163 -0.125343  NaN   \n2021-11-30 -0.030103  NaN   NaN  ... -0.679605 -0.078484 -0.252954  NaN   \n2021-12-31  0.135946  NaN   NaN  ... -0.604677 -0.117746 -0.027975  NaN   \n\n                 XYL  YHOO       ZBH      ZBRA      ZION       ZTS  \nDate                                                                \n2000-01-31       NaN   NaN       NaN       NaN       NaN       NaN  \n2000-02-29       NaN   NaN       NaN       NaN       NaN       NaN  \n2000-03-31       NaN   NaN       NaN       NaN       NaN       NaN  \n2000-04-30       NaN   NaN       NaN       NaN       NaN       NaN  \n2000-05-31       NaN   NaN       NaN       NaN       NaN       NaN  \n...              ...   ...       ...       ...       ...       ...  \n2021-08-31  0.430783   NaN  0.013565  0.551636  0.519223  0.280969  \n2021-09-30  0.223985   NaN -0.045810  0.341087  0.442608  0.178108  \n2021-10-31  0.361944   NaN -0.064383  0.376763  0.444964  0.407163  \n2021-11-30  0.224586   NaN -0.263165  0.178904  0.193314  0.435957  \n2021-12-31  0.139916   NaN -0.194741  0.231584  0.155364  0.562925  \n\n[264 rows x 575 columns]",
      "text/html": "<div>\n<style scoped>\n    .dataframe tbody tr th:only-of-type {\n        vertical-align: middle;\n    }\n\n    .dataframe tbody tr th {\n        vertical-align: top;\n    }\n\n    .dataframe thead th {\n        text-align: right;\n    }\n</style>\n<table border=\"1\" class=\"dataframe\">\n  <thead>\n    <tr style=\"text-align: right;\">\n      <th></th>\n      <th>A</th>\n      <th>AA</th>\n      <th>AAL</th>\n      <th>AAP</th>\n      <th>ABBV</th>\n      <th>ABC</th>\n      <th>ABK</th>\n      <th>ABMD</th>\n      <th>ABS</th>\n      <th>ACAS</th>\n      <th>...</th>\n      <th>XL</th>\n      <th>XRAY</th>\n      <th>XRX</th>\n      <th>XTO</th>\n      <th>XYL</th>\n      <th>YHOO</th>\n      <th>ZBH</th>\n      <th>ZBRA</th>\n      <th>ZION</th>\n      <th>ZTS</th>\n    </tr>\n    <tr>\n      <th>Date</th>\n      <th></th>\n      <th></th>\n      <th></th>\n      <th></th>\n      <th></th>\n      <th></th>\n      <th></th>\n      <th></th>\n      <th></th>\n      <th></th>\n      <th></th>\n      <th></th>\n      <th></th>\n      <th></th>\n      <th></th>\n      <th></th>\n      <th></th>\n      <th></th>\n      <th></th>\n      <th></th>\n      <th></th>\n    </tr>\n  </thead>\n  <tbody>\n    <tr>\n      <th>2000-01-31</th>\n      <td>NaN</td>\n      <td>NaN</td>\n      <td>NaN</td>\n      <td>NaN</td>\n      <td>NaN</td>\n      <td>NaN</td>\n      <td>NaN</td>\n      <td>NaN</td>\n      <td>NaN</td>\n      <td>NaN</td>\n      <td>...</td>\n      <td>NaN</td>\n      <td>NaN</td>\n      <td>NaN</td>\n      <td>NaN</td>\n      <td>NaN</td>\n      <td>NaN</td>\n      <td>NaN</td>\n      <td>NaN</td>\n      <td>NaN</td>\n      <td>NaN</td>\n    </tr>\n    <tr>\n      <th>2000-02-29</th>\n      <td>NaN</td>\n      <td>NaN</td>\n      <td>NaN</td>\n      <td>NaN</td>\n      <td>NaN</td>\n      <td>NaN</td>\n      <td>NaN</td>\n      <td>NaN</td>\n      <td>NaN</td>\n      <td>NaN</td>\n      <td>...</td>\n      <td>NaN</td>\n      <td>NaN</td>\n      <td>NaN</td>\n      <td>NaN</td>\n      <td>NaN</td>\n      <td>NaN</td>\n      <td>NaN</td>\n      <td>NaN</td>\n      <td>NaN</td>\n      <td>NaN</td>\n    </tr>\n    <tr>\n      <th>2000-03-31</th>\n      <td>NaN</td>\n      <td>NaN</td>\n      <td>NaN</td>\n      <td>NaN</td>\n      <td>NaN</td>\n      <td>NaN</td>\n      <td>NaN</td>\n      <td>NaN</td>\n      <td>NaN</td>\n      <td>NaN</td>\n      <td>...</td>\n      <td>NaN</td>\n      <td>NaN</td>\n      <td>NaN</td>\n      <td>NaN</td>\n      <td>NaN</td>\n      <td>NaN</td>\n      <td>NaN</td>\n      <td>NaN</td>\n      <td>NaN</td>\n      <td>NaN</td>\n    </tr>\n    <tr>\n      <th>2000-04-30</th>\n      <td>NaN</td>\n      <td>NaN</td>\n      <td>NaN</td>\n      <td>NaN</td>\n      <td>NaN</td>\n      <td>NaN</td>\n      <td>NaN</td>\n      <td>NaN</td>\n      <td>NaN</td>\n      <td>NaN</td>\n      <td>...</td>\n      <td>NaN</td>\n      <td>NaN</td>\n      <td>NaN</td>\n      <td>NaN</td>\n      <td>NaN</td>\n      <td>NaN</td>\n      <td>NaN</td>\n      <td>NaN</td>\n      <td>NaN</td>\n      <td>NaN</td>\n    </tr>\n    <tr>\n      <th>2000-05-31</th>\n      <td>NaN</td>\n      <td>NaN</td>\n      <td>NaN</td>\n      <td>NaN</td>\n      <td>NaN</td>\n      <td>NaN</td>\n      <td>NaN</td>\n      <td>NaN</td>\n      <td>NaN</td>\n      <td>NaN</td>\n      <td>...</td>\n      <td>NaN</td>\n      <td>NaN</td>\n      <td>NaN</td>\n      <td>NaN</td>\n      <td>NaN</td>\n      <td>NaN</td>\n      <td>NaN</td>\n      <td>NaN</td>\n      <td>NaN</td>\n      <td>NaN</td>\n    </tr>\n    <tr>\n      <th>...</th>\n      <td>...</td>\n      <td>...</td>\n      <td>...</td>\n      <td>...</td>\n      <td>...</td>\n      <td>...</td>\n      <td>...</td>\n      <td>...</td>\n      <td>...</td>\n      <td>...</td>\n      <td>...</td>\n      <td>...</td>\n      <td>...</td>\n      <td>...</td>\n      <td>...</td>\n      <td>...</td>\n      <td>...</td>\n      <td>...</td>\n      <td>...</td>\n      <td>...</td>\n      <td>...</td>\n    </tr>\n    <tr>\n      <th>2021-08-31</th>\n      <td>0.507755</td>\n      <td>1.229648</td>\n      <td>0.411182</td>\n      <td>0.384447</td>\n      <td>0.195803</td>\n      <td>0.198961</td>\n      <td>NaN</td>\n      <td>0.327836</td>\n      <td>NaN</td>\n      <td>NaN</td>\n      <td>...</td>\n      <td>-0.515670</td>\n      <td>0.218872</td>\n      <td>0.061636</td>\n      <td>NaN</td>\n      <td>0.430783</td>\n      <td>NaN</td>\n      <td>0.013565</td>\n      <td>0.551636</td>\n      <td>0.519223</td>\n      <td>0.280969</td>\n    </tr>\n    <tr>\n      <th>2021-09-30</th>\n      <td>0.335439</td>\n      <td>1.123210</td>\n      <td>0.301205</td>\n      <td>0.341309</td>\n      <td>0.042370</td>\n      <td>0.236016</td>\n      <td>NaN</td>\n      <td>0.004071</td>\n      <td>NaN</td>\n      <td>NaN</td>\n      <td>...</td>\n      <td>-0.740413</td>\n      <td>0.112421</td>\n      <td>-0.101202</td>\n      <td>NaN</td>\n      <td>0.223985</td>\n      <td>NaN</td>\n      <td>-0.045810</td>\n      <td>0.341087</td>\n      <td>0.442608</td>\n      <td>0.178108</td>\n    </tr>\n    <tr>\n      <th>2021-10-31</th>\n      <td>0.315916</td>\n      <td>1.558353</td>\n      <td>0.118230</td>\n      <td>0.529362</td>\n      <td>0.159064</td>\n      <td>0.184575</td>\n      <td>NaN</td>\n      <td>-0.046547</td>\n      <td>NaN</td>\n      <td>NaN</td>\n      <td>...</td>\n      <td>-0.711275</td>\n      <td>0.073163</td>\n      <td>-0.125343</td>\n      <td>NaN</td>\n      <td>0.361944</td>\n      <td>NaN</td>\n      <td>-0.064383</td>\n      <td>0.376763</td>\n      <td>0.444964</td>\n      <td>0.407163</td>\n    </tr>\n    <tr>\n      <th>2021-11-30</th>\n      <td>0.241228</td>\n      <td>0.899455</td>\n      <td>-0.155205</td>\n      <td>0.392169</td>\n      <td>0.108342</td>\n      <td>0.156230</td>\n      <td>NaN</td>\n      <td>-0.030103</td>\n      <td>NaN</td>\n      <td>NaN</td>\n      <td>...</td>\n      <td>-0.679605</td>\n      <td>-0.078484</td>\n      <td>-0.252954</td>\n      <td>NaN</td>\n      <td>0.224586</td>\n      <td>NaN</td>\n      <td>-0.263165</td>\n      <td>0.178904</td>\n      <td>0.193314</td>\n      <td>0.435957</td>\n    </tr>\n    <tr>\n      <th>2021-12-31</th>\n      <td>0.270548</td>\n      <td>0.826387</td>\n      <td>-0.243933</td>\n      <td>0.312895</td>\n      <td>0.301082</td>\n      <td>0.145536</td>\n      <td>NaN</td>\n      <td>0.135946</td>\n      <td>NaN</td>\n      <td>NaN</td>\n      <td>...</td>\n      <td>-0.604677</td>\n      <td>-0.117746</td>\n      <td>-0.027975</td>\n      <td>NaN</td>\n      <td>0.139916</td>\n      <td>NaN</td>\n      <td>-0.194741</td>\n      <td>0.231584</td>\n      <td>0.155364</td>\n      <td>0.562925</td>\n    </tr>\n  </tbody>\n</table>\n<p>264 rows × 575 columns</p>\n</div>"
     },
     "execution_count": 289,
     "metadata": {},
     "output_type": "execute_result"
    }
   ],
   "source": [
    "\n",
    "past_3_months = past_11.mask(past_11 == 0)\n",
    "past_11"
   ],
   "metadata": {
    "collapsed": false,
    "pycharm": {
     "name": "#%%\n"
    }
   }
  },
  {
   "cell_type": "code",
   "execution_count": 294,
   "outputs": [
    {
     "data": {
      "text/plain": "datetime.datetime(2001, 1, 28, 0, 0)"
     },
     "execution_count": 294,
     "metadata": {},
     "output_type": "execute_result"
    }
   ],
   "source": [
    "formation = dt.datetime(2001,1,28)\n",
    "formation"
   ],
   "metadata": {
    "collapsed": false,
    "pycharm": {
     "name": "#%%\n"
    }
   }
  },
  {
   "cell_type": "code",
   "execution_count": 296,
   "outputs": [
    {
     "data": {
      "text/plain": "Timestamp('2000-02-29 00:00:00')"
     },
     "execution_count": 296,
     "metadata": {},
     "output_type": "execute_result"
    }
   ],
   "source": [
    "begin_measurement =formation -MonthEnd(12)\n",
    "begin_measurement"
   ],
   "metadata": {
    "collapsed": false,
    "pycharm": {
     "name": "#%%\n"
    }
   }
  },
  {
   "cell_type": "code",
   "execution_count": 298,
   "outputs": [
    {
     "data": {
      "text/plain": "Timestamp('2000-12-31 00:00:00')"
     },
     "execution_count": 298,
     "metadata": {},
     "output_type": "execute_result"
    }
   ],
   "source": [
    "end_measurement = formation - MonthEnd(1)\n",
    "end_measurement"
   ],
   "metadata": {
    "collapsed": false,
    "pycharm": {
     "name": "#%%\n"
    }
   }
  },
  {
   "cell_type": "code",
   "execution_count": 281,
   "outputs": [
    {
     "data": {
      "text/plain": "    index  2001-02-28 00:00:00\n0       A            -0.310180\n1      AA             0.274043\n2     AAL                  NaN\n3     AAP                  NaN\n4    ABBV                  NaN\n..    ...                  ...\n570  YHOO                  NaN\n571   ZBH                  NaN\n572  ZBRA             0.076119\n573  ZION             0.055162\n574   ZTS                  NaN\n\n[575 rows x 2 columns]",
      "text/html": "<div>\n<style scoped>\n    .dataframe tbody tr th:only-of-type {\n        vertical-align: middle;\n    }\n\n    .dataframe tbody tr th {\n        vertical-align: top;\n    }\n\n    .dataframe thead th {\n        text-align: right;\n    }\n</style>\n<table border=\"1\" class=\"dataframe\">\n  <thead>\n    <tr style=\"text-align: right;\">\n      <th></th>\n      <th>index</th>\n      <th>2001-02-28 00:00:00</th>\n    </tr>\n  </thead>\n  <tbody>\n    <tr>\n      <th>0</th>\n      <td>A</td>\n      <td>-0.310180</td>\n    </tr>\n    <tr>\n      <th>1</th>\n      <td>AA</td>\n      <td>0.274043</td>\n    </tr>\n    <tr>\n      <th>2</th>\n      <td>AAL</td>\n      <td>NaN</td>\n    </tr>\n    <tr>\n      <th>3</th>\n      <td>AAP</td>\n      <td>NaN</td>\n    </tr>\n    <tr>\n      <th>4</th>\n      <td>ABBV</td>\n      <td>NaN</td>\n    </tr>\n    <tr>\n      <th>...</th>\n      <td>...</td>\n      <td>...</td>\n    </tr>\n    <tr>\n      <th>570</th>\n      <td>YHOO</td>\n      <td>NaN</td>\n    </tr>\n    <tr>\n      <th>571</th>\n      <td>ZBH</td>\n      <td>NaN</td>\n    </tr>\n    <tr>\n      <th>572</th>\n      <td>ZBRA</td>\n      <td>0.076119</td>\n    </tr>\n    <tr>\n      <th>573</th>\n      <td>ZION</td>\n      <td>0.055162</td>\n    </tr>\n    <tr>\n      <th>574</th>\n      <td>ZTS</td>\n      <td>NaN</td>\n    </tr>\n  </tbody>\n</table>\n<p>575 rows × 2 columns</p>\n</div>"
     },
     "execution_count": 281,
     "metadata": {},
     "output_type": "execute_result"
    }
   ],
   "source": [
    "return_12 = past_11.loc[end_measurement]\n",
    "return_12 = return_12.reset_index()\n",
    "return_12"
   ],
   "metadata": {
    "collapsed": false,
    "pycharm": {
     "name": "#%%\n"
    }
   }
  },
  {
   "cell_type": "code",
   "execution_count": 282,
   "outputs": [
    {
     "data": {
      "text/plain": "    index  2001-02-28 00:00:00  decile\n0       A            -0.310180     0.0\n1      AA             0.274043     8.0\n2     AAL                  NaN     NaN\n3     AAP                  NaN     NaN\n4    ABBV                  NaN     NaN\n..    ...                  ...     ...\n570  YHOO                  NaN     NaN\n571   ZBH                  NaN     NaN\n572  ZBRA             0.076119     4.0\n573  ZION             0.055162     4.0\n574   ZTS                  NaN     NaN\n\n[575 rows x 3 columns]",
      "text/html": "<div>\n<style scoped>\n    .dataframe tbody tr th:only-of-type {\n        vertical-align: middle;\n    }\n\n    .dataframe tbody tr th {\n        vertical-align: top;\n    }\n\n    .dataframe thead th {\n        text-align: right;\n    }\n</style>\n<table border=\"1\" class=\"dataframe\">\n  <thead>\n    <tr style=\"text-align: right;\">\n      <th></th>\n      <th>index</th>\n      <th>2001-02-28 00:00:00</th>\n      <th>decile</th>\n    </tr>\n  </thead>\n  <tbody>\n    <tr>\n      <th>0</th>\n      <td>A</td>\n      <td>-0.310180</td>\n      <td>0.0</td>\n    </tr>\n    <tr>\n      <th>1</th>\n      <td>AA</td>\n      <td>0.274043</td>\n      <td>8.0</td>\n    </tr>\n    <tr>\n      <th>2</th>\n      <td>AAL</td>\n      <td>NaN</td>\n      <td>NaN</td>\n    </tr>\n    <tr>\n      <th>3</th>\n      <td>AAP</td>\n      <td>NaN</td>\n      <td>NaN</td>\n    </tr>\n    <tr>\n      <th>4</th>\n      <td>ABBV</td>\n      <td>NaN</td>\n      <td>NaN</td>\n    </tr>\n    <tr>\n      <th>...</th>\n      <td>...</td>\n      <td>...</td>\n      <td>...</td>\n    </tr>\n    <tr>\n      <th>570</th>\n      <td>YHOO</td>\n      <td>NaN</td>\n      <td>NaN</td>\n    </tr>\n    <tr>\n      <th>571</th>\n      <td>ZBH</td>\n      <td>NaN</td>\n      <td>NaN</td>\n    </tr>\n    <tr>\n      <th>572</th>\n      <td>ZBRA</td>\n      <td>0.076119</td>\n      <td>4.0</td>\n    </tr>\n    <tr>\n      <th>573</th>\n      <td>ZION</td>\n      <td>0.055162</td>\n      <td>4.0</td>\n    </tr>\n    <tr>\n      <th>574</th>\n      <td>ZTS</td>\n      <td>NaN</td>\n      <td>NaN</td>\n    </tr>\n  </tbody>\n</table>\n<p>575 rows × 3 columns</p>\n</div>"
     },
     "execution_count": 282,
     "metadata": {},
     "output_type": "execute_result"
    }
   ],
   "source": [
    "return_12['decile'] = pd.qcut(return_12.iloc[:,1], q=10 , labels=False, duplicates='drop')\n",
    "return_12"
   ],
   "metadata": {
    "collapsed": false,
    "pycharm": {
     "name": "#%%\n"
    }
   }
  },
  {
   "cell_type": "code",
   "execution_count": 283,
   "outputs": [
    {
     "data": {
      "text/plain": "A       0.126855\nAA     -0.013129\nAAL     0.000000\nAAP     0.000000\nABBV    0.000000\n          ...   \nYHOO    0.000000\nZBH     0.000000\nZBRA   -0.044223\nZION   -0.045558\nZTS     0.000000\nName: 2000-11-30 00:00:00, Length: 575, dtype: float64"
     },
     "execution_count": 283,
     "metadata": {},
     "output_type": "execute_result"
    }
   ],
   "source": [
    "price_12mbefore = monthly_return.loc[begin_measurement]\n",
    "price_12mbefore"
   ],
   "metadata": {
    "collapsed": false,
    "pycharm": {
     "name": "#%%\n"
    }
   }
  },
  {
   "cell_type": "code",
   "execution_count": 284,
   "outputs": [
    {
     "data": {
      "text/plain": "    index  2001-02-28 00:00:00  decile\n28    AMD             0.409836     9.0\n51   ATVI             1.210844     9.0\n64    BIG             0.811387     9.0\n91    CCK             0.393231     9.0\n114   CNX             0.588572     9.0\n162   DVA             0.664379     9.0\n168    EA             0.401051     9.0\n206   FLR             0.411852     9.0\n241    GT             0.523294     9.0\n246   HFC             0.575229     9.0\n253    HP             0.743021     9.0\n255   HRB             0.412384     9.0\n318  LRCX             0.433334     9.0\n327     M             0.585246     9.0\n357  MTCH             0.401487     9.0\n381   NVR             0.618132     9.0\n391    OI             1.730435     9.0\n416  PRGO             0.446429     9.0\n431   RAD             1.088000     9.0\n433   RCL             0.440266     9.0\n442    RL             0.399402     9.0\n447   RRC             0.454546     9.0\n514  TSCO             0.941176     9.0\n535  URBN             0.398438     9.0\n544   VTR             0.982862     9.0\n546   WAB             0.556710     9.0",
      "text/html": "<div>\n<style scoped>\n    .dataframe tbody tr th:only-of-type {\n        vertical-align: middle;\n    }\n\n    .dataframe tbody tr th {\n        vertical-align: top;\n    }\n\n    .dataframe thead th {\n        text-align: right;\n    }\n</style>\n<table border=\"1\" class=\"dataframe\">\n  <thead>\n    <tr style=\"text-align: right;\">\n      <th></th>\n      <th>index</th>\n      <th>2001-02-28 00:00:00</th>\n      <th>decile</th>\n    </tr>\n  </thead>\n  <tbody>\n    <tr>\n      <th>28</th>\n      <td>AMD</td>\n      <td>0.409836</td>\n      <td>9.0</td>\n    </tr>\n    <tr>\n      <th>51</th>\n      <td>ATVI</td>\n      <td>1.210844</td>\n      <td>9.0</td>\n    </tr>\n    <tr>\n      <th>64</th>\n      <td>BIG</td>\n      <td>0.811387</td>\n      <td>9.0</td>\n    </tr>\n    <tr>\n      <th>91</th>\n      <td>CCK</td>\n      <td>0.393231</td>\n      <td>9.0</td>\n    </tr>\n    <tr>\n      <th>114</th>\n      <td>CNX</td>\n      <td>0.588572</td>\n      <td>9.0</td>\n    </tr>\n    <tr>\n      <th>162</th>\n      <td>DVA</td>\n      <td>0.664379</td>\n      <td>9.0</td>\n    </tr>\n    <tr>\n      <th>168</th>\n      <td>EA</td>\n      <td>0.401051</td>\n      <td>9.0</td>\n    </tr>\n    <tr>\n      <th>206</th>\n      <td>FLR</td>\n      <td>0.411852</td>\n      <td>9.0</td>\n    </tr>\n    <tr>\n      <th>241</th>\n      <td>GT</td>\n      <td>0.523294</td>\n      <td>9.0</td>\n    </tr>\n    <tr>\n      <th>246</th>\n      <td>HFC</td>\n      <td>0.575229</td>\n      <td>9.0</td>\n    </tr>\n    <tr>\n      <th>253</th>\n      <td>HP</td>\n      <td>0.743021</td>\n      <td>9.0</td>\n    </tr>\n    <tr>\n      <th>255</th>\n      <td>HRB</td>\n      <td>0.412384</td>\n      <td>9.0</td>\n    </tr>\n    <tr>\n      <th>318</th>\n      <td>LRCX</td>\n      <td>0.433334</td>\n      <td>9.0</td>\n    </tr>\n    <tr>\n      <th>327</th>\n      <td>M</td>\n      <td>0.585246</td>\n      <td>9.0</td>\n    </tr>\n    <tr>\n      <th>357</th>\n      <td>MTCH</td>\n      <td>0.401487</td>\n      <td>9.0</td>\n    </tr>\n    <tr>\n      <th>381</th>\n      <td>NVR</td>\n      <td>0.618132</td>\n      <td>9.0</td>\n    </tr>\n    <tr>\n      <th>391</th>\n      <td>OI</td>\n      <td>1.730435</td>\n      <td>9.0</td>\n    </tr>\n    <tr>\n      <th>416</th>\n      <td>PRGO</td>\n      <td>0.446429</td>\n      <td>9.0</td>\n    </tr>\n    <tr>\n      <th>431</th>\n      <td>RAD</td>\n      <td>1.088000</td>\n      <td>9.0</td>\n    </tr>\n    <tr>\n      <th>433</th>\n      <td>RCL</td>\n      <td>0.440266</td>\n      <td>9.0</td>\n    </tr>\n    <tr>\n      <th>442</th>\n      <td>RL</td>\n      <td>0.399402</td>\n      <td>9.0</td>\n    </tr>\n    <tr>\n      <th>447</th>\n      <td>RRC</td>\n      <td>0.454546</td>\n      <td>9.0</td>\n    </tr>\n    <tr>\n      <th>514</th>\n      <td>TSCO</td>\n      <td>0.941176</td>\n      <td>9.0</td>\n    </tr>\n    <tr>\n      <th>535</th>\n      <td>URBN</td>\n      <td>0.398438</td>\n      <td>9.0</td>\n    </tr>\n    <tr>\n      <th>544</th>\n      <td>VTR</td>\n      <td>0.982862</td>\n      <td>9.0</td>\n    </tr>\n    <tr>\n      <th>546</th>\n      <td>WAB</td>\n      <td>0.556710</td>\n      <td>9.0</td>\n    </tr>\n  </tbody>\n</table>\n</div>"
     },
     "execution_count": 284,
     "metadata": {},
     "output_type": "execute_result"
    }
   ],
   "source": [
    "winners = return_12[return_12['decile'] == 9]\n",
    "winners"
   ],
   "metadata": {
    "collapsed": false,
    "pycharm": {
     "name": "#%%\n"
    }
   }
  },
  {
   "cell_type": "code",
   "execution_count": 285,
   "outputs": [
    {
     "data": {
      "text/plain": "    index  2001-02-28 00:00:00  decile\n0       A            -0.310180     0.0\n19   AKAM            -0.410870     0.0\n22   ALGN            -0.555556     0.0\n33   AMZN            -0.587342     0.0\n43    APH            -0.331148     0.0\n128  CTAS            -0.289650     0.0\n152  DLTR            -0.253356     0.0\n199  FFIV            -0.719849     0.0\n204    FL            -0.180651     0.0\n266  ILMN            -0.180887     0.0\n267  INCY            -0.365566     0.0\n274  ISRG            -0.382979     0.0\n280   JBL            -0.280640     0.0\n287  JNPR            -0.481946     0.0\n310   LHX            -0.183415     0.0\n371  NKTR            -0.275974     0.0\n398   PCG            -0.484049     0.0\n438   RHI            -0.194644     0.0\n467  SIVB            -0.190217     0.0\n487   SVU            -0.224860     0.0\n488  SWKS            -0.472393     0.0\n496   TDY            -0.321558     0.0\n498  TECH            -0.394663     0.0\n512  TRMB            -0.183140     0.0\n526   TYL            -0.300000     0.0\n542  VRSN            -0.449892     0.0",
      "text/html": "<div>\n<style scoped>\n    .dataframe tbody tr th:only-of-type {\n        vertical-align: middle;\n    }\n\n    .dataframe tbody tr th {\n        vertical-align: top;\n    }\n\n    .dataframe thead th {\n        text-align: right;\n    }\n</style>\n<table border=\"1\" class=\"dataframe\">\n  <thead>\n    <tr style=\"text-align: right;\">\n      <th></th>\n      <th>index</th>\n      <th>2001-02-28 00:00:00</th>\n      <th>decile</th>\n    </tr>\n  </thead>\n  <tbody>\n    <tr>\n      <th>0</th>\n      <td>A</td>\n      <td>-0.310180</td>\n      <td>0.0</td>\n    </tr>\n    <tr>\n      <th>19</th>\n      <td>AKAM</td>\n      <td>-0.410870</td>\n      <td>0.0</td>\n    </tr>\n    <tr>\n      <th>22</th>\n      <td>ALGN</td>\n      <td>-0.555556</td>\n      <td>0.0</td>\n    </tr>\n    <tr>\n      <th>33</th>\n      <td>AMZN</td>\n      <td>-0.587342</td>\n      <td>0.0</td>\n    </tr>\n    <tr>\n      <th>43</th>\n      <td>APH</td>\n      <td>-0.331148</td>\n      <td>0.0</td>\n    </tr>\n    <tr>\n      <th>128</th>\n      <td>CTAS</td>\n      <td>-0.289650</td>\n      <td>0.0</td>\n    </tr>\n    <tr>\n      <th>152</th>\n      <td>DLTR</td>\n      <td>-0.253356</td>\n      <td>0.0</td>\n    </tr>\n    <tr>\n      <th>199</th>\n      <td>FFIV</td>\n      <td>-0.719849</td>\n      <td>0.0</td>\n    </tr>\n    <tr>\n      <th>204</th>\n      <td>FL</td>\n      <td>-0.180651</td>\n      <td>0.0</td>\n    </tr>\n    <tr>\n      <th>266</th>\n      <td>ILMN</td>\n      <td>-0.180887</td>\n      <td>0.0</td>\n    </tr>\n    <tr>\n      <th>267</th>\n      <td>INCY</td>\n      <td>-0.365566</td>\n      <td>0.0</td>\n    </tr>\n    <tr>\n      <th>274</th>\n      <td>ISRG</td>\n      <td>-0.382979</td>\n      <td>0.0</td>\n    </tr>\n    <tr>\n      <th>280</th>\n      <td>JBL</td>\n      <td>-0.280640</td>\n      <td>0.0</td>\n    </tr>\n    <tr>\n      <th>287</th>\n      <td>JNPR</td>\n      <td>-0.481946</td>\n      <td>0.0</td>\n    </tr>\n    <tr>\n      <th>310</th>\n      <td>LHX</td>\n      <td>-0.183415</td>\n      <td>0.0</td>\n    </tr>\n    <tr>\n      <th>371</th>\n      <td>NKTR</td>\n      <td>-0.275974</td>\n      <td>0.0</td>\n    </tr>\n    <tr>\n      <th>398</th>\n      <td>PCG</td>\n      <td>-0.484049</td>\n      <td>0.0</td>\n    </tr>\n    <tr>\n      <th>438</th>\n      <td>RHI</td>\n      <td>-0.194644</td>\n      <td>0.0</td>\n    </tr>\n    <tr>\n      <th>467</th>\n      <td>SIVB</td>\n      <td>-0.190217</td>\n      <td>0.0</td>\n    </tr>\n    <tr>\n      <th>487</th>\n      <td>SVU</td>\n      <td>-0.224860</td>\n      <td>0.0</td>\n    </tr>\n    <tr>\n      <th>488</th>\n      <td>SWKS</td>\n      <td>-0.472393</td>\n      <td>0.0</td>\n    </tr>\n    <tr>\n      <th>496</th>\n      <td>TDY</td>\n      <td>-0.321558</td>\n      <td>0.0</td>\n    </tr>\n    <tr>\n      <th>498</th>\n      <td>TECH</td>\n      <td>-0.394663</td>\n      <td>0.0</td>\n    </tr>\n    <tr>\n      <th>512</th>\n      <td>TRMB</td>\n      <td>-0.183140</td>\n      <td>0.0</td>\n    </tr>\n    <tr>\n      <th>526</th>\n      <td>TYL</td>\n      <td>-0.300000</td>\n      <td>0.0</td>\n    </tr>\n    <tr>\n      <th>542</th>\n      <td>VRSN</td>\n      <td>-0.449892</td>\n      <td>0.0</td>\n    </tr>\n  </tbody>\n</table>\n</div>"
     },
     "execution_count": 285,
     "metadata": {},
     "output_type": "execute_result"
    }
   ],
   "source": [
    "losers= return_12[return_12['decile'] == 0]\n",
    "losers"
   ],
   "metadata": {
    "collapsed": false,
    "pycharm": {
     "name": "#%%\n"
    }
   }
  },
  {
   "cell_type": "code",
   "execution_count": 264,
   "outputs": [
    {
     "data": {
      "text/plain": "ABC     0.068704\nAYE     0.206133\nBLK     0.076924\nCB      0.085434\nCERN   -0.069065\nCIEN   -0.016527\nCNX    -0.199329\nDGX     0.003328\nEOG    -0.032334\nHSIC   -0.017439\nIGT     0.098695\nJKHY    0.035156\nJNPR   -0.279519\nLEN    -0.154170\nLH     -0.005248\nNOV    -0.127687\nNVR    -0.095006\nRE      0.064526\nREGN    0.029023\nRHI     0.014389\nSBAC   -0.320915\nTDY     0.254753\nTMO     0.058801\nUHS    -0.108734\nVRTX    0.139523\nName: 2001-05-31 00:00:00, dtype: float64"
     },
     "execution_count": 264,
     "metadata": {},
     "output_type": "execute_result"
    }
   ],
   "source": [
    "winner_ret = monthly_return.loc[formation+MonthEnd(3),monthly_return.columns.isin(winners['index'])]\n",
    "winner_ret\n"
   ],
   "metadata": {
    "collapsed": false,
    "pycharm": {
     "name": "#%%\n"
    }
   }
  },
  {
   "cell_type": "code",
   "execution_count": 264,
   "outputs": [],
   "source": [],
   "metadata": {
    "collapsed": false,
    "pycharm": {
     "name": "#%%\n"
    }
   }
  },
  {
   "cell_type": "code",
   "execution_count": 265,
   "outputs": [],
   "source": [
    "def mom(formation, holdingperiod =1 ):\n",
    "    begin_measurement =formation -MonthEnd(3)\n",
    "    end_measurement = formation - MonthEnd(1)\n",
    "    return_12 = past_11.loc[end_measurement]\n",
    "    return_12 = return_12.reset_index()\n",
    "    return_12['decile'] = pd.qcut(return_12.iloc[:,1], q=10 , labels=False, duplicates='drop')\n",
    "    price_12mbefore = monthly_return.loc[begin_measurement]\n",
    "    returns = return_12/price_12mbefore - 1\n",
    "    winners = return_12[return_12['decile'] == 9]\n",
    "    losers= return_12[return_12['decile'] == 0]\n",
    "    winner_ret = monthly_return.loc[formation+MonthEnd(holdingperiod),monthly_return.columns.isin(winners['index'])]\n",
    "    losers_ret = monthly_return.loc[formation+MonthEnd(holdingperiod),monthly_return.columns.isin(losers['index'])]\n",
    "    momentum_profit = winner_ret.mean() - losers_ret.mean()\n",
    "\n",
    "    return momentum_profit\n",
    "\n"
   ],
   "metadata": {
    "collapsed": false,
    "pycharm": {
     "name": "#%%\n"
    }
   }
  },
  {
   "cell_type": "code",
   "execution_count": 266,
   "outputs": [
    {
     "data": {
      "text/plain": "0.12436362936594281"
     },
     "execution_count": 266,
     "metadata": {},
     "output_type": "execute_result"
    }
   ],
   "source": [
    "mom(formation,1)"
   ],
   "metadata": {
    "collapsed": false,
    "pycharm": {
     "name": "#%%\n"
    }
   }
  },
  {
   "cell_type": "code",
   "execution_count": 290,
   "outputs": [
    {
     "name": "stdout",
     "output_type": "stream",
     "text": [
      "2001-02-28 00:00:00\n",
      "2001-05-31 00:00:00\n",
      "2001-08-31 00:00:00\n",
      "2001-11-30 00:00:00\n",
      "2002-02-28 00:00:00\n",
      "2002-05-31 00:00:00\n",
      "2002-08-31 00:00:00\n",
      "2002-11-30 00:00:00\n",
      "2003-02-28 00:00:00\n",
      "2003-05-31 00:00:00\n",
      "2003-08-31 00:00:00\n",
      "2003-11-30 00:00:00\n",
      "2004-02-29 00:00:00\n",
      "2004-05-31 00:00:00\n",
      "2004-08-31 00:00:00\n",
      "2004-11-30 00:00:00\n",
      "2005-02-28 00:00:00\n",
      "2005-05-31 00:00:00\n",
      "2005-08-31 00:00:00\n",
      "2005-11-30 00:00:00\n",
      "2006-02-28 00:00:00\n",
      "2006-05-31 00:00:00\n",
      "2006-08-31 00:00:00\n",
      "2006-11-30 00:00:00\n",
      "2007-02-28 00:00:00\n",
      "2007-05-31 00:00:00\n",
      "2007-08-31 00:00:00\n",
      "2007-11-30 00:00:00\n",
      "2008-02-29 00:00:00\n",
      "2008-05-31 00:00:00\n",
      "2008-08-31 00:00:00\n",
      "2008-11-30 00:00:00\n",
      "2009-02-28 00:00:00\n",
      "2009-05-31 00:00:00\n",
      "2009-08-31 00:00:00\n",
      "2009-11-30 00:00:00\n",
      "2010-02-28 00:00:00\n",
      "2010-05-31 00:00:00\n",
      "2010-08-31 00:00:00\n",
      "2010-11-30 00:00:00\n",
      "2011-02-28 00:00:00\n",
      "2011-05-31 00:00:00\n",
      "2011-08-31 00:00:00\n",
      "2011-11-30 00:00:00\n",
      "2012-02-29 00:00:00\n",
      "2012-05-31 00:00:00\n",
      "2012-08-31 00:00:00\n",
      "2012-11-30 00:00:00\n",
      "2013-02-28 00:00:00\n",
      "2013-05-31 00:00:00\n",
      "2013-08-31 00:00:00\n",
      "2013-11-30 00:00:00\n",
      "2014-02-28 00:00:00\n",
      "2014-05-31 00:00:00\n",
      "2014-08-31 00:00:00\n",
      "2014-11-30 00:00:00\n",
      "2015-02-28 00:00:00\n",
      "2015-05-31 00:00:00\n",
      "2015-08-31 00:00:00\n",
      "2015-11-30 00:00:00\n",
      "2016-02-29 00:00:00\n",
      "2016-05-31 00:00:00\n",
      "2016-08-31 00:00:00\n",
      "2016-11-30 00:00:00\n",
      "2017-02-28 00:00:00\n",
      "2017-05-31 00:00:00\n",
      "2017-08-31 00:00:00\n",
      "2017-11-30 00:00:00\n",
      "2018-02-28 00:00:00\n",
      "2018-05-31 00:00:00\n",
      "2018-08-31 00:00:00\n",
      "2018-11-30 00:00:00\n",
      "2019-02-28 00:00:00\n",
      "2019-05-31 00:00:00\n",
      "2019-08-31 00:00:00\n",
      "2019-11-30 00:00:00\n",
      "2020-02-29 00:00:00\n",
      "2020-05-31 00:00:00\n",
      "2020-08-31 00:00:00\n",
      "2020-11-30 00:00:00\n"
     ]
    }
   ],
   "source": [
    "for i in range (80):\n",
    "    print((formation+MonthEnd(i*3)))"
   ],
   "metadata": {
    "collapsed": false,
    "pycharm": {
     "name": "#%%\n"
    }
   }
  },
  {
   "cell_type": "code",
   "execution_count": 241,
   "outputs": [
    {
     "data": {
      "text/plain": "         dates   3   6   9  12\n0   2001-01-31 NaT NaT NaT NaT\n1   2001-02-28 NaT NaT NaT NaT\n2   2001-03-31 NaT NaT NaT NaT\n3   2001-04-30 NaT NaT NaT NaT\n4   2001-05-31 NaT NaT NaT NaT\n..         ...  ..  ..  ..  ..\n955 2020-08-31 NaT NaT NaT NaT\n956 2020-09-30 NaT NaT NaT NaT\n957 2020-10-31 NaT NaT NaT NaT\n958 2020-11-30 NaT NaT NaT NaT\n959 2020-12-31 NaT NaT NaT NaT\n\n[960 rows x 5 columns]",
      "text/html": "<div>\n<style scoped>\n    .dataframe tbody tr th:only-of-type {\n        vertical-align: middle;\n    }\n\n    .dataframe tbody tr th {\n        vertical-align: top;\n    }\n\n    .dataframe thead th {\n        text-align: right;\n    }\n</style>\n<table border=\"1\" class=\"dataframe\">\n  <thead>\n    <tr style=\"text-align: right;\">\n      <th></th>\n      <th>dates</th>\n      <th>3</th>\n      <th>6</th>\n      <th>9</th>\n      <th>12</th>\n    </tr>\n  </thead>\n  <tbody>\n    <tr>\n      <th>0</th>\n      <td>2001-01-31</td>\n      <td>NaT</td>\n      <td>NaT</td>\n      <td>NaT</td>\n      <td>NaT</td>\n    </tr>\n    <tr>\n      <th>1</th>\n      <td>2001-02-28</td>\n      <td>NaT</td>\n      <td>NaT</td>\n      <td>NaT</td>\n      <td>NaT</td>\n    </tr>\n    <tr>\n      <th>2</th>\n      <td>2001-03-31</td>\n      <td>NaT</td>\n      <td>NaT</td>\n      <td>NaT</td>\n      <td>NaT</td>\n    </tr>\n    <tr>\n      <th>3</th>\n      <td>2001-04-30</td>\n      <td>NaT</td>\n      <td>NaT</td>\n      <td>NaT</td>\n      <td>NaT</td>\n    </tr>\n    <tr>\n      <th>4</th>\n      <td>2001-05-31</td>\n      <td>NaT</td>\n      <td>NaT</td>\n      <td>NaT</td>\n      <td>NaT</td>\n    </tr>\n    <tr>\n      <th>...</th>\n      <td>...</td>\n      <td>...</td>\n      <td>...</td>\n      <td>...</td>\n      <td>...</td>\n    </tr>\n    <tr>\n      <th>955</th>\n      <td>2020-08-31</td>\n      <td>NaT</td>\n      <td>NaT</td>\n      <td>NaT</td>\n      <td>NaT</td>\n    </tr>\n    <tr>\n      <th>956</th>\n      <td>2020-09-30</td>\n      <td>NaT</td>\n      <td>NaT</td>\n      <td>NaT</td>\n      <td>NaT</td>\n    </tr>\n    <tr>\n      <th>957</th>\n      <td>2020-10-31</td>\n      <td>NaT</td>\n      <td>NaT</td>\n      <td>NaT</td>\n      <td>NaT</td>\n    </tr>\n    <tr>\n      <th>958</th>\n      <td>2020-11-30</td>\n      <td>NaT</td>\n      <td>NaT</td>\n      <td>NaT</td>\n      <td>NaT</td>\n    </tr>\n    <tr>\n      <th>959</th>\n      <td>2020-12-31</td>\n      <td>NaT</td>\n      <td>NaT</td>\n      <td>NaT</td>\n      <td>NaT</td>\n    </tr>\n  </tbody>\n</table>\n<p>960 rows × 5 columns</p>\n</div>"
     },
     "execution_count": 241,
     "metadata": {},
     "output_type": "execute_result"
    }
   ],
   "source": [
    "profits =[]\n",
    "dates =[]\n",
    "c = pd.DataFrame(columns=['dates', '3', '6', '9', '12'])\n",
    "\n",
    "b = [3,6,9,12]\n",
    "# for  j in b:\n",
    "for j in b:\n",
    "    for i in range(12*20):\n",
    "        c['dates']\n",
    "\n",
    "\n",
    "\n",
    "\n",
    "c.append(profits)\n",
    "\n",
    "\n",
    "    #     profits.append(mom(formation+ MonthEnd(i),j))\n",
    "    #     dates.append(formation+MonthEnd(i))\n",
    "    # out =[dates,profits]\n",
    "    # out = np.transpose(out)\n",
    "    # z = pd.DataFrame(out, columns=[['dates', 'profits']])\n",
    "c"
   ],
   "metadata": {
    "collapsed": false,
    "pycharm": {
     "name": "#%%\n"
    }
   }
  },
  {
   "cell_type": "code",
   "execution_count": 217,
   "outputs": [],
   "source": [
    "c = pd.DataFrame(columns=['dates', '3', '6', '9', '12'])\n"
   ],
   "metadata": {
    "collapsed": false,
    "pycharm": {
     "name": "#%%\n"
    }
   }
  },
  {
   "cell_type": "code",
   "execution_count": 204,
   "outputs": [],
   "source": [
    "out =[dates,profits]\n",
    "out = np.transpose(out)\n",
    "z = pd.DataFrame(out, columns=[['dates', 'profits']])"
   ],
   "metadata": {
    "collapsed": false,
    "pycharm": {
     "name": "#%%\n"
    }
   }
  },
  {
   "cell_type": "code",
   "execution_count": 189,
   "outputs": [
    {
     "data": {
      "text/plain": "         dates   profits\n0   2001-01-31 -0.098454\n1   2001-02-28 -0.082798\n2   2001-03-31  -0.02571\n3   2001-04-30  0.032053\n4   2001-05-31  0.103417\n..         ...       ...\n955 2020-08-31  0.090904\n956 2020-09-30  0.019473\n957 2020-10-31 -0.042697\n958 2020-11-30  0.077361\n959 2020-12-31  0.052064\n\n[960 rows x 2 columns]",
      "text/html": "<div>\n<style scoped>\n    .dataframe tbody tr th:only-of-type {\n        vertical-align: middle;\n    }\n\n    .dataframe tbody tr th {\n        vertical-align: top;\n    }\n\n    .dataframe thead tr th {\n        text-align: left;\n    }\n</style>\n<table border=\"1\" class=\"dataframe\">\n  <thead>\n    <tr>\n      <th></th>\n      <th>dates</th>\n      <th>profits</th>\n    </tr>\n  </thead>\n  <tbody>\n    <tr>\n      <th>0</th>\n      <td>2001-01-31</td>\n      <td>-0.098454</td>\n    </tr>\n    <tr>\n      <th>1</th>\n      <td>2001-02-28</td>\n      <td>-0.082798</td>\n    </tr>\n    <tr>\n      <th>2</th>\n      <td>2001-03-31</td>\n      <td>-0.02571</td>\n    </tr>\n    <tr>\n      <th>3</th>\n      <td>2001-04-30</td>\n      <td>0.032053</td>\n    </tr>\n    <tr>\n      <th>4</th>\n      <td>2001-05-31</td>\n      <td>0.103417</td>\n    </tr>\n    <tr>\n      <th>...</th>\n      <td>...</td>\n      <td>...</td>\n    </tr>\n    <tr>\n      <th>955</th>\n      <td>2020-08-31</td>\n      <td>0.090904</td>\n    </tr>\n    <tr>\n      <th>956</th>\n      <td>2020-09-30</td>\n      <td>0.019473</td>\n    </tr>\n    <tr>\n      <th>957</th>\n      <td>2020-10-31</td>\n      <td>-0.042697</td>\n    </tr>\n    <tr>\n      <th>958</th>\n      <td>2020-11-30</td>\n      <td>0.077361</td>\n    </tr>\n    <tr>\n      <th>959</th>\n      <td>2020-12-31</td>\n      <td>0.052064</td>\n    </tr>\n  </tbody>\n</table>\n<p>960 rows × 2 columns</p>\n</div>"
     },
     "execution_count": 189,
     "metadata": {},
     "output_type": "execute_result"
    }
   ],
   "source": [
    "z"
   ],
   "metadata": {
    "collapsed": false,
    "pycharm": {
     "name": "#%%\n"
    }
   }
  },
  {
   "cell_type": "code",
   "execution_count": 154,
   "outputs": [
    {
     "ename": "TypeError",
     "evalue": "Can only merge Series or DataFrame objects, a <class 'pandas.core.indexes.range.RangeIndex'> was passed",
     "output_type": "error",
     "traceback": [
      "\u001B[1;31m---------------------------------------------------------------------------\u001B[0m",
      "\u001B[1;31mTypeError\u001B[0m                                 Traceback (most recent call last)",
      "\u001B[1;32m~\\AppData\\Local\\Temp/ipykernel_2548/3277441607.py\u001B[0m in \u001B[0;36m<module>\u001B[1;34m\u001B[0m\n\u001B[1;32m----> 1\u001B[1;33m \u001B[0mz\u001B[0m \u001B[1;33m=\u001B[0m \u001B[0mpd\u001B[0m\u001B[1;33m.\u001B[0m\u001B[0mmerge\u001B[0m\u001B[1;33m(\u001B[0m\u001B[0my\u001B[0m\u001B[1;33m.\u001B[0m\u001B[0mindex\u001B[0m\u001B[1;33m,\u001B[0m \u001B[0mx\u001B[0m\u001B[1;33m.\u001B[0m\u001B[0mindex\u001B[0m\u001B[1;33m)\u001B[0m\u001B[1;33m\u001B[0m\u001B[1;33m\u001B[0m\u001B[0m\n\u001B[0m",
      "\u001B[1;32m~\\anaconda3\\envs\\myenv\\lib\\site-packages\\pandas\\core\\reshape\\merge.py\u001B[0m in \u001B[0;36mmerge\u001B[1;34m(left, right, how, on, left_on, right_on, left_index, right_index, sort, suffixes, copy, indicator, validate)\u001B[0m\n\u001B[0;32m    104\u001B[0m     \u001B[0mvalidate\u001B[0m\u001B[1;33m:\u001B[0m \u001B[0mstr\u001B[0m \u001B[1;33m|\u001B[0m \u001B[1;32mNone\u001B[0m \u001B[1;33m=\u001B[0m \u001B[1;32mNone\u001B[0m\u001B[1;33m,\u001B[0m\u001B[1;33m\u001B[0m\u001B[1;33m\u001B[0m\u001B[0m\n\u001B[0;32m    105\u001B[0m ) -> DataFrame:\n\u001B[1;32m--> 106\u001B[1;33m     op = _MergeOperation(\n\u001B[0m\u001B[0;32m    107\u001B[0m         \u001B[0mleft\u001B[0m\u001B[1;33m,\u001B[0m\u001B[1;33m\u001B[0m\u001B[1;33m\u001B[0m\u001B[0m\n\u001B[0;32m    108\u001B[0m         \u001B[0mright\u001B[0m\u001B[1;33m,\u001B[0m\u001B[1;33m\u001B[0m\u001B[1;33m\u001B[0m\u001B[0m\n",
      "\u001B[1;32m~\\anaconda3\\envs\\myenv\\lib\\site-packages\\pandas\\core\\reshape\\merge.py\u001B[0m in \u001B[0;36m__init__\u001B[1;34m(self, left, right, how, on, left_on, right_on, axis, left_index, right_index, sort, suffixes, copy, indicator, validate)\u001B[0m\n\u001B[0;32m    625\u001B[0m         \u001B[0mvalidate\u001B[0m\u001B[1;33m:\u001B[0m \u001B[0mstr\u001B[0m \u001B[1;33m|\u001B[0m \u001B[1;32mNone\u001B[0m \u001B[1;33m=\u001B[0m \u001B[1;32mNone\u001B[0m\u001B[1;33m,\u001B[0m\u001B[1;33m\u001B[0m\u001B[1;33m\u001B[0m\u001B[0m\n\u001B[0;32m    626\u001B[0m     ):\n\u001B[1;32m--> 627\u001B[1;33m         \u001B[0m_left\u001B[0m \u001B[1;33m=\u001B[0m \u001B[0m_validate_operand\u001B[0m\u001B[1;33m(\u001B[0m\u001B[0mleft\u001B[0m\u001B[1;33m)\u001B[0m\u001B[1;33m\u001B[0m\u001B[1;33m\u001B[0m\u001B[0m\n\u001B[0m\u001B[0;32m    628\u001B[0m         \u001B[0m_right\u001B[0m \u001B[1;33m=\u001B[0m \u001B[0m_validate_operand\u001B[0m\u001B[1;33m(\u001B[0m\u001B[0mright\u001B[0m\u001B[1;33m)\u001B[0m\u001B[1;33m\u001B[0m\u001B[1;33m\u001B[0m\u001B[0m\n\u001B[0;32m    629\u001B[0m         \u001B[0mself\u001B[0m\u001B[1;33m.\u001B[0m\u001B[0mleft\u001B[0m \u001B[1;33m=\u001B[0m \u001B[0mself\u001B[0m\u001B[1;33m.\u001B[0m\u001B[0morig_left\u001B[0m \u001B[1;33m=\u001B[0m \u001B[0m_left\u001B[0m\u001B[1;33m\u001B[0m\u001B[1;33m\u001B[0m\u001B[0m\n",
      "\u001B[1;32m~\\anaconda3\\envs\\myenv\\lib\\site-packages\\pandas\\core\\reshape\\merge.py\u001B[0m in \u001B[0;36m_validate_operand\u001B[1;34m(obj)\u001B[0m\n\u001B[0;32m   2280\u001B[0m             \u001B[1;32mreturn\u001B[0m \u001B[0mobj\u001B[0m\u001B[1;33m.\u001B[0m\u001B[0mto_frame\u001B[0m\u001B[1;33m(\u001B[0m\u001B[1;33m)\u001B[0m\u001B[1;33m\u001B[0m\u001B[1;33m\u001B[0m\u001B[0m\n\u001B[0;32m   2281\u001B[0m     \u001B[1;32melse\u001B[0m\u001B[1;33m:\u001B[0m\u001B[1;33m\u001B[0m\u001B[1;33m\u001B[0m\u001B[0m\n\u001B[1;32m-> 2282\u001B[1;33m         raise TypeError(\n\u001B[0m\u001B[0;32m   2283\u001B[0m             \u001B[1;34mf\"Can only merge Series or DataFrame objects, a {type(obj)} was passed\"\u001B[0m\u001B[1;33m\u001B[0m\u001B[1;33m\u001B[0m\u001B[0m\n\u001B[0;32m   2284\u001B[0m         )\n",
      "\u001B[1;31mTypeError\u001B[0m: Can only merge Series or DataFrame objects, a <class 'pandas.core.indexes.range.RangeIndex'> was passed"
     ]
    }
   ],
   "source": [],
   "metadata": {
    "collapsed": false,
    "pycharm": {
     "name": "#%%\n"
    }
   }
  },
  {
   "cell_type": "code",
   "execution_count": null,
   "outputs": [],
   "source": [],
   "metadata": {
    "collapsed": false,
    "pycharm": {
     "name": "#%%\n"
    }
   }
  },
  {
   "cell_type": "code",
   "execution_count": null,
   "outputs": [],
   "source": [],
   "metadata": {
    "collapsed": false,
    "pycharm": {
     "name": "#%%\n"
    }
   }
  },
  {
   "cell_type": "code",
   "execution_count": null,
   "outputs": [],
   "source": [],
   "metadata": {
    "collapsed": false,
    "pycharm": {
     "name": "#%%\n"
    }
   }
  },
  {
   "cell_type": "code",
   "execution_count": null,
   "outputs": [],
   "source": [],
   "metadata": {
    "collapsed": false,
    "pycharm": {
     "name": "#%%\n"
    }
   }
  },
  {
   "cell_type": "code",
   "execution_count": null,
   "outputs": [],
   "source": [
    "# def momentum_winner (formation, holdingperiod=1):\n",
    "#     begin_measurement = formation -MonthEnd(12)\n",
    "#     end_measurement = formation - MonthEnd(1)\n",
    "#     price_end = monthly_return.loc[end_measurement]\n",
    "#     prices_12mbefore = monthly_return.loc[begin_measurement]\n",
    "#     ret_12 = price_end/prices_12mbefore -1"
   ],
   "metadata": {
    "collapsed": false,
    "pycharm": {
     "name": "#%%\n"
    }
   }
  }
 ],
 "metadata": {
  "kernelspec": {
   "display_name": "Python 3 (ipykernel)",
   "language": "python",
   "name": "python3"
  },
  "language_info": {
   "codemirror_mode": {
    "name": "ipython",
    "version": 3
   },
   "file_extension": ".py",
   "mimetype": "text/x-python",
   "name": "python",
   "nbconvert_exporter": "python",
   "pygments_lexer": "ipython3",
   "version": "3.9.7"
  }
 },
 "nbformat": 4,
 "nbformat_minor": 1
}