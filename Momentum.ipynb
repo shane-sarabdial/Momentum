{
 "cells": [
  {
   "cell_type": "code",
   "execution_count": 394,
   "metadata": {},
   "outputs": [],
   "source": [
    "import yfinance as yf\n",
    "import numpy as np\n",
    "import pandas as pd\n",
    "import datetime as dt\n",
    "from pandas.tseries.offsets import MonthEnd\n",
    "from yahooquery import Ticker\n"
   ]
  },
  {
   "cell_type": "code",
   "execution_count": 395,
   "metadata": {
    "pycharm": {
     "name": "#%%\n"
    }
   },
   "outputs": [],
   "source": [
    "uni = pd.read_csv('S&P500 from 2000-2021')"
   ]
  },
  {
   "cell_type": "code",
   "execution_count": 396,
   "metadata": {
    "pycharm": {
     "name": "#%%\n"
    }
   },
   "outputs": [],
   "source": [
    "tickers = uni.ticker.to_list()"
   ]
  },
  {
   "cell_type": "code",
   "execution_count": 397,
   "metadata": {
    "pycharm": {
     "name": "#%%\n"
    }
   },
   "outputs": [
    {
     "data": {
      "text/plain": "653"
     },
     "execution_count": 397,
     "metadata": {},
     "output_type": "execute_result"
    }
   ],
   "source": [
    "len(tickers)\n"
   ]
  },
  {
   "cell_type": "code",
   "execution_count": 398,
   "metadata": {
    "pycharm": {
     "name": "#%%\n"
    }
   },
   "outputs": [
    {
     "name": "stdout",
     "output_type": "stream",
     "text": [
      "[*********************100%***********************]  575 of 575 completed\n",
      "\n",
      "130 Failed downloads:\n",
      "- BRCM: No data found for this date range, symbol may be delisted\n",
      "- CPGX: No data found for this date range, symbol may be delisted\n",
      "- FDC: No data found, symbol may be delisted\n",
      "- AGN: No data found, symbol may be delisted\n",
      "- TSO: No data found for this date range, symbol may be delisted\n",
      "- DJ: No data found for this date range, symbol may be delisted\n",
      "- TSS: No data found, symbol may be delisted\n",
      "- MIL: No data found for this date range, symbol may be delisted\n",
      "- XEC: No data found, symbol may be delisted\n",
      "- NBL: No data found, symbol may be delisted\n",
      "- TIF: No data found, symbol may be delisted\n",
      "- HRS: No data found, symbol may be delisted\n",
      "- DWDP: No data found, symbol may be delisted\n",
      "- SNDK: No data found for this date range, symbol may be delisted\n",
      "- QEP: No data found, symbol may be delisted\n",
      "- AV: No data found for this date range, symbol may be delisted\n",
      "- CAM: No data found for this date range, symbol may be delisted\n",
      "- SIAL: No data found for this date range, symbol may be delisted\n",
      "- KSU: No data found, symbol may be delisted\n",
      "- PGN: No data found for this date range, symbol may be delisted\n",
      "- FLIR: No data found, symbol may be delisted\n",
      "- RTN: No data found, symbol may be delisted\n",
      "- MJN: No data found for this date range, symbol may be delisted\n",
      "- HCBK: No data found for this date range, symbol may be delisted\n",
      "- TE: No data found for this date range, symbol may be delisted\n",
      "- LXK: No data found for this date range, symbol may be delisted\n",
      "- AKS: No data found, symbol may be delisted\n",
      "- TYC: No data found for this date range, symbol may be delisted\n",
      "- ESV: No data found, symbol may be delisted\n",
      "- DF: No data found, symbol may be delisted\n",
      "- PCLN: No data found for this date range, symbol may be delisted\n",
      "- WCG: No data found, symbol may be delisted\n",
      "- HSP: No data found for this date range, symbol may be delisted\n",
      "- PCS: No data found for this date range, symbol may be delisted\n",
      "- VAR: No data found, symbol may be delisted\n",
      "- APOL: No data found for this date range, symbol may be delisted\n",
      "- TSG: No data found, symbol may be delisted\n",
      "- EK: No data found for this date range, symbol may be delisted\n",
      "- JDSU: No data found for this date range, symbol may be delisted\n",
      "- WLTW: No data found, symbol may be delisted\n",
      "- MWW: No data found for this date range, symbol may be delisted\n",
      "- INFO: No data found, symbol may be delisted\n",
      "- RDC: No data found, symbol may be delisted\n",
      "- KORS: No data found for this date range, symbol may be delisted\n",
      "- LO: No data found for this date range, symbol may be delisted\n",
      "- RHT: No data found, symbol may be delisted\n",
      "- JEC: No data found, symbol may be delisted\n",
      "- FNM: No data found for this date range, symbol may be delisted\n",
      "- AVP: No data found, symbol may be delisted\n",
      "- MNK: No data found, symbol may be delisted\n",
      "- ETFC: No data found, symbol may be delisted\n",
      "- WYN: No data found for this date range, symbol may be delisted\n",
      "- ALXN: No data found, symbol may be delisted\n",
      "- DPS: No data found for this date range, symbol may be delisted\n",
      "- NVLS: No data found for this date range, symbol may be delisted\n",
      "- RRD: No data found, symbol may be delisted\n",
      "- COG: No data found, symbol may be delisted\n",
      "- Q: No data found for this date range, symbol may be delisted\n",
      "- DNR: No data found, symbol may be delisted\n",
      "- BXLT: No data found for this date range, symbol may be delisted\n",
      "- GENZ: No data found for this date range, symbol may be delisted\n",
      "- NOVL: No data found for this date range, symbol may be delisted\n",
      "- BCR: No data found for this date range, symbol may be delisted\n",
      "- CMCSK: No data found for this date range, symbol may be delisted\n",
      "- CELG: No data found, symbol may be delisted\n",
      "- LEH: No data found for this date range, symbol may be delisted\n",
      "- MXIM: No data found, symbol may be delisted\n",
      "- QTRN: No data found for this date range, symbol may be delisted\n",
      "- FTR: No data found, symbol may be delisted\n",
      "- GGP: No data found for this date range, symbol may be delisted\n",
      "- DLPH: No data found, symbol may be delisted\n",
      "- DO: Data doesn't exist for startDate = 946702800, endDate = 1640926800\n",
      "- MHS: No data found for this date range, symbol may be delisted\n",
      "- GR: No data found for this date range, symbol may be delisted\n",
      "- SLE: No data found for this date range, symbol may be delisted\n",
      "- LVLT: No data found for this date range, symbol may be delisted\n",
      "- BS: No data found for this date range, symbol may be delisted\n",
      "- BRK.B: No data found, symbol may be delisted\n",
      "- MOLX: No data found for this date range, symbol may be delisted\n",
      "- STJ: No data found for this date range, symbol may be delisted\n",
      "- VIAB: No data found, symbol may be delisted\n",
      "- HAR: No data found for this date range, symbol may be delisted\n",
      "- TWC: No data found for this date range, symbol may be delisted\n",
      "- PCL: No data found for this date range, symbol may be delisted\n",
      "- WPX: No data found, symbol may be delisted\n",
      "- TLAB: No data found for this date range, symbol may be delisted\n",
      "- SBL: No data found for this date range, symbol may be delisted\n",
      "- APC: No data found, symbol may be delisted\n",
      "- FRE: No data found for this date range, symbol may be delisted\n",
      "- KFT: No data found for this date range, symbol may be delisted\n",
      "- RAI: No data found for this date range, symbol may be delisted\n",
      "- GMCR: No data found for this date range, symbol may be delisted\n",
      "- FII: No data found, symbol may be delisted\n",
      "- SWY: No data found for this date range, symbol may be delisted\n",
      "- WFM: No data found for this date range, symbol may be delisted\n",
      "- YHOO: No data found for this date range, symbol may be delisted\n",
      "- JOY: No data found for this date range, symbol may be delisted\n",
      "- ABS: No data found for this date range, symbol may be delisted\n",
      "- BMC: No data found for this date range, symbol may be delisted\n",
      "- XTO: No data found for this date range, symbol may be delisted\n",
      "- MFE: No data found for this date range, symbol may be delisted\n",
      "- DTV: No data found, symbol may be delisted\n",
      "- CSC: No data found for this date range, symbol may be delisted\n",
      "- CVC: No data found for this date range, symbol may be delisted\n",
      "- LM: No data found, symbol may be delisted\n",
      "- CFN: No data found for this date range, symbol may be delisted\n",
      "- ARG: No data found for this date range, symbol may be delisted\n",
      "- JNS: No data found for this date range, symbol may be delisted\n",
      "- GAS: No data found for this date range, symbol may be delisted\n",
      "- SLR: No data found for this date range, symbol may be delisted\n",
      "- CVH: No data found for this date range, symbol may be delisted\n",
      "- LUK: No data found for this date range, symbol may be delisted\n",
      "- BJS: No data found for this date range, symbol may be delisted\n",
      "- LLTC: No data found for this date range, symbol may be delisted\n",
      "- FDO: No data found for this date range, symbol may be delisted\n",
      "- WIN: No data found, symbol may be delisted\n",
      "- GRA: No data found, symbol may be delisted\n",
      "- SPLS: No data found for this date range, symbol may be delisted\n",
      "- CEPH: No data found for this date range, symbol may be delisted\n",
      "- SMS: No data found for this date range, symbol may be delisted\n",
      "- JCP: No data found, symbol may be delisted\n",
      "- HNZ: No data found, symbol may be delisted\n",
      "- ACE: No data found for this date range, symbol may be delisted\n",
      "- CXO: No data found, symbol may be delisted\n",
      "- ACAS: No data found for this date range, symbol may be delisted\n",
      "- FRX: No data found, symbol may be delisted\n",
      "- CEG: Data doesn't exist for startDate = 946702800, endDate = 1640926800\n",
      "- STI: No data found, symbol may be delisted\n",
      "- KRFT: No data found for this date range, symbol may be delisted\n",
      "- CBE: No data found for this date range, symbol may be delisted\n"
     ]
    }
   ],
   "source": [
    "data = yf.download(tickers, start='2000-01-01', end='2021-12-31')"
   ]
  },
  {
   "cell_type": "code",
   "execution_count": 399,
   "metadata": {
    "pycharm": {
     "name": "#%%\n"
    }
   },
   "outputs": [
    {
     "data": {
      "text/plain": "                      Adj Close                                                \\\n                              A         AA        AAL         AAP        ABBV   \nDate                                                                            \n2021-12-27 00:00:00  158.531204  59.764008  18.170000  234.790527  133.029587   \n2021-12-28 00:00:00  158.970612  59.124710  18.540001  236.408752  133.009781   \n2021-12-29 00:00:00  160.438675  59.564228  18.049999  239.287781  133.969818   \n2021-12-30 00:00:00  160.668396  59.144688  18.070000  235.803162  134.533966   \n2021-12-31 00:00:00         NaN        NaN        NaN         NaN         NaN   \n\n                                                          ...     Volume  \\\n                            ABC ABK        ABMD ABS ACAS  ...         XL   \nDate                                                      ...              \n2021-12-27 00:00:00  131.471329 NaN  357.829987 NaN  NaN  ...  4187100.0   \n2021-12-28 00:00:00  131.929840 NaN  357.440002 NaN  NaN  ...  3164800.0   \n2021-12-29 00:00:00  132.906647 NaN  361.839996 NaN  NaN  ...  2692800.0   \n2021-12-30 00:00:00  133.335266 NaN  362.059998 NaN  NaN  ...  4984100.0   \n2021-12-31 00:00:00         NaN NaN         NaN NaN  NaN  ...        NaN   \n\n                                                                         \\\n                          XRAY        XRX XTO       XYL YHOO        ZBH   \nDate                                                                      \n2021-12-27 00:00:00  1268500.0  2209600.0 NaN  837200.0  NaN  1221065.0   \n2021-12-28 00:00:00   772100.0  1983400.0 NaN  402400.0  NaN  1506581.0   \n2021-12-29 00:00:00  1112400.0  2269700.0 NaN  708800.0  NaN  2508771.0   \n2021-12-30 00:00:00  1119100.0  1747000.0 NaN  401400.0  NaN  1304701.0   \n2021-12-31 00:00:00        NaN        NaN NaN       NaN  NaN        NaN   \n\n                                                    \n                         ZBRA      ZION        ZTS  \nDate                                                \n2021-12-27 00:00:00  636400.0  495500.0   807000.0  \n2021-12-28 00:00:00  139500.0  497200.0  1004400.0  \n2021-12-29 00:00:00  128600.0  691600.0   939900.0  \n2021-12-30 00:00:00   87500.0  413100.0   859100.0  \n2021-12-31 00:00:00       NaN       NaN        NaN  \n\n[5 rows x 3450 columns]",
      "text/html": "<div>\n<style scoped>\n    .dataframe tbody tr th:only-of-type {\n        vertical-align: middle;\n    }\n\n    .dataframe tbody tr th {\n        vertical-align: top;\n    }\n\n    .dataframe thead tr th {\n        text-align: left;\n    }\n\n    .dataframe thead tr:last-of-type th {\n        text-align: right;\n    }\n</style>\n<table border=\"1\" class=\"dataframe\">\n  <thead>\n    <tr>\n      <th></th>\n      <th colspan=\"10\" halign=\"left\">Adj Close</th>\n      <th>...</th>\n      <th colspan=\"10\" halign=\"left\">Volume</th>\n    </tr>\n    <tr>\n      <th></th>\n      <th>A</th>\n      <th>AA</th>\n      <th>AAL</th>\n      <th>AAP</th>\n      <th>ABBV</th>\n      <th>ABC</th>\n      <th>ABK</th>\n      <th>ABMD</th>\n      <th>ABS</th>\n      <th>ACAS</th>\n      <th>...</th>\n      <th>XL</th>\n      <th>XRAY</th>\n      <th>XRX</th>\n      <th>XTO</th>\n      <th>XYL</th>\n      <th>YHOO</th>\n      <th>ZBH</th>\n      <th>ZBRA</th>\n      <th>ZION</th>\n      <th>ZTS</th>\n    </tr>\n    <tr>\n      <th>Date</th>\n      <th></th>\n      <th></th>\n      <th></th>\n      <th></th>\n      <th></th>\n      <th></th>\n      <th></th>\n      <th></th>\n      <th></th>\n      <th></th>\n      <th></th>\n      <th></th>\n      <th></th>\n      <th></th>\n      <th></th>\n      <th></th>\n      <th></th>\n      <th></th>\n      <th></th>\n      <th></th>\n      <th></th>\n    </tr>\n  </thead>\n  <tbody>\n    <tr>\n      <th>2021-12-27 00:00:00</th>\n      <td>158.531204</td>\n      <td>59.764008</td>\n      <td>18.170000</td>\n      <td>234.790527</td>\n      <td>133.029587</td>\n      <td>131.471329</td>\n      <td>NaN</td>\n      <td>357.829987</td>\n      <td>NaN</td>\n      <td>NaN</td>\n      <td>...</td>\n      <td>4187100.0</td>\n      <td>1268500.0</td>\n      <td>2209600.0</td>\n      <td>NaN</td>\n      <td>837200.0</td>\n      <td>NaN</td>\n      <td>1221065.0</td>\n      <td>636400.0</td>\n      <td>495500.0</td>\n      <td>807000.0</td>\n    </tr>\n    <tr>\n      <th>2021-12-28 00:00:00</th>\n      <td>158.970612</td>\n      <td>59.124710</td>\n      <td>18.540001</td>\n      <td>236.408752</td>\n      <td>133.009781</td>\n      <td>131.929840</td>\n      <td>NaN</td>\n      <td>357.440002</td>\n      <td>NaN</td>\n      <td>NaN</td>\n      <td>...</td>\n      <td>3164800.0</td>\n      <td>772100.0</td>\n      <td>1983400.0</td>\n      <td>NaN</td>\n      <td>402400.0</td>\n      <td>NaN</td>\n      <td>1506581.0</td>\n      <td>139500.0</td>\n      <td>497200.0</td>\n      <td>1004400.0</td>\n    </tr>\n    <tr>\n      <th>2021-12-29 00:00:00</th>\n      <td>160.438675</td>\n      <td>59.564228</td>\n      <td>18.049999</td>\n      <td>239.287781</td>\n      <td>133.969818</td>\n      <td>132.906647</td>\n      <td>NaN</td>\n      <td>361.839996</td>\n      <td>NaN</td>\n      <td>NaN</td>\n      <td>...</td>\n      <td>2692800.0</td>\n      <td>1112400.0</td>\n      <td>2269700.0</td>\n      <td>NaN</td>\n      <td>708800.0</td>\n      <td>NaN</td>\n      <td>2508771.0</td>\n      <td>128600.0</td>\n      <td>691600.0</td>\n      <td>939900.0</td>\n    </tr>\n    <tr>\n      <th>2021-12-30 00:00:00</th>\n      <td>160.668396</td>\n      <td>59.144688</td>\n      <td>18.070000</td>\n      <td>235.803162</td>\n      <td>134.533966</td>\n      <td>133.335266</td>\n      <td>NaN</td>\n      <td>362.059998</td>\n      <td>NaN</td>\n      <td>NaN</td>\n      <td>...</td>\n      <td>4984100.0</td>\n      <td>1119100.0</td>\n      <td>1747000.0</td>\n      <td>NaN</td>\n      <td>401400.0</td>\n      <td>NaN</td>\n      <td>1304701.0</td>\n      <td>87500.0</td>\n      <td>413100.0</td>\n      <td>859100.0</td>\n    </tr>\n    <tr>\n      <th>2021-12-31 00:00:00</th>\n      <td>NaN</td>\n      <td>NaN</td>\n      <td>NaN</td>\n      <td>NaN</td>\n      <td>NaN</td>\n      <td>NaN</td>\n      <td>NaN</td>\n      <td>NaN</td>\n      <td>NaN</td>\n      <td>NaN</td>\n      <td>...</td>\n      <td>NaN</td>\n      <td>NaN</td>\n      <td>NaN</td>\n      <td>NaN</td>\n      <td>NaN</td>\n      <td>NaN</td>\n      <td>NaN</td>\n      <td>NaN</td>\n      <td>NaN</td>\n      <td>NaN</td>\n    </tr>\n  </tbody>\n</table>\n<p>5 rows × 3450 columns</p>\n</div>"
     },
     "execution_count": 399,
     "metadata": {},
     "output_type": "execute_result"
    }
   ],
   "source": [
    "data.tail()\n"
   ]
  },
  {
   "cell_type": "code",
   "execution_count": 400,
   "metadata": {},
   "outputs": [],
   "source": [
    "prices = data['Adj Close']\n",
    "prices.index = pd.to_datetime(prices.index)\n",
    "monthly_return = prices.pct_change().resample('M').agg(lambda x: (x+1).prod() -1)"
   ]
  },
  {
   "cell_type": "code",
   "execution_count": 419,
   "metadata": {},
   "outputs": [
    {
     "data": {
      "text/plain": "                   A        AA  AAL  AAP  ABBV       ABC           ABK  \\\nDate                                                                     \n2000-01-31 -0.080729 -0.138996  0.0  0.0   0.0  0.164659 -2.814488e-02   \n2000-02-29  0.569404 -0.013621  0.0  0.0   0.0 -0.196552 -1.110223e-16   \n2000-03-31  0.001204  0.025547  0.0  0.0   0.0  0.030043  5.801780e-02   \n2000-04-30 -0.147837 -0.076513  0.0  0.0   0.0  0.333334  2.737196e-02   \n2000-05-31 -0.169253 -0.095731  0.0  0.0   0.0  0.212500  3.996395e-02   \n\n                ABMD  ABS  ACAS  ...   XL      XRAY       XRX  XTO  XYL  YHOO  \\\nDate                             ...                                            \n2000-01-31  0.602740  0.0   0.0  ...  0.0  0.053191 -0.136951  0.0  0.0   0.0   \n2000-02-29  0.263889  0.0   0.0  ...  0.0  0.035354  0.041916  0.0  0.0   0.0   \n2000-03-31 -0.452240  0.0   0.0  ...  0.0  0.109781  0.206497  0.0  0.0   0.0   \n2000-04-30 -0.083333  0.0   0.0  ...  0.0  0.024229  0.019231  0.0  0.0   0.0   \n2000-05-31  0.030303  0.0   0.0  ...  0.0  0.055914  0.031295  0.0  0.0   0.0   \n\n            ZBH      ZBRA      ZION  ZTS  \nDate                                      \n2000-01-31  0.0  0.051054  0.071115  0.0  \n2000-02-29  0.0  0.124604 -0.102537  0.0  \n2000-03-31  0.0 -0.248826 -0.215548  0.0  \n2000-04-30  0.0  0.140000 -0.003003  0.0  \n2000-05-31  0.0 -0.157895  0.131084  0.0  \n\n[5 rows x 575 columns]",
      "text/html": "<div>\n<style scoped>\n    .dataframe tbody tr th:only-of-type {\n        vertical-align: middle;\n    }\n\n    .dataframe tbody tr th {\n        vertical-align: top;\n    }\n\n    .dataframe thead th {\n        text-align: right;\n    }\n</style>\n<table border=\"1\" class=\"dataframe\">\n  <thead>\n    <tr style=\"text-align: right;\">\n      <th></th>\n      <th>A</th>\n      <th>AA</th>\n      <th>AAL</th>\n      <th>AAP</th>\n      <th>ABBV</th>\n      <th>ABC</th>\n      <th>ABK</th>\n      <th>ABMD</th>\n      <th>ABS</th>\n      <th>ACAS</th>\n      <th>...</th>\n      <th>XL</th>\n      <th>XRAY</th>\n      <th>XRX</th>\n      <th>XTO</th>\n      <th>XYL</th>\n      <th>YHOO</th>\n      <th>ZBH</th>\n      <th>ZBRA</th>\n      <th>ZION</th>\n      <th>ZTS</th>\n    </tr>\n    <tr>\n      <th>Date</th>\n      <th></th>\n      <th></th>\n      <th></th>\n      <th></th>\n      <th></th>\n      <th></th>\n      <th></th>\n      <th></th>\n      <th></th>\n      <th></th>\n      <th></th>\n      <th></th>\n      <th></th>\n      <th></th>\n      <th></th>\n      <th></th>\n      <th></th>\n      <th></th>\n      <th></th>\n      <th></th>\n      <th></th>\n    </tr>\n  </thead>\n  <tbody>\n    <tr>\n      <th>2000-01-31</th>\n      <td>-0.080729</td>\n      <td>-0.138996</td>\n      <td>0.0</td>\n      <td>0.0</td>\n      <td>0.0</td>\n      <td>0.164659</td>\n      <td>-2.814488e-02</td>\n      <td>0.602740</td>\n      <td>0.0</td>\n      <td>0.0</td>\n      <td>...</td>\n      <td>0.0</td>\n      <td>0.053191</td>\n      <td>-0.136951</td>\n      <td>0.0</td>\n      <td>0.0</td>\n      <td>0.0</td>\n      <td>0.0</td>\n      <td>0.051054</td>\n      <td>0.071115</td>\n      <td>0.0</td>\n    </tr>\n    <tr>\n      <th>2000-02-29</th>\n      <td>0.569404</td>\n      <td>-0.013621</td>\n      <td>0.0</td>\n      <td>0.0</td>\n      <td>0.0</td>\n      <td>-0.196552</td>\n      <td>-1.110223e-16</td>\n      <td>0.263889</td>\n      <td>0.0</td>\n      <td>0.0</td>\n      <td>...</td>\n      <td>0.0</td>\n      <td>0.035354</td>\n      <td>0.041916</td>\n      <td>0.0</td>\n      <td>0.0</td>\n      <td>0.0</td>\n      <td>0.0</td>\n      <td>0.124604</td>\n      <td>-0.102537</td>\n      <td>0.0</td>\n    </tr>\n    <tr>\n      <th>2000-03-31</th>\n      <td>0.001204</td>\n      <td>0.025547</td>\n      <td>0.0</td>\n      <td>0.0</td>\n      <td>0.0</td>\n      <td>0.030043</td>\n      <td>5.801780e-02</td>\n      <td>-0.452240</td>\n      <td>0.0</td>\n      <td>0.0</td>\n      <td>...</td>\n      <td>0.0</td>\n      <td>0.109781</td>\n      <td>0.206497</td>\n      <td>0.0</td>\n      <td>0.0</td>\n      <td>0.0</td>\n      <td>0.0</td>\n      <td>-0.248826</td>\n      <td>-0.215548</td>\n      <td>0.0</td>\n    </tr>\n    <tr>\n      <th>2000-04-30</th>\n      <td>-0.147837</td>\n      <td>-0.076513</td>\n      <td>0.0</td>\n      <td>0.0</td>\n      <td>0.0</td>\n      <td>0.333334</td>\n      <td>2.737196e-02</td>\n      <td>-0.083333</td>\n      <td>0.0</td>\n      <td>0.0</td>\n      <td>...</td>\n      <td>0.0</td>\n      <td>0.024229</td>\n      <td>0.019231</td>\n      <td>0.0</td>\n      <td>0.0</td>\n      <td>0.0</td>\n      <td>0.0</td>\n      <td>0.140000</td>\n      <td>-0.003003</td>\n      <td>0.0</td>\n    </tr>\n    <tr>\n      <th>2000-05-31</th>\n      <td>-0.169253</td>\n      <td>-0.095731</td>\n      <td>0.0</td>\n      <td>0.0</td>\n      <td>0.0</td>\n      <td>0.212500</td>\n      <td>3.996395e-02</td>\n      <td>0.030303</td>\n      <td>0.0</td>\n      <td>0.0</td>\n      <td>...</td>\n      <td>0.0</td>\n      <td>0.055914</td>\n      <td>0.031295</td>\n      <td>0.0</td>\n      <td>0.0</td>\n      <td>0.0</td>\n      <td>0.0</td>\n      <td>-0.157895</td>\n      <td>0.131084</td>\n      <td>0.0</td>\n    </tr>\n  </tbody>\n</table>\n<p>5 rows × 575 columns</p>\n</div>"
     },
     "execution_count": 419,
     "metadata": {},
     "output_type": "execute_result"
    }
   ],
   "source": [
    "monthly_return.head()"
   ]
  },
  {
   "cell_type": "code",
   "execution_count": 1220,
   "outputs": [],
   "source": [
    "past_03 = (monthly_return + 1).rolling(3).apply(np.prod) - 1\n",
    "past_06 = (monthly_return + 1).rolling(6).apply(np.prod) - 1\n",
    "past_09 = (monthly_return + 1).rolling(9).apply(np.prod) - 1\n",
    "past_12 = (monthly_return + 1).rolling(12).apply(np.prod) - 1"
   ],
   "metadata": {
    "collapsed": false,
    "pycharm": {
     "name": "#%%\n"
    }
   }
  },
  {
   "cell_type": "code",
   "execution_count": 1221,
   "outputs": [],
   "source": [
    "past_03_months = past_03.mask(past_03 == 0)\n",
    "past_06_months = past_06.mask(past_06 == 0)\n",
    "past_09_months = past_09.mask(past_09 == 0)\n",
    "past_12_months = past_12.mask(past_12 == 0)\n"
   ],
   "metadata": {
    "collapsed": false,
    "pycharm": {
     "name": "#%%\n"
    }
   }
  },
  {
   "cell_type": "code",
   "execution_count": 1222,
   "outputs": [
    {
     "data": {
      "text/plain": "datetime.datetime(2001, 1, 31, 0, 0)"
     },
     "execution_count": 1222,
     "metadata": {},
     "output_type": "execute_result"
    }
   ],
   "source": [
    "formation = dt.datetime(2001,1,31)\n",
    "formation"
   ],
   "metadata": {
    "collapsed": false,
    "pycharm": {
     "name": "#%%\n"
    }
   }
  },
  {
   "cell_type": "code",
   "execution_count": 1223,
   "outputs": [
    {
     "data": {
      "text/plain": "Timestamp('2001-04-30 00:00:00')"
     },
     "execution_count": 1223,
     "metadata": {},
     "output_type": "execute_result"
    }
   ],
   "source": [
    "begin_formation = formation + MonthEnd(3)\n",
    "begin_formation"
   ],
   "metadata": {
    "collapsed": false,
    "pycharm": {
     "name": "#%%\n"
    }
   }
  },
  {
   "cell_type": "code",
   "execution_count": 1224,
   "outputs": [
    {
     "data": {
      "text/plain": "Timestamp('2001-07-31 00:00:00')"
     },
     "execution_count": 1224,
     "metadata": {},
     "output_type": "execute_result"
    }
   ],
   "source": [
    "end_measurement = begin_formation + MonthEnd(3)\n",
    "end_measurement"
   ],
   "metadata": {
    "collapsed": false,
    "pycharm": {
     "name": "#%%\n"
    }
   }
  },
  {
   "cell_type": "code",
   "execution_count": 1225,
   "outputs": [],
   "source": [
    "price_end = monthly_return.loc[end_measurement]"
   ],
   "metadata": {
    "collapsed": false,
    "pycharm": {
     "name": "#%%\n"
    }
   }
  },
  {
   "cell_type": "code",
   "execution_count": 1226,
   "outputs": [
    {
     "data": {
      "text/plain": "A      -0.119693\nAA     -0.019250\nAAL     0.000000\nAAP     0.000000\nABBV    0.000000\n          ...   \nYHOO    0.000000\nZBH    -0.038978\nZBRA   -0.139862\nZION   -0.009322\nZTS     0.000000\nName: 2001-07-31 00:00:00, Length: 575, dtype: float64"
     },
     "execution_count": 1226,
     "metadata": {},
     "output_type": "execute_result"
    }
   ],
   "source": [
    "price_end"
   ],
   "metadata": {
    "collapsed": false,
    "pycharm": {
     "name": "#%%\n"
    }
   }
  },
  {
   "cell_type": "code",
   "execution_count": 1227,
   "outputs": [
    {
     "data": {
      "text/plain": "    index  2001-07-31 00:00:00\n0       A            -0.297914\n1      AA             0.318125\n2     AAL                  NaN\n3     AAP                  NaN\n4    ABBV                  NaN\n..    ...                  ...\n570  YHOO                  NaN\n571   ZBH            -0.038978\n572  ZBRA            -0.172583\n573  ZION             0.356662\n574   ZTS                  NaN\n\n[575 rows x 2 columns]",
      "text/html": "<div>\n<style scoped>\n    .dataframe tbody tr th:only-of-type {\n        vertical-align: middle;\n    }\n\n    .dataframe tbody tr th {\n        vertical-align: top;\n    }\n\n    .dataframe thead th {\n        text-align: right;\n    }\n</style>\n<table border=\"1\" class=\"dataframe\">\n  <thead>\n    <tr style=\"text-align: right;\">\n      <th></th>\n      <th>index</th>\n      <th>2001-07-31 00:00:00</th>\n    </tr>\n  </thead>\n  <tbody>\n    <tr>\n      <th>0</th>\n      <td>A</td>\n      <td>-0.297914</td>\n    </tr>\n    <tr>\n      <th>1</th>\n      <td>AA</td>\n      <td>0.318125</td>\n    </tr>\n    <tr>\n      <th>2</th>\n      <td>AAL</td>\n      <td>NaN</td>\n    </tr>\n    <tr>\n      <th>3</th>\n      <td>AAP</td>\n      <td>NaN</td>\n    </tr>\n    <tr>\n      <th>4</th>\n      <td>ABBV</td>\n      <td>NaN</td>\n    </tr>\n    <tr>\n      <th>...</th>\n      <td>...</td>\n      <td>...</td>\n    </tr>\n    <tr>\n      <th>570</th>\n      <td>YHOO</td>\n      <td>NaN</td>\n    </tr>\n    <tr>\n      <th>571</th>\n      <td>ZBH</td>\n      <td>-0.038978</td>\n    </tr>\n    <tr>\n      <th>572</th>\n      <td>ZBRA</td>\n      <td>-0.172583</td>\n    </tr>\n    <tr>\n      <th>573</th>\n      <td>ZION</td>\n      <td>0.356662</td>\n    </tr>\n    <tr>\n      <th>574</th>\n      <td>ZTS</td>\n      <td>NaN</td>\n    </tr>\n  </tbody>\n</table>\n<p>575 rows × 2 columns</p>\n</div>"
     },
     "execution_count": 1227,
     "metadata": {},
     "output_type": "execute_result"
    }
   ],
   "source": [
    "return_12 = past_12_months.loc[end_measurement]\n",
    "return_12 = return_12.reset_index()\n",
    "return_12"
   ],
   "metadata": {
    "collapsed": false,
    "pycharm": {
     "name": "#%%\n"
    }
   }
  },
  {
   "cell_type": "code",
   "execution_count": 1228,
   "outputs": [
    {
     "data": {
      "text/plain": "    index  2001-07-31 00:00:00  decile\n0       A            -0.297914     1.0\n1      AA             0.318125     6.0\n2     AAL                  NaN     NaN\n3     AAP                  NaN     NaN\n4    ABBV                  NaN     NaN\n..    ...                  ...     ...\n570  YHOO                  NaN     NaN\n571   ZBH            -0.038978     2.0\n572  ZBRA            -0.172583     1.0\n573  ZION             0.356662     6.0\n574   ZTS                  NaN     NaN\n\n[575 rows x 3 columns]",
      "text/html": "<div>\n<style scoped>\n    .dataframe tbody tr th:only-of-type {\n        vertical-align: middle;\n    }\n\n    .dataframe tbody tr th {\n        vertical-align: top;\n    }\n\n    .dataframe thead th {\n        text-align: right;\n    }\n</style>\n<table border=\"1\" class=\"dataframe\">\n  <thead>\n    <tr style=\"text-align: right;\">\n      <th></th>\n      <th>index</th>\n      <th>2001-07-31 00:00:00</th>\n      <th>decile</th>\n    </tr>\n  </thead>\n  <tbody>\n    <tr>\n      <th>0</th>\n      <td>A</td>\n      <td>-0.297914</td>\n      <td>1.0</td>\n    </tr>\n    <tr>\n      <th>1</th>\n      <td>AA</td>\n      <td>0.318125</td>\n      <td>6.0</td>\n    </tr>\n    <tr>\n      <th>2</th>\n      <td>AAL</td>\n      <td>NaN</td>\n      <td>NaN</td>\n    </tr>\n    <tr>\n      <th>3</th>\n      <td>AAP</td>\n      <td>NaN</td>\n      <td>NaN</td>\n    </tr>\n    <tr>\n      <th>4</th>\n      <td>ABBV</td>\n      <td>NaN</td>\n      <td>NaN</td>\n    </tr>\n    <tr>\n      <th>...</th>\n      <td>...</td>\n      <td>...</td>\n      <td>...</td>\n    </tr>\n    <tr>\n      <th>570</th>\n      <td>YHOO</td>\n      <td>NaN</td>\n      <td>NaN</td>\n    </tr>\n    <tr>\n      <th>571</th>\n      <td>ZBH</td>\n      <td>-0.038978</td>\n      <td>2.0</td>\n    </tr>\n    <tr>\n      <th>572</th>\n      <td>ZBRA</td>\n      <td>-0.172583</td>\n      <td>1.0</td>\n    </tr>\n    <tr>\n      <th>573</th>\n      <td>ZION</td>\n      <td>0.356662</td>\n      <td>6.0</td>\n    </tr>\n    <tr>\n      <th>574</th>\n      <td>ZTS</td>\n      <td>NaN</td>\n      <td>NaN</td>\n    </tr>\n  </tbody>\n</table>\n<p>575 rows × 3 columns</p>\n</div>"
     },
     "execution_count": 1228,
     "metadata": {},
     "output_type": "execute_result"
    }
   ],
   "source": [
    "return_12['decile'] = pd.qcut(return_12.iloc[:,1], q=10 , labels=False, duplicates='drop')\n",
    "return_12"
   ],
   "metadata": {
    "collapsed": false,
    "pycharm": {
     "name": "#%%\n"
    }
   }
  },
  {
   "cell_type": "code",
   "execution_count": 1229,
   "outputs": [
    {
     "data": {
      "text/plain": "A       0.269444\nAA      0.151599\nAAL     0.000000\nAAP     0.000000\nABBV    0.000000\n          ...   \nYHOO    0.000000\nZBH     0.000000\nZBRA    0.134689\nZION    0.023037\nZTS     0.000000\nName: 2001-04-30 00:00:00, Length: 575, dtype: float64"
     },
     "execution_count": 1229,
     "metadata": {},
     "output_type": "execute_result"
    }
   ],
   "source": [
    "price_12mbefore = monthly_return.loc[begin_formation]\n",
    "price_12mbefore"
   ],
   "metadata": {
    "collapsed": false,
    "pycharm": {
     "name": "#%%\n"
    }
   }
  },
  {
   "cell_type": "code",
   "execution_count": 1230,
   "outputs": [
    {
     "data": {
      "text/plain": "    index  2001-07-31 00:00:00  decile\n37    ANF             1.426251     9.0\n51   ATVI             2.876571     9.0\n66    BIO             1.073651     9.0\n76    BRO             1.032341     9.0\n122  CPRT             1.141887     9.0",
      "text/html": "<div>\n<style scoped>\n    .dataframe tbody tr th:only-of-type {\n        vertical-align: middle;\n    }\n\n    .dataframe tbody tr th {\n        vertical-align: top;\n    }\n\n    .dataframe thead th {\n        text-align: right;\n    }\n</style>\n<table border=\"1\" class=\"dataframe\">\n  <thead>\n    <tr style=\"text-align: right;\">\n      <th></th>\n      <th>index</th>\n      <th>2001-07-31 00:00:00</th>\n      <th>decile</th>\n    </tr>\n  </thead>\n  <tbody>\n    <tr>\n      <th>37</th>\n      <td>ANF</td>\n      <td>1.426251</td>\n      <td>9.0</td>\n    </tr>\n    <tr>\n      <th>51</th>\n      <td>ATVI</td>\n      <td>2.876571</td>\n      <td>9.0</td>\n    </tr>\n    <tr>\n      <th>66</th>\n      <td>BIO</td>\n      <td>1.073651</td>\n      <td>9.0</td>\n    </tr>\n    <tr>\n      <th>76</th>\n      <td>BRO</td>\n      <td>1.032341</td>\n      <td>9.0</td>\n    </tr>\n    <tr>\n      <th>122</th>\n      <td>CPRT</td>\n      <td>1.141887</td>\n      <td>9.0</td>\n    </tr>\n  </tbody>\n</table>\n</div>"
     },
     "execution_count": 1230,
     "metadata": {},
     "output_type": "execute_result"
    }
   ],
   "source": [
    "winners = return_12[return_12['decile'] == 9]\n",
    "winners.head()"
   ],
   "metadata": {
    "collapsed": false,
    "pycharm": {
     "name": "#%%\n"
    }
   }
  },
  {
   "cell_type": "code",
   "execution_count": 1231,
   "outputs": [
    {
     "data": {
      "text/plain": "   index  2001-07-31 00:00:00  decile\n19  AKAM            -0.901724     0.0\n22  ALGN            -0.557926     0.0\n28   AMD            -0.492778     0.0\n32   AMT            -0.604665     0.0\n33  AMZN            -0.585394     0.0",
      "text/html": "<div>\n<style scoped>\n    .dataframe tbody tr th:only-of-type {\n        vertical-align: middle;\n    }\n\n    .dataframe tbody tr th {\n        vertical-align: top;\n    }\n\n    .dataframe thead th {\n        text-align: right;\n    }\n</style>\n<table border=\"1\" class=\"dataframe\">\n  <thead>\n    <tr style=\"text-align: right;\">\n      <th></th>\n      <th>index</th>\n      <th>2001-07-31 00:00:00</th>\n      <th>decile</th>\n    </tr>\n  </thead>\n  <tbody>\n    <tr>\n      <th>19</th>\n      <td>AKAM</td>\n      <td>-0.901724</td>\n      <td>0.0</td>\n    </tr>\n    <tr>\n      <th>22</th>\n      <td>ALGN</td>\n      <td>-0.557926</td>\n      <td>0.0</td>\n    </tr>\n    <tr>\n      <th>28</th>\n      <td>AMD</td>\n      <td>-0.492778</td>\n      <td>0.0</td>\n    </tr>\n    <tr>\n      <th>32</th>\n      <td>AMT</td>\n      <td>-0.604665</td>\n      <td>0.0</td>\n    </tr>\n    <tr>\n      <th>33</th>\n      <td>AMZN</td>\n      <td>-0.585394</td>\n      <td>0.0</td>\n    </tr>\n  </tbody>\n</table>\n</div>"
     },
     "execution_count": 1231,
     "metadata": {},
     "output_type": "execute_result"
    }
   ],
   "source": [
    "losers= return_12[return_12['decile'] == 0]\n",
    "losers.head()"
   ],
   "metadata": {
    "collapsed": false,
    "pycharm": {
     "name": "#%%\n"
    }
   }
  },
  {
   "cell_type": "code",
   "execution_count": 1232,
   "outputs": [
    {
     "data": {
      "text/plain": "ANF    -0.048642\nATVI    0.265517\nBIO    -0.159472\nBRO     0.134575\nCPRT    0.006644\nName: 2001-02-28 00:00:00, dtype: float64"
     },
     "execution_count": 1232,
     "metadata": {},
     "output_type": "execute_result"
    }
   ],
   "source": [
    "winner_ret = monthly_return.loc[formation+MonthEnd(1),monthly_return.columns.isin(winners['index'])]\n",
    "winner_ret.head()\n"
   ],
   "metadata": {
    "collapsed": false,
    "pycharm": {
     "name": "#%%\n"
    }
   }
  },
  {
   "cell_type": "code",
   "execution_count": 1232,
   "outputs": [],
   "source": [],
   "metadata": {
    "collapsed": false,
    "pycharm": {
     "name": "#%%\n"
    }
   }
  },
  {
   "cell_type": "code",
   "execution_count": 1233,
   "outputs": [],
   "source": [
    "def mom(begin_measurement, holdingperiod =1, formation_period =1  ):\n",
    "    end_measurement = begin_formation + MonthEnd(formation_period)\n",
    "    if formation_period ==3 :\n",
    "        returns = past_03_months.loc[end_measurement]\n",
    "    elif formation_period == 6:\n",
    "        returns = past_06_months.loc[end_measurement]\n",
    "    elif formation_period == 9:\n",
    "        returns = past_09_months.loc[end_measurement]\n",
    "    else: returns = past_12_months.loc[end_measurement]\n",
    "    returns = returns.reset_index()\n",
    "    returns['decile'] = pd.qcut(returns.iloc[:,1], q=10 , labels=False, duplicates='drop')\n",
    "    winners = returns[returns['decile'] == 9]\n",
    "    losers= returns[returns['decile'] == 0]\n",
    "    winner_ret = monthly_return.loc[formation+MonthEnd(holdingperiod),monthly_return.columns.isin(winners['index'])]\n",
    "    losers_ret = monthly_return.loc[formation+MonthEnd(holdingperiod),monthly_return.columns.isin(losers['index'])]\n",
    "    momentum_profit = winner_ret.mean() - losers_ret.mean()\n",
    "    return momentum_profit\n",
    "\n"
   ],
   "metadata": {
    "collapsed": false,
    "pycharm": {
     "name": "#%%\n"
    }
   }
  },
  {
   "cell_type": "code",
   "execution_count": 1234,
   "outputs": [],
   "source": [
    "j1 = [3,6,9,12]\n",
    "k2 = [12,9,6,3]\n"
   ],
   "metadata": {
    "collapsed": false,
    "pycharm": {
     "name": "#%%\n"
    }
   }
  },
  {
   "cell_type": "code",
   "execution_count": 1235,
   "outputs": [],
   "source": [
    "# cols = []\n",
    "# cols.append('dates')\n",
    "# for j in j1:\n",
    "#     for k in j1:\n",
    "#         cols.append(f'J:{j}, K:{k}')\n",
    "# cols"
   ],
   "metadata": {
    "collapsed": false,
    "pycharm": {
     "name": "#%%\n"
    }
   }
  },
  {
   "cell_type": "code",
   "execution_count": 1235,
   "outputs": [],
   "source": [],
   "metadata": {
    "collapsed": false,
    "pycharm": {
     "name": "#%%\n"
    }
   }
  },
  {
   "cell_type": "code",
   "execution_count": 1236,
   "outputs": [],
   "source": [
    "dates=[]\n",
    "profits=[]\n",
    "cols2 = []\n",
    "for i in range (240):\n",
    "    begin_formation = formation + MonthEnd(i)\n",
    "    for j in j1:\n",
    "        for k in j1:\n",
    "            profits.append(mom(begin_formation,j,k))\n",
    "            dates.append(begin_formation)\n",
    "            cols2.append(f'J:{j}, K:{k}')"
   ],
   "metadata": {
    "collapsed": false,
    "pycharm": {
     "name": "#%%\n"
    }
   }
  },
  {
   "cell_type": "code",
   "execution_count": 1237,
   "outputs": [],
   "source": [
    "\n",
    "df_porfits = pd.DataFrame(profits,columns=['profits'])\n"
   ],
   "metadata": {
    "collapsed": false,
    "pycharm": {
     "name": "#%%\n"
    }
   }
  },
  {
   "cell_type": "code",
   "execution_count": 1238,
   "outputs": [
    {
     "data": {
      "text/plain": "3840"
     },
     "execution_count": 1238,
     "metadata": {},
     "output_type": "execute_result"
    }
   ],
   "source": [
    "len(profits)"
   ],
   "metadata": {
    "collapsed": false,
    "pycharm": {
     "name": "#%%\n"
    }
   }
  },
  {
   "cell_type": "code",
   "execution_count": 1239,
   "outputs": [],
   "source": [
    "df = pd.DataFrame()\n",
    "df['dates'] = dates"
   ],
   "metadata": {
    "collapsed": false,
    "pycharm": {
     "name": "#%%\n"
    }
   }
  },
  {
   "cell_type": "code",
   "execution_count": 1240,
   "outputs": [],
   "source": [
    "df['port'] = cols2"
   ],
   "metadata": {
    "collapsed": false,
    "pycharm": {
     "name": "#%%\n"
    }
   }
  },
  {
   "cell_type": "code",
   "execution_count": 1241,
   "outputs": [],
   "source": [
    "df['returns'] = profits"
   ],
   "metadata": {
    "collapsed": false,
    "pycharm": {
     "name": "#%%\n"
    }
   }
  },
  {
   "cell_type": "code",
   "execution_count": 1242,
   "outputs": [
    {
     "data": {
      "text/plain": "          dates        port   returns\n1919 2010-12-31  J:12, K:12  0.017804\n1551 2009-01-31  J:12, K:12 -0.027517\n1535 2008-12-31  J:12, K:12 -0.016082\n1519 2008-11-30  J:12, K:12  0.008490\n1503 2008-10-31  J:12, K:12  0.018464\n...         ...         ...       ...\n1706 2009-11-30    J:9, K:9 -0.038772\n330  2002-09-30    J:9, K:9  0.123686\n3610 2019-10-31    J:9, K:9  0.014196\n1482 2008-09-30    J:9, K:9  0.107700\n1242 2007-06-30    J:9, K:9  0.076349\n\n[3840 rows x 3 columns]",
      "text/html": "<div>\n<style scoped>\n    .dataframe tbody tr th:only-of-type {\n        vertical-align: middle;\n    }\n\n    .dataframe tbody tr th {\n        vertical-align: top;\n    }\n\n    .dataframe thead th {\n        text-align: right;\n    }\n</style>\n<table border=\"1\" class=\"dataframe\">\n  <thead>\n    <tr style=\"text-align: right;\">\n      <th></th>\n      <th>dates</th>\n      <th>port</th>\n      <th>returns</th>\n    </tr>\n  </thead>\n  <tbody>\n    <tr>\n      <th>1919</th>\n      <td>2010-12-31</td>\n      <td>J:12, K:12</td>\n      <td>0.017804</td>\n    </tr>\n    <tr>\n      <th>1551</th>\n      <td>2009-01-31</td>\n      <td>J:12, K:12</td>\n      <td>-0.027517</td>\n    </tr>\n    <tr>\n      <th>1535</th>\n      <td>2008-12-31</td>\n      <td>J:12, K:12</td>\n      <td>-0.016082</td>\n    </tr>\n    <tr>\n      <th>1519</th>\n      <td>2008-11-30</td>\n      <td>J:12, K:12</td>\n      <td>0.008490</td>\n    </tr>\n    <tr>\n      <th>1503</th>\n      <td>2008-10-31</td>\n      <td>J:12, K:12</td>\n      <td>0.018464</td>\n    </tr>\n    <tr>\n      <th>...</th>\n      <td>...</td>\n      <td>...</td>\n      <td>...</td>\n    </tr>\n    <tr>\n      <th>1706</th>\n      <td>2009-11-30</td>\n      <td>J:9, K:9</td>\n      <td>-0.038772</td>\n    </tr>\n    <tr>\n      <th>330</th>\n      <td>2002-09-30</td>\n      <td>J:9, K:9</td>\n      <td>0.123686</td>\n    </tr>\n    <tr>\n      <th>3610</th>\n      <td>2019-10-31</td>\n      <td>J:9, K:9</td>\n      <td>0.014196</td>\n    </tr>\n    <tr>\n      <th>1482</th>\n      <td>2008-09-30</td>\n      <td>J:9, K:9</td>\n      <td>0.107700</td>\n    </tr>\n    <tr>\n      <th>1242</th>\n      <td>2007-06-30</td>\n      <td>J:9, K:9</td>\n      <td>0.076349</td>\n    </tr>\n  </tbody>\n</table>\n<p>3840 rows × 3 columns</p>\n</div>"
     },
     "execution_count": 1242,
     "metadata": {},
     "output_type": "execute_result"
    }
   ],
   "source": [
    "df = df.sort_values(by='port')\n",
    "df"
   ],
   "metadata": {
    "collapsed": false,
    "pycharm": {
     "name": "#%%\n"
    }
   }
  },
  {
   "cell_type": "code",
   "execution_count": 1243,
   "outputs": [
    {
     "data": {
      "text/plain": "             returns\nport                \nJ:6, K:12   0.000830\nJ:6, K:3    0.001368\nJ:6, K:6    0.002289\nJ:3, K:3    0.002436\nJ:3, K:6    0.002545\nJ:6, K:9    0.002757\nJ:9, K:3    0.004306\nJ:9, K:6    0.005098\nJ:12, K:3   0.006184\nJ:3, K:9    0.008098\nJ:9, K:9    0.008525\nJ:12, K:6   0.009917\nJ:9, K:12   0.010360\nJ:12, K:9   0.010713\nJ:12, K:12  0.011212\nJ:3, K:12   0.011947",
      "text/html": "<div>\n<style scoped>\n    .dataframe tbody tr th:only-of-type {\n        vertical-align: middle;\n    }\n\n    .dataframe tbody tr th {\n        vertical-align: top;\n    }\n\n    .dataframe thead th {\n        text-align: right;\n    }\n</style>\n<table border=\"1\" class=\"dataframe\">\n  <thead>\n    <tr style=\"text-align: right;\">\n      <th></th>\n      <th>returns</th>\n    </tr>\n    <tr>\n      <th>port</th>\n      <th></th>\n    </tr>\n  </thead>\n  <tbody>\n    <tr>\n      <th>J:6, K:12</th>\n      <td>0.000830</td>\n    </tr>\n    <tr>\n      <th>J:6, K:3</th>\n      <td>0.001368</td>\n    </tr>\n    <tr>\n      <th>J:6, K:6</th>\n      <td>0.002289</td>\n    </tr>\n    <tr>\n      <th>J:3, K:3</th>\n      <td>0.002436</td>\n    </tr>\n    <tr>\n      <th>J:3, K:6</th>\n      <td>0.002545</td>\n    </tr>\n    <tr>\n      <th>J:6, K:9</th>\n      <td>0.002757</td>\n    </tr>\n    <tr>\n      <th>J:9, K:3</th>\n      <td>0.004306</td>\n    </tr>\n    <tr>\n      <th>J:9, K:6</th>\n      <td>0.005098</td>\n    </tr>\n    <tr>\n      <th>J:12, K:3</th>\n      <td>0.006184</td>\n    </tr>\n    <tr>\n      <th>J:3, K:9</th>\n      <td>0.008098</td>\n    </tr>\n    <tr>\n      <th>J:9, K:9</th>\n      <td>0.008525</td>\n    </tr>\n    <tr>\n      <th>J:12, K:6</th>\n      <td>0.009917</td>\n    </tr>\n    <tr>\n      <th>J:9, K:12</th>\n      <td>0.010360</td>\n    </tr>\n    <tr>\n      <th>J:12, K:9</th>\n      <td>0.010713</td>\n    </tr>\n    <tr>\n      <th>J:12, K:12</th>\n      <td>0.011212</td>\n    </tr>\n    <tr>\n      <th>J:3, K:12</th>\n      <td>0.011947</td>\n    </tr>\n  </tbody>\n</table>\n</div>"
     },
     "execution_count": 1243,
     "metadata": {},
     "output_type": "execute_result"
    }
   ],
   "source": [
    "df = df.groupby('port').mean()\n",
    "df = df.sort_values('returns' , ascending=True)\n",
    "df"
   ],
   "metadata": {
    "collapsed": false,
    "pycharm": {
     "name": "#%%\n"
    }
   }
  },
  {
   "cell_type": "code",
   "execution_count": 1250,
   "outputs": [
    {
     "data": {
      "text/plain": "             returns  returns_an  returns_annualized\nport                                                \nJ:6, K:12   0.000830    1.001015            1.001015\nJ:6, K:3    0.001368    1.654113            1.654113\nJ:6, K:6    0.002289    2.782184            2.782184\nJ:3, K:3    0.002436    2.962520            2.962520\nJ:3, K:6    0.002545    3.097325            3.097325\nJ:6, K:9    0.002757    3.358616            3.358616\nJ:9, K:3    0.004306    5.291875            5.291875\nJ:9, K:6    0.005098    6.292500            6.292500\nJ:12, K:3   0.006184    7.677999            7.677999\nJ:3, K:9    0.008098   10.161798           10.161798\nJ:9, K:9    0.008525   10.723445           10.723445\nJ:12, K:6   0.009917   12.571702           12.571702\nJ:9, K:12   0.010360   13.165668           13.165668\nJ:12, K:9   0.010713   13.640716           13.640716\nJ:12, K:12  0.011212   14.315785           14.315785\nJ:3, K:12   0.011947   15.317579           15.317579",
      "text/html": "<div>\n<style scoped>\n    .dataframe tbody tr th:only-of-type {\n        vertical-align: middle;\n    }\n\n    .dataframe tbody tr th {\n        vertical-align: top;\n    }\n\n    .dataframe thead th {\n        text-align: right;\n    }\n</style>\n<table border=\"1\" class=\"dataframe\">\n  <thead>\n    <tr style=\"text-align: right;\">\n      <th></th>\n      <th>returns</th>\n      <th>returns_an</th>\n      <th>returns_annualized</th>\n    </tr>\n    <tr>\n      <th>port</th>\n      <th></th>\n      <th></th>\n      <th></th>\n    </tr>\n  </thead>\n  <tbody>\n    <tr>\n      <th>J:6, K:12</th>\n      <td>0.000830</td>\n      <td>1.001015</td>\n      <td>1.001015</td>\n    </tr>\n    <tr>\n      <th>J:6, K:3</th>\n      <td>0.001368</td>\n      <td>1.654113</td>\n      <td>1.654113</td>\n    </tr>\n    <tr>\n      <th>J:6, K:6</th>\n      <td>0.002289</td>\n      <td>2.782184</td>\n      <td>2.782184</td>\n    </tr>\n    <tr>\n      <th>J:3, K:3</th>\n      <td>0.002436</td>\n      <td>2.962520</td>\n      <td>2.962520</td>\n    </tr>\n    <tr>\n      <th>J:3, K:6</th>\n      <td>0.002545</td>\n      <td>3.097325</td>\n      <td>3.097325</td>\n    </tr>\n    <tr>\n      <th>J:6, K:9</th>\n      <td>0.002757</td>\n      <td>3.358616</td>\n      <td>3.358616</td>\n    </tr>\n    <tr>\n      <th>J:9, K:3</th>\n      <td>0.004306</td>\n      <td>5.291875</td>\n      <td>5.291875</td>\n    </tr>\n    <tr>\n      <th>J:9, K:6</th>\n      <td>0.005098</td>\n      <td>6.292500</td>\n      <td>6.292500</td>\n    </tr>\n    <tr>\n      <th>J:12, K:3</th>\n      <td>0.006184</td>\n      <td>7.677999</td>\n      <td>7.677999</td>\n    </tr>\n    <tr>\n      <th>J:3, K:9</th>\n      <td>0.008098</td>\n      <td>10.161798</td>\n      <td>10.161798</td>\n    </tr>\n    <tr>\n      <th>J:9, K:9</th>\n      <td>0.008525</td>\n      <td>10.723445</td>\n      <td>10.723445</td>\n    </tr>\n    <tr>\n      <th>J:12, K:6</th>\n      <td>0.009917</td>\n      <td>12.571702</td>\n      <td>12.571702</td>\n    </tr>\n    <tr>\n      <th>J:9, K:12</th>\n      <td>0.010360</td>\n      <td>13.165668</td>\n      <td>13.165668</td>\n    </tr>\n    <tr>\n      <th>J:12, K:9</th>\n      <td>0.010713</td>\n      <td>13.640716</td>\n      <td>13.640716</td>\n    </tr>\n    <tr>\n      <th>J:12, K:12</th>\n      <td>0.011212</td>\n      <td>14.315785</td>\n      <td>14.315785</td>\n    </tr>\n    <tr>\n      <th>J:3, K:12</th>\n      <td>0.011947</td>\n      <td>15.317579</td>\n      <td>15.317579</td>\n    </tr>\n  </tbody>\n</table>\n</div>"
     },
     "execution_count": 1250,
     "metadata": {},
     "output_type": "execute_result"
    }
   ],
   "source": [
    "df['returns_annualized'] = ((df['returns'] + 1)**12 -1) *100\n",
    "df"
   ],
   "metadata": {
    "collapsed": false,
    "pycharm": {
     "name": "#%%\n"
    }
   }
  },
  {
   "cell_type": "code",
   "execution_count": 1251,
   "outputs": [
    {
     "data": {
      "text/plain": "             returns  returns_an  returns_annualized\nport                                                \nJ:6, K:12   0.000830    1.001015            1.001015\nJ:6, K:3    0.001368    1.654113            1.654113\nJ:6, K:6    0.002289    2.782184            2.782184\nJ:3, K:3    0.002436    2.962520            2.962520\nJ:3, K:6    0.002545    3.097325            3.097325\nJ:6, K:9    0.002757    3.358616            3.358616\nJ:9, K:3    0.004306    5.291875            5.291875\nJ:9, K:6    0.005098    6.292500            6.292500\nJ:12, K:3   0.006184    7.677999            7.677999\nJ:3, K:9    0.008098   10.161798           10.161798\nJ:9, K:9    0.008525   10.723445           10.723445\nJ:12, K:6   0.009917   12.571702           12.571702\nJ:9, K:12   0.010360   13.165668           13.165668\nJ:12, K:9   0.010713   13.640716           13.640716\nJ:12, K:12  0.011212   14.315785           14.315785\nJ:3, K:12   0.011947   15.317579           15.317579",
      "text/html": "<div>\n<style scoped>\n    .dataframe tbody tr th:only-of-type {\n        vertical-align: middle;\n    }\n\n    .dataframe tbody tr th {\n        vertical-align: top;\n    }\n\n    .dataframe thead th {\n        text-align: right;\n    }\n</style>\n<table border=\"1\" class=\"dataframe\">\n  <thead>\n    <tr style=\"text-align: right;\">\n      <th></th>\n      <th>returns</th>\n      <th>returns_an</th>\n      <th>returns_annualized</th>\n    </tr>\n    <tr>\n      <th>port</th>\n      <th></th>\n      <th></th>\n      <th></th>\n    </tr>\n  </thead>\n  <tbody>\n    <tr>\n      <th>J:6, K:12</th>\n      <td>0.000830</td>\n      <td>1.001015</td>\n      <td>1.001015</td>\n    </tr>\n    <tr>\n      <th>J:6, K:3</th>\n      <td>0.001368</td>\n      <td>1.654113</td>\n      <td>1.654113</td>\n    </tr>\n    <tr>\n      <th>J:6, K:6</th>\n      <td>0.002289</td>\n      <td>2.782184</td>\n      <td>2.782184</td>\n    </tr>\n    <tr>\n      <th>J:3, K:3</th>\n      <td>0.002436</td>\n      <td>2.962520</td>\n      <td>2.962520</td>\n    </tr>\n    <tr>\n      <th>J:3, K:6</th>\n      <td>0.002545</td>\n      <td>3.097325</td>\n      <td>3.097325</td>\n    </tr>\n    <tr>\n      <th>J:6, K:9</th>\n      <td>0.002757</td>\n      <td>3.358616</td>\n      <td>3.358616</td>\n    </tr>\n    <tr>\n      <th>J:9, K:3</th>\n      <td>0.004306</td>\n      <td>5.291875</td>\n      <td>5.291875</td>\n    </tr>\n    <tr>\n      <th>J:9, K:6</th>\n      <td>0.005098</td>\n      <td>6.292500</td>\n      <td>6.292500</td>\n    </tr>\n    <tr>\n      <th>J:12, K:3</th>\n      <td>0.006184</td>\n      <td>7.677999</td>\n      <td>7.677999</td>\n    </tr>\n    <tr>\n      <th>J:3, K:9</th>\n      <td>0.008098</td>\n      <td>10.161798</td>\n      <td>10.161798</td>\n    </tr>\n    <tr>\n      <th>J:9, K:9</th>\n      <td>0.008525</td>\n      <td>10.723445</td>\n      <td>10.723445</td>\n    </tr>\n    <tr>\n      <th>J:12, K:6</th>\n      <td>0.009917</td>\n      <td>12.571702</td>\n      <td>12.571702</td>\n    </tr>\n    <tr>\n      <th>J:9, K:12</th>\n      <td>0.010360</td>\n      <td>13.165668</td>\n      <td>13.165668</td>\n    </tr>\n    <tr>\n      <th>J:12, K:9</th>\n      <td>0.010713</td>\n      <td>13.640716</td>\n      <td>13.640716</td>\n    </tr>\n    <tr>\n      <th>J:12, K:12</th>\n      <td>0.011212</td>\n      <td>14.315785</td>\n      <td>14.315785</td>\n    </tr>\n    <tr>\n      <th>J:3, K:12</th>\n      <td>0.011947</td>\n      <td>15.317579</td>\n      <td>15.317579</td>\n    </tr>\n  </tbody>\n</table>\n</div>"
     },
     "execution_count": 1251,
     "metadata": {},
     "output_type": "execute_result"
    }
   ],
   "source": [],
   "metadata": {
    "collapsed": false,
    "pycharm": {
     "name": "#%%\n"
    }
   }
  },
  {
   "cell_type": "code",
   "execution_count": null,
   "outputs": [],
   "source": [],
   "metadata": {
    "collapsed": false,
    "pycharm": {
     "name": "#%%\n"
    }
   }
  }
 ],
 "metadata": {
  "kernelspec": {
   "display_name": "Python 3 (ipykernel)",
   "language": "python",
   "name": "python3"
  },
  "language_info": {
   "codemirror_mode": {
    "name": "ipython",
    "version": 3
   },
   "file_extension": ".py",
   "mimetype": "text/x-python",
   "name": "python",
   "nbconvert_exporter": "python",
   "pygments_lexer": "ipython3",
   "version": "3.9.7"
  }
 },
 "nbformat": 4,
 "nbformat_minor": 1
}