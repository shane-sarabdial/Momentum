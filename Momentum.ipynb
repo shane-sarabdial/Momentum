{
 "cells": [
  {
   "cell_type": "code",
   "execution_count": 1,
   "metadata": {},
   "outputs": [],
   "source": [
    "import yfinance as yf\n",
    "import numpy as np\n",
    "import pandas as pd\n",
    "import datetime as dt\n",
    "from pandas.tseries.offsets import MonthEnd\n",
    "from yahooquery import Ticker\n"
   ]
  },
  {
   "cell_type": "code",
   "execution_count": 2,
   "metadata": {
    "pycharm": {
     "name": "#%%\n"
    }
   },
   "outputs": [],
   "source": [
    "uni = pd.read_csv('S&P500 from 2000-2021')"
   ]
  },
  {
   "cell_type": "code",
   "execution_count": 3,
   "metadata": {
    "pycharm": {
     "name": "#%%\n"
    }
   },
   "outputs": [],
   "source": [
    "tickers = uni.ticker.to_list()"
   ]
  },
  {
   "cell_type": "code",
   "execution_count": 4,
   "metadata": {
    "pycharm": {
     "name": "#%%\n"
    }
   },
   "outputs": [
    {
     "data": {
      "text/plain": "653"
     },
     "execution_count": 4,
     "metadata": {},
     "output_type": "execute_result"
    }
   ],
   "source": [
    "len(tickers)\n"
   ]
  },
  {
   "cell_type": "code",
   "execution_count": 5,
   "metadata": {
    "pycharm": {
     "name": "#%%\n"
    }
   },
   "outputs": [
    {
     "name": "stdout",
     "output_type": "stream",
     "text": [
      "[*********************100%***********************]  575 of 575 completed\n",
      "\n",
      "129 Failed downloads:\n",
      "- FDO: No data found for this date range, symbol may be delisted\n",
      "- RHT: No data found, symbol may be delisted\n",
      "- CAM: No data found for this date range, symbol may be delisted\n",
      "- TSO: No data found for this date range, symbol may be delisted\n",
      "- BJS: No data found for this date range, symbol may be delisted\n",
      "- LLTC: No data found for this date range, symbol may be delisted\n",
      "- KORS: No data found for this date range, symbol may be delisted\n",
      "- PGN: No data found for this date range, symbol may be delisted\n",
      "- BXLT: No data found for this date range, symbol may be delisted\n",
      "- QEP: No data found, symbol may be delisted\n",
      "- RRD: No data found, symbol may be delisted\n",
      "- KSU: No data found, symbol may be delisted\n",
      "- ALXN: No data found, symbol may be delisted\n",
      "- RAI: No data found for this date range, symbol may be delisted\n",
      "- HCBK: No data found for this date range, symbol may be delisted\n",
      "- APC: No data found, symbol may be delisted\n",
      "- CFN: No data found for this date range, symbol may be delisted\n",
      "- ACAS: No data found for this date range, symbol may be delisted\n",
      "- FNM: No data found for this date range, symbol may be delisted\n",
      "- NBL: No data found, symbol may be delisted\n",
      "- FTR: No data found, symbol may be delisted\n",
      "- HRS: No data found, symbol may be delisted\n",
      "- STJ: No data found for this date range, symbol may be delisted\n",
      "- GENZ: No data found for this date range, symbol may be delisted\n",
      "- SWY: No data found for this date range, symbol may be delisted\n",
      "- LUK: No data found for this date range, symbol may be delisted\n",
      "- AVP: No data found, symbol may be delisted\n",
      "- VIAB: No data found, symbol may be delisted\n",
      "- VAR: No data found, symbol may be delisted\n",
      "- TSG: No data found, symbol may be delisted\n",
      "- QTRN: No data found for this date range, symbol may be delisted\n",
      "- JEC: No data found, symbol may be delisted\n",
      "- NOVL: No data found for this date range, symbol may be delisted\n",
      "- JCP: No data found, symbol may be delisted\n",
      "- BRK.B: No data found, symbol may be delisted\n",
      "- HSP: No data found for this date range, symbol may be delisted\n",
      "- DJ: No data found for this date range, symbol may be delisted\n",
      "- APOL: No data found for this date range, symbol may be delisted\n",
      "- Q: No data found for this date range, symbol may be delisted\n",
      "- COG: No data found, symbol may be delisted\n",
      "- AV: No data found for this date range, symbol may be delisted\n",
      "- TWC: No data found for this date range, symbol may be delisted\n",
      "- PCS: No data found for this date range, symbol may be delisted\n",
      "- STI: No data found, symbol may be delisted\n",
      "- WCG: No data found, symbol may be delisted\n",
      "- LM: No data found, symbol may be delisted\n",
      "- ETFC: No data found, symbol may be delisted\n",
      "- NVLS: No data found for this date range, symbol may be delisted\n",
      "- MIL: No data found for this date range, symbol may be delisted\n",
      "- CMCSK: No data found for this date range, symbol may be delisted\n",
      "- PCLN: No data found for this date range, symbol may be delisted\n",
      "- WFM: No data found for this date range, symbol may be delisted\n",
      "- WPX: No data found, symbol may be delisted\n",
      "- DNR: No data found, symbol may be delisted\n",
      "- MJN: No data found for this date range, symbol may be delisted\n",
      "- LO: No data found for this date range, symbol may be delisted\n",
      "- AKS: No data found, symbol may be delisted\n",
      "- JOY: No data found for this date range, symbol may be delisted\n",
      "- ESV: No data found, symbol may be delisted\n",
      "- TSS: No data found, symbol may be delisted\n",
      "- KFT: No data found for this date range, symbol may be delisted\n",
      "- SNDK: No data found for this date range, symbol may be delisted\n",
      "- SLE: No data found for this date range, symbol may be delisted\n",
      "- DPS: No data found for this date range, symbol may be delisted\n",
      "- CCE: No data found for this date range, symbol may be delisted\n",
      "- WIN: No data found, symbol may be delisted\n",
      "- RX: No data found for this date range, symbol may be delisted\n",
      "- TIF: No data found, symbol may be delisted\n",
      "- CVC: No data found for this date range, symbol may be delisted\n",
      "- MWW: No data found for this date range, symbol may be delisted\n",
      "- CEG: Data doesn't exist for startDate = 946702800, endDate = 1640926800\n",
      "- WFR: No data found for this date range, symbol may be delisted\n",
      "- BCR: No data found for this date range, symbol may be delisted\n",
      "- FLIR: No data found, symbol may be delisted\n",
      "- DTV: No data found, symbol may be delisted\n",
      "- FRE: No data found for this date range, symbol may be delisted\n",
      "- XEC: No data found, symbol may be delisted\n",
      "- TE: No data found for this date range, symbol may be delisted\n",
      "- YHOO: No data found for this date range, symbol may be delisted\n",
      "- DLPH: No data found, symbol may be delisted\n",
      "- EK: No data found for this date range, symbol may be delisted\n",
      "- TYC: No data found for this date range, symbol may be delisted\n",
      "- LVLT: No data found for this date range, symbol may be delisted\n",
      "- WLTW: No data found, symbol may be delisted\n",
      "- JDSU: No data found for this date range, symbol may be delisted\n",
      "- ARG: No data found for this date range, symbol may be delisted\n",
      "- CELG: No data found, symbol may be delisted\n",
      "- GLK: No data found for this date range, symbol may be delisted\n",
      "- HAR: No data found for this date range, symbol may be delisted\n",
      "- COV: No data found for this date range, symbol may be delisted\n",
      "- SBL: No data found for this date range, symbol may be delisted\n",
      "- CEPH: No data found for this date range, symbol may be delisted\n",
      "- CXO: No data found, symbol may be delisted\n",
      "- FII: No data found, symbol may be delisted\n",
      "- ANR: No data found for this date range, symbol may be delisted\n",
      "- MXIM: No data found, symbol may be delisted\n",
      "- DO: Data doesn't exist for startDate = 946702800, endDate = 1640926800\n",
      "- FRX: No data found, symbol may be delisted\n",
      "- DWDP: No data found, symbol may be delisted\n",
      "- ABS: No data found for this date range, symbol may be delisted\n",
      "- HFC: No data found, symbol may be delisted\n",
      "- FDC: No data found, symbol may be delisted\n",
      "- INFO: No data found, symbol may be delisted\n",
      "- MOLX: No data found for this date range, symbol may be delisted\n",
      "- GGP: No data found for this date range, symbol may be delisted\n",
      "- POM: No data found for this date range, symbol may be delisted\n",
      "- KRFT: No data found for this date range, symbol may be delisted\n",
      "- AGN: No data found, symbol may be delisted\n",
      "- XTO: No data found for this date range, symbol may be delisted\n",
      "- LEH: No data found for this date range, symbol may be delisted\n",
      "- BS: No data found for this date range, symbol may be delisted\n",
      "- GAS: No data found for this date range, symbol may be delisted\n",
      "- SMS: No data found for this date range, symbol may be delisted\n",
      "- PETM: No data found for this date range, symbol may be delisted\n",
      "- RTN: No data found, symbol may be delisted\n",
      "- GRA: No data found, symbol may be delisted\n",
      "- WYN: No data found for this date range, symbol may be delisted\n",
      "- SIAL: No data found for this date range, symbol may be delisted\n",
      "- BRCM: No data found for this date range, symbol may be delisted\n",
      "- MHS: No data found for this date range, symbol may be delisted\n",
      "- MNK: No data found, symbol may be delisted\n",
      "- JNS: No data found for this date range, symbol may be delisted\n",
      "- OMX: No data found for this date range, symbol may be delisted\n",
      "- GMCR: No data found for this date range, symbol may be delisted\n",
      "- RDC: No data found, symbol may be delisted\n",
      "- DF: No data found, symbol may be delisted\n",
      "- CPGX: No data found for this date range, symbol may be delisted\n",
      "- LXK: No data found for this date range, symbol may be delisted\n",
      "- SPLS: No data found for this date range, symbol may be delisted\n"
     ]
    }
   ],
   "source": [
    "data = yf.download(tickers, start='2000-01-01', end='2021-12-31')"
   ]
  },
  {
   "cell_type": "code",
   "execution_count": 6,
   "metadata": {
    "pycharm": {
     "name": "#%%\n"
    }
   },
   "outputs": [
    {
     "data": {
      "text/plain": "                      Adj Close                                                \\\n                              A         AA        AAL         AAP        ABBV   \nDate                                                                            \n2021-12-27 00:00:00  158.282715  59.830002  18.170000  234.790527  131.908478   \n2021-12-28 00:00:00  158.721420  59.189999  18.540001  236.408752  131.888840   \n2021-12-29 00:00:00  160.187180  59.630001  18.049999  239.287781  132.840805   \n2021-12-30 00:00:00  160.416534  59.209999  18.070000  235.803162  133.400192   \n2021-12-31 00:00:00         NaN        NaN        NaN         NaN         NaN   \n\n                                                          ...     Volume  \\\n                            ABC ABK        ABMD ABS ACAS  ...         XL   \nDate                                                      ...              \n2021-12-27 00:00:00  131.072433 NaN  357.829987 NaN  NaN  ...  4187100.0   \n2021-12-28 00:00:00  131.529541 NaN  357.440002 NaN  NaN  ...  3164800.0   \n2021-12-29 00:00:00  132.503387 NaN  361.839996 NaN  NaN  ...  2692800.0   \n2021-12-30 00:00:00  132.930710 NaN  362.059998 NaN  NaN  ...  4984100.0   \n2021-12-31 00:00:00         NaN NaN         NaN NaN  NaN  ...        NaN   \n\n                                                                         \\\n                          XRAY        XRX XTO       XYL YHOO        ZBH   \nDate                                                                      \n2021-12-27 00:00:00  1268500.0  2209600.0 NaN  837200.0  NaN  1221065.0   \n2021-12-28 00:00:00   772100.0  1983400.0 NaN  402400.0  NaN  1506581.0   \n2021-12-29 00:00:00  1112400.0  2269700.0 NaN  708800.0  NaN  2508771.0   \n2021-12-30 00:00:00  1119100.0  1747000.0 NaN  401400.0  NaN  1304701.0   \n2021-12-31 00:00:00        NaN        NaN NaN       NaN  NaN        NaN   \n\n                                                    \n                         ZBRA      ZION        ZTS  \nDate                                                \n2021-12-27 00:00:00  636400.0  495500.0   807000.0  \n2021-12-28 00:00:00  139500.0  497200.0  1004400.0  \n2021-12-29 00:00:00  128600.0  691600.0   939900.0  \n2021-12-30 00:00:00   87500.0  413100.0   859100.0  \n2021-12-31 00:00:00       NaN       NaN        NaN  \n\n[5 rows x 3450 columns]",
      "text/html": "<div>\n<style scoped>\n    .dataframe tbody tr th:only-of-type {\n        vertical-align: middle;\n    }\n\n    .dataframe tbody tr th {\n        vertical-align: top;\n    }\n\n    .dataframe thead tr th {\n        text-align: left;\n    }\n\n    .dataframe thead tr:last-of-type th {\n        text-align: right;\n    }\n</style>\n<table border=\"1\" class=\"dataframe\">\n  <thead>\n    <tr>\n      <th></th>\n      <th colspan=\"10\" halign=\"left\">Adj Close</th>\n      <th>...</th>\n      <th colspan=\"10\" halign=\"left\">Volume</th>\n    </tr>\n    <tr>\n      <th></th>\n      <th>A</th>\n      <th>AA</th>\n      <th>AAL</th>\n      <th>AAP</th>\n      <th>ABBV</th>\n      <th>ABC</th>\n      <th>ABK</th>\n      <th>ABMD</th>\n      <th>ABS</th>\n      <th>ACAS</th>\n      <th>...</th>\n      <th>XL</th>\n      <th>XRAY</th>\n      <th>XRX</th>\n      <th>XTO</th>\n      <th>XYL</th>\n      <th>YHOO</th>\n      <th>ZBH</th>\n      <th>ZBRA</th>\n      <th>ZION</th>\n      <th>ZTS</th>\n    </tr>\n    <tr>\n      <th>Date</th>\n      <th></th>\n      <th></th>\n      <th></th>\n      <th></th>\n      <th></th>\n      <th></th>\n      <th></th>\n      <th></th>\n      <th></th>\n      <th></th>\n      <th></th>\n      <th></th>\n      <th></th>\n      <th></th>\n      <th></th>\n      <th></th>\n      <th></th>\n      <th></th>\n      <th></th>\n      <th></th>\n      <th></th>\n    </tr>\n  </thead>\n  <tbody>\n    <tr>\n      <th>2021-12-27 00:00:00</th>\n      <td>158.282715</td>\n      <td>59.830002</td>\n      <td>18.170000</td>\n      <td>234.790527</td>\n      <td>131.908478</td>\n      <td>131.072433</td>\n      <td>NaN</td>\n      <td>357.829987</td>\n      <td>NaN</td>\n      <td>NaN</td>\n      <td>...</td>\n      <td>4187100.0</td>\n      <td>1268500.0</td>\n      <td>2209600.0</td>\n      <td>NaN</td>\n      <td>837200.0</td>\n      <td>NaN</td>\n      <td>1221065.0</td>\n      <td>636400.0</td>\n      <td>495500.0</td>\n      <td>807000.0</td>\n    </tr>\n    <tr>\n      <th>2021-12-28 00:00:00</th>\n      <td>158.721420</td>\n      <td>59.189999</td>\n      <td>18.540001</td>\n      <td>236.408752</td>\n      <td>131.888840</td>\n      <td>131.529541</td>\n      <td>NaN</td>\n      <td>357.440002</td>\n      <td>NaN</td>\n      <td>NaN</td>\n      <td>...</td>\n      <td>3164800.0</td>\n      <td>772100.0</td>\n      <td>1983400.0</td>\n      <td>NaN</td>\n      <td>402400.0</td>\n      <td>NaN</td>\n      <td>1506581.0</td>\n      <td>139500.0</td>\n      <td>497200.0</td>\n      <td>1004400.0</td>\n    </tr>\n    <tr>\n      <th>2021-12-29 00:00:00</th>\n      <td>160.187180</td>\n      <td>59.630001</td>\n      <td>18.049999</td>\n      <td>239.287781</td>\n      <td>132.840805</td>\n      <td>132.503387</td>\n      <td>NaN</td>\n      <td>361.839996</td>\n      <td>NaN</td>\n      <td>NaN</td>\n      <td>...</td>\n      <td>2692800.0</td>\n      <td>1112400.0</td>\n      <td>2269700.0</td>\n      <td>NaN</td>\n      <td>708800.0</td>\n      <td>NaN</td>\n      <td>2508771.0</td>\n      <td>128600.0</td>\n      <td>691600.0</td>\n      <td>939900.0</td>\n    </tr>\n    <tr>\n      <th>2021-12-30 00:00:00</th>\n      <td>160.416534</td>\n      <td>59.209999</td>\n      <td>18.070000</td>\n      <td>235.803162</td>\n      <td>133.400192</td>\n      <td>132.930710</td>\n      <td>NaN</td>\n      <td>362.059998</td>\n      <td>NaN</td>\n      <td>NaN</td>\n      <td>...</td>\n      <td>4984100.0</td>\n      <td>1119100.0</td>\n      <td>1747000.0</td>\n      <td>NaN</td>\n      <td>401400.0</td>\n      <td>NaN</td>\n      <td>1304701.0</td>\n      <td>87500.0</td>\n      <td>413100.0</td>\n      <td>859100.0</td>\n    </tr>\n    <tr>\n      <th>2021-12-31 00:00:00</th>\n      <td>NaN</td>\n      <td>NaN</td>\n      <td>NaN</td>\n      <td>NaN</td>\n      <td>NaN</td>\n      <td>NaN</td>\n      <td>NaN</td>\n      <td>NaN</td>\n      <td>NaN</td>\n      <td>NaN</td>\n      <td>...</td>\n      <td>NaN</td>\n      <td>NaN</td>\n      <td>NaN</td>\n      <td>NaN</td>\n      <td>NaN</td>\n      <td>NaN</td>\n      <td>NaN</td>\n      <td>NaN</td>\n      <td>NaN</td>\n      <td>NaN</td>\n    </tr>\n  </tbody>\n</table>\n<p>5 rows × 3450 columns</p>\n</div>"
     },
     "execution_count": 6,
     "metadata": {},
     "output_type": "execute_result"
    }
   ],
   "source": [
    "data.tail()\n"
   ]
  },
  {
   "cell_type": "code",
   "execution_count": 7,
   "metadata": {},
   "outputs": [],
   "source": [
    "prices = data['Adj Close']\n",
    "prices.index = pd.to_datetime(prices.index)\n",
    "monthly_return = prices.pct_change().resample('M').agg(lambda x: (x+1).prod() -1)"
   ]
  },
  {
   "cell_type": "code",
   "execution_count": 61,
   "metadata": {},
   "outputs": [
    {
     "data": {
      "text/plain": "                   A        AA       AAL       AAP      ABBV       ABC  ABK  \\\nDate                                                                          \n2021-08-31  0.145141  0.105106 -0.021590 -0.043431  0.038521  0.004008  0.0   \n2021-09-30 -0.102240  0.102997  0.029087  0.034794 -0.106888 -0.022584  0.0   \n2021-10-31  0.000991 -0.059045 -0.064327  0.079611  0.075926  0.021515  0.0   \n2021-11-30 -0.041844  0.012622 -0.078646 -0.021284  0.005320 -0.047900  0.0   \n2021-12-31  0.066137  0.272512  0.021481  0.080633  0.179129  0.155680  0.0   \n\n                ABMD  ABS  ACAS  ...        XL      XRAY       XRX  XTO  \\\nDate                             ...                                      \n2021-08-31  0.112551  0.0   0.0  ... -0.025788 -0.065718 -0.067136  0.0   \n2021-09-30 -0.105616  0.0   0.0  ... -0.094118 -0.057422 -0.093210  0.0   \n2021-10-31  0.020030  0.0   0.0  ... -0.110390 -0.014470 -0.117501  0.0   \n2021-11-30 -0.051982  0.0   0.0  ... -0.171533 -0.148051  0.034831  0.0   \n2021-12-31  0.150200  0.0   0.0  ... -0.218062  0.155300  0.252279  0.0   \n\n                 XYL  YHOO       ZBH      ZBRA      ZION       ZTS  \nDate                                                                \n2021-08-31  0.085383   0.0 -0.079366  0.062790  0.110259  0.009176  \n2021-09-30 -0.092656   0.0 -0.025635 -0.122196  0.068912 -0.050939  \n2021-10-31  0.055870   0.0 -0.022137  0.035951  0.017774  0.114959  \n2021-11-30 -0.070578   0.0 -0.164338  0.102688  0.001429  0.027012  \n2021-12-31 -0.016597   0.0  0.074522  0.014878  0.000793  0.104125  \n\n[5 rows x 575 columns]",
      "text/html": "<div>\n<style scoped>\n    .dataframe tbody tr th:only-of-type {\n        vertical-align: middle;\n    }\n\n    .dataframe tbody tr th {\n        vertical-align: top;\n    }\n\n    .dataframe thead th {\n        text-align: right;\n    }\n</style>\n<table border=\"1\" class=\"dataframe\">\n  <thead>\n    <tr style=\"text-align: right;\">\n      <th></th>\n      <th>A</th>\n      <th>AA</th>\n      <th>AAL</th>\n      <th>AAP</th>\n      <th>ABBV</th>\n      <th>ABC</th>\n      <th>ABK</th>\n      <th>ABMD</th>\n      <th>ABS</th>\n      <th>ACAS</th>\n      <th>...</th>\n      <th>XL</th>\n      <th>XRAY</th>\n      <th>XRX</th>\n      <th>XTO</th>\n      <th>XYL</th>\n      <th>YHOO</th>\n      <th>ZBH</th>\n      <th>ZBRA</th>\n      <th>ZION</th>\n      <th>ZTS</th>\n    </tr>\n    <tr>\n      <th>Date</th>\n      <th></th>\n      <th></th>\n      <th></th>\n      <th></th>\n      <th></th>\n      <th></th>\n      <th></th>\n      <th></th>\n      <th></th>\n      <th></th>\n      <th></th>\n      <th></th>\n      <th></th>\n      <th></th>\n      <th></th>\n      <th></th>\n      <th></th>\n      <th></th>\n      <th></th>\n      <th></th>\n      <th></th>\n    </tr>\n  </thead>\n  <tbody>\n    <tr>\n      <th>2021-08-31</th>\n      <td>0.145141</td>\n      <td>0.105106</td>\n      <td>-0.021590</td>\n      <td>-0.043431</td>\n      <td>0.038521</td>\n      <td>0.004008</td>\n      <td>0.0</td>\n      <td>0.112551</td>\n      <td>0.0</td>\n      <td>0.0</td>\n      <td>...</td>\n      <td>-0.025788</td>\n      <td>-0.065718</td>\n      <td>-0.067136</td>\n      <td>0.0</td>\n      <td>0.085383</td>\n      <td>0.0</td>\n      <td>-0.079366</td>\n      <td>0.062790</td>\n      <td>0.110259</td>\n      <td>0.009176</td>\n    </tr>\n    <tr>\n      <th>2021-09-30</th>\n      <td>-0.102240</td>\n      <td>0.102997</td>\n      <td>0.029087</td>\n      <td>0.034794</td>\n      <td>-0.106888</td>\n      <td>-0.022584</td>\n      <td>0.0</td>\n      <td>-0.105616</td>\n      <td>0.0</td>\n      <td>0.0</td>\n      <td>...</td>\n      <td>-0.094118</td>\n      <td>-0.057422</td>\n      <td>-0.093210</td>\n      <td>0.0</td>\n      <td>-0.092656</td>\n      <td>0.0</td>\n      <td>-0.025635</td>\n      <td>-0.122196</td>\n      <td>0.068912</td>\n      <td>-0.050939</td>\n    </tr>\n    <tr>\n      <th>2021-10-31</th>\n      <td>0.000991</td>\n      <td>-0.059045</td>\n      <td>-0.064327</td>\n      <td>0.079611</td>\n      <td>0.075926</td>\n      <td>0.021515</td>\n      <td>0.0</td>\n      <td>0.020030</td>\n      <td>0.0</td>\n      <td>0.0</td>\n      <td>...</td>\n      <td>-0.110390</td>\n      <td>-0.014470</td>\n      <td>-0.117501</td>\n      <td>0.0</td>\n      <td>0.055870</td>\n      <td>0.0</td>\n      <td>-0.022137</td>\n      <td>0.035951</td>\n      <td>0.017774</td>\n      <td>0.114959</td>\n    </tr>\n    <tr>\n      <th>2021-11-30</th>\n      <td>-0.041844</td>\n      <td>0.012622</td>\n      <td>-0.078646</td>\n      <td>-0.021284</td>\n      <td>0.005320</td>\n      <td>-0.047900</td>\n      <td>0.0</td>\n      <td>-0.051982</td>\n      <td>0.0</td>\n      <td>0.0</td>\n      <td>...</td>\n      <td>-0.171533</td>\n      <td>-0.148051</td>\n      <td>0.034831</td>\n      <td>0.0</td>\n      <td>-0.070578</td>\n      <td>0.0</td>\n      <td>-0.164338</td>\n      <td>0.102688</td>\n      <td>0.001429</td>\n      <td>0.027012</td>\n    </tr>\n    <tr>\n      <th>2021-12-31</th>\n      <td>0.066137</td>\n      <td>0.272512</td>\n      <td>0.021481</td>\n      <td>0.080633</td>\n      <td>0.179129</td>\n      <td>0.155680</td>\n      <td>0.0</td>\n      <td>0.150200</td>\n      <td>0.0</td>\n      <td>0.0</td>\n      <td>...</td>\n      <td>-0.218062</td>\n      <td>0.155300</td>\n      <td>0.252279</td>\n      <td>0.0</td>\n      <td>-0.016597</td>\n      <td>0.0</td>\n      <td>0.074522</td>\n      <td>0.014878</td>\n      <td>0.000793</td>\n      <td>0.104125</td>\n    </tr>\n  </tbody>\n</table>\n<p>5 rows × 575 columns</p>\n</div>"
     },
     "execution_count": 61,
     "metadata": {},
     "output_type": "execute_result"
    }
   ],
   "source": [
    "monthly_return.tail()"
   ]
  },
  {
   "cell_type": "code",
   "execution_count": 155,
   "outputs": [],
   "source": [
    "past_03 = (monthly_return + 1).rolling(2).apply(np.prod) - 1\n",
    "past_06 = (monthly_return + 1).rolling(5).apply(np.prod) - 1\n",
    "past_09 = (monthly_return + 1).rolling(8).apply(np.prod) - 1\n",
    "past_12 = (monthly_return + 1).rolling(11).apply(np.prod) - 1"
   ],
   "metadata": {
    "collapsed": false,
    "pycharm": {
     "name": "#%%\n"
    }
   }
  },
  {
   "cell_type": "code",
   "execution_count": 156,
   "outputs": [],
   "source": [
    "past_03_months = past_03.mask(past_03 == 0)\n",
    "past_06_months = past_06.mask(past_06 == 0)\n",
    "past_09_months = past_09.mask(past_09 == 0)\n",
    "past_12_months = past_12.mask(past_12 == 0)\n"
   ],
   "metadata": {
    "collapsed": false,
    "pycharm": {
     "name": "#%%\n"
    }
   }
  },
  {
   "cell_type": "code",
   "execution_count": 157,
   "outputs": [
    {
     "data": {
      "text/plain": "                   A        AA  AAL  AAP  ABBV       ABC       ABK      ABMD  \\\nDate                                                                           \n2000-01-31       NaN       NaN  NaN  NaN   NaN       NaN       NaN       NaN   \n2000-02-29       NaN       NaN  NaN  NaN   NaN       NaN       NaN       NaN   \n2000-03-31       NaN       NaN  NaN  NaN   NaN       NaN       NaN       NaN   \n2000-04-30       NaN       NaN  NaN  NaN   NaN       NaN       NaN       NaN   \n2000-05-31       NaN       NaN  NaN  NaN   NaN       NaN       NaN       NaN   \n2000-06-30       NaN       NaN  NaN  NaN   NaN       NaN       NaN       NaN   \n2000-07-31       NaN       NaN  NaN  NaN   NaN       NaN       NaN       NaN   \n2000-08-31       NaN       NaN  NaN  NaN   NaN       NaN       NaN       NaN   \n2000-09-30       NaN       NaN  NaN  NaN   NaN       NaN       NaN       NaN   \n2000-10-31       NaN       NaN  NaN  NaN   NaN       NaN       NaN       NaN   \n2000-11-30 -0.275174 -0.292420  NaN  NaN   NaN  2.164659 -0.028145  0.277397   \n2000-12-31 -0.172805 -0.023305  NaN  NaN   NaN  1.786208 -0.043440 -0.170940   \n2001-01-31 -0.474850  0.090568  NaN  NaN   NaN  2.284464  0.144996 -0.389687   \n2001-02-28 -0.653846  0.035036  NaN  NaN   NaN  2.581332  0.178010  0.123457   \n2001-03-31 -0.653258  0.126745  NaN  NaN   NaN  1.452500  0.253375 -0.151515   \n2001-04-30 -0.470153  0.434926  NaN  NaN   NaN  1.226805  0.128267  0.003922   \n2001-05-31 -0.545220  0.512328  NaN  NaN   NaN  0.860675  0.243204  0.611707   \n2001-06-30 -0.202454  0.343996  NaN  NaN   NaN  0.584258  0.493065  0.186415   \n2001-07-31 -0.530984  0.193810  NaN  NaN   NaN  0.655231  0.473708 -0.370600   \n2001-08-31 -0.458493  0.530360  NaN  NaN   NaN  0.371064  0.689199 -0.449541   \n\n            ABS  ACAS  ...  XL      XRAY       XRX  XTO  XYL  YHOO       ZBH  \\\nDate                   ...                                                     \n2000-01-31  NaN   NaN  ... NaN       NaN       NaN  NaN  NaN   NaN       NaN   \n2000-02-29  NaN   NaN  ... NaN       NaN       NaN  NaN  NaN   NaN       NaN   \n2000-03-31  NaN   NaN  ... NaN       NaN       NaN  NaN  NaN   NaN       NaN   \n2000-04-30  NaN   NaN  ... NaN       NaN       NaN  NaN  NaN   NaN       NaN   \n2000-05-31  NaN   NaN  ... NaN       NaN       NaN  NaN  NaN   NaN       NaN   \n2000-06-30  NaN   NaN  ... NaN       NaN       NaN  NaN  NaN   NaN       NaN   \n2000-07-31  NaN   NaN  ... NaN       NaN       NaN  NaN  NaN   NaN       NaN   \n2000-08-31  NaN   NaN  ... NaN       NaN       NaN  NaN  NaN   NaN       NaN   \n2000-09-30  NaN   NaN  ... NaN       NaN       NaN  NaN  NaN   NaN       NaN   \n2000-10-31  NaN   NaN  ... NaN       NaN       NaN  NaN  NaN   NaN       NaN   \n2000-11-30  NaN   NaN  ... NaN  0.549145 -0.702860  NaN  NaN   NaN       NaN   \n2000-12-31  NaN   NaN  ... NaN  0.593179 -0.770473  NaN  NaN   NaN       NaN   \n2001-01-31  NaN   NaN  ... NaN  0.359336 -0.610855  NaN  NaN   NaN       NaN   \n2001-02-28  NaN   NaN  ... NaN  0.333401 -0.759568  NaN  NaN   NaN       NaN   \n2001-03-31  NaN   NaN  ... NaN  0.265477 -0.766057  NaN  NaN   NaN       NaN   \n2001-04-30  NaN   NaN  ... NaN  0.286463 -0.657651  NaN  NaN   NaN       NaN   \n2001-05-31  NaN   NaN  ... NaN  0.437306 -0.509403  NaN  NaN   NaN       NaN   \n2001-06-30  NaN   NaN  ... NaN  0.320974 -0.347343  NaN  NaN   NaN       NaN   \n2001-07-31  NaN   NaN  ... NaN  0.336781 -0.501314  NaN  NaN   NaN -0.038978   \n2001-08-31  NaN   NaN  ... NaN  0.283943 -0.377163  NaN  NaN   NaN -0.086021   \n\n                ZBRA      ZION  ZTS  \nDate                                 \n2000-01-31       NaN       NaN  NaN  \n2000-02-29       NaN       NaN  NaN  \n2000-03-31       NaN       NaN  NaN  \n2000-04-30       NaN       NaN  NaN  \n2000-05-31       NaN       NaN  NaN  \n2000-06-30       NaN       NaN  NaN  \n2000-07-31       NaN       NaN  NaN  \n2000-08-31       NaN       NaN  NaN  \n2000-09-30       NaN       NaN  NaN  \n2000-10-31       NaN       NaN  NaN  \n2000-11-30 -0.256382  0.004414  NaN  \n2000-12-31 -0.310718  0.071842  NaN  \n2001-01-31 -0.163380  0.068775  NaN  \n2001-02-28 -0.098750  0.405441  NaN  \n2001-03-31 -0.331140  0.278432  NaN  \n2001-04-30 -0.098750  0.156309  NaN  \n2001-05-31  0.016192  0.198008  NaN  \n2001-06-30 -0.038042  0.369428  NaN  \n2001-07-31 -0.217593  0.320318  NaN  \n2001-08-31 -0.025852  0.135688  NaN  \n\n[20 rows x 575 columns]",
      "text/html": "<div>\n<style scoped>\n    .dataframe tbody tr th:only-of-type {\n        vertical-align: middle;\n    }\n\n    .dataframe tbody tr th {\n        vertical-align: top;\n    }\n\n    .dataframe thead th {\n        text-align: right;\n    }\n</style>\n<table border=\"1\" class=\"dataframe\">\n  <thead>\n    <tr style=\"text-align: right;\">\n      <th></th>\n      <th>A</th>\n      <th>AA</th>\n      <th>AAL</th>\n      <th>AAP</th>\n      <th>ABBV</th>\n      <th>ABC</th>\n      <th>ABK</th>\n      <th>ABMD</th>\n      <th>ABS</th>\n      <th>ACAS</th>\n      <th>...</th>\n      <th>XL</th>\n      <th>XRAY</th>\n      <th>XRX</th>\n      <th>XTO</th>\n      <th>XYL</th>\n      <th>YHOO</th>\n      <th>ZBH</th>\n      <th>ZBRA</th>\n      <th>ZION</th>\n      <th>ZTS</th>\n    </tr>\n    <tr>\n      <th>Date</th>\n      <th></th>\n      <th></th>\n      <th></th>\n      <th></th>\n      <th></th>\n      <th></th>\n      <th></th>\n      <th></th>\n      <th></th>\n      <th></th>\n      <th></th>\n      <th></th>\n      <th></th>\n      <th></th>\n      <th></th>\n      <th></th>\n      <th></th>\n      <th></th>\n      <th></th>\n      <th></th>\n      <th></th>\n    </tr>\n  </thead>\n  <tbody>\n    <tr>\n      <th>2000-01-31</th>\n      <td>NaN</td>\n      <td>NaN</td>\n      <td>NaN</td>\n      <td>NaN</td>\n      <td>NaN</td>\n      <td>NaN</td>\n      <td>NaN</td>\n      <td>NaN</td>\n      <td>NaN</td>\n      <td>NaN</td>\n      <td>...</td>\n      <td>NaN</td>\n      <td>NaN</td>\n      <td>NaN</td>\n      <td>NaN</td>\n      <td>NaN</td>\n      <td>NaN</td>\n      <td>NaN</td>\n      <td>NaN</td>\n      <td>NaN</td>\n      <td>NaN</td>\n    </tr>\n    <tr>\n      <th>2000-02-29</th>\n      <td>NaN</td>\n      <td>NaN</td>\n      <td>NaN</td>\n      <td>NaN</td>\n      <td>NaN</td>\n      <td>NaN</td>\n      <td>NaN</td>\n      <td>NaN</td>\n      <td>NaN</td>\n      <td>NaN</td>\n      <td>...</td>\n      <td>NaN</td>\n      <td>NaN</td>\n      <td>NaN</td>\n      <td>NaN</td>\n      <td>NaN</td>\n      <td>NaN</td>\n      <td>NaN</td>\n      <td>NaN</td>\n      <td>NaN</td>\n      <td>NaN</td>\n    </tr>\n    <tr>\n      <th>2000-03-31</th>\n      <td>NaN</td>\n      <td>NaN</td>\n      <td>NaN</td>\n      <td>NaN</td>\n      <td>NaN</td>\n      <td>NaN</td>\n      <td>NaN</td>\n      <td>NaN</td>\n      <td>NaN</td>\n      <td>NaN</td>\n      <td>...</td>\n      <td>NaN</td>\n      <td>NaN</td>\n      <td>NaN</td>\n      <td>NaN</td>\n      <td>NaN</td>\n      <td>NaN</td>\n      <td>NaN</td>\n      <td>NaN</td>\n      <td>NaN</td>\n      <td>NaN</td>\n    </tr>\n    <tr>\n      <th>2000-04-30</th>\n      <td>NaN</td>\n      <td>NaN</td>\n      <td>NaN</td>\n      <td>NaN</td>\n      <td>NaN</td>\n      <td>NaN</td>\n      <td>NaN</td>\n      <td>NaN</td>\n      <td>NaN</td>\n      <td>NaN</td>\n      <td>...</td>\n      <td>NaN</td>\n      <td>NaN</td>\n      <td>NaN</td>\n      <td>NaN</td>\n      <td>NaN</td>\n      <td>NaN</td>\n      <td>NaN</td>\n      <td>NaN</td>\n      <td>NaN</td>\n      <td>NaN</td>\n    </tr>\n    <tr>\n      <th>2000-05-31</th>\n      <td>NaN</td>\n      <td>NaN</td>\n      <td>NaN</td>\n      <td>NaN</td>\n      <td>NaN</td>\n      <td>NaN</td>\n      <td>NaN</td>\n      <td>NaN</td>\n      <td>NaN</td>\n      <td>NaN</td>\n      <td>...</td>\n      <td>NaN</td>\n      <td>NaN</td>\n      <td>NaN</td>\n      <td>NaN</td>\n      <td>NaN</td>\n      <td>NaN</td>\n      <td>NaN</td>\n      <td>NaN</td>\n      <td>NaN</td>\n      <td>NaN</td>\n    </tr>\n    <tr>\n      <th>2000-06-30</th>\n      <td>NaN</td>\n      <td>NaN</td>\n      <td>NaN</td>\n      <td>NaN</td>\n      <td>NaN</td>\n      <td>NaN</td>\n      <td>NaN</td>\n      <td>NaN</td>\n      <td>NaN</td>\n      <td>NaN</td>\n      <td>...</td>\n      <td>NaN</td>\n      <td>NaN</td>\n      <td>NaN</td>\n      <td>NaN</td>\n      <td>NaN</td>\n      <td>NaN</td>\n      <td>NaN</td>\n      <td>NaN</td>\n      <td>NaN</td>\n      <td>NaN</td>\n    </tr>\n    <tr>\n      <th>2000-07-31</th>\n      <td>NaN</td>\n      <td>NaN</td>\n      <td>NaN</td>\n      <td>NaN</td>\n      <td>NaN</td>\n      <td>NaN</td>\n      <td>NaN</td>\n      <td>NaN</td>\n      <td>NaN</td>\n      <td>NaN</td>\n      <td>...</td>\n      <td>NaN</td>\n      <td>NaN</td>\n      <td>NaN</td>\n      <td>NaN</td>\n      <td>NaN</td>\n      <td>NaN</td>\n      <td>NaN</td>\n      <td>NaN</td>\n      <td>NaN</td>\n      <td>NaN</td>\n    </tr>\n    <tr>\n      <th>2000-08-31</th>\n      <td>NaN</td>\n      <td>NaN</td>\n      <td>NaN</td>\n      <td>NaN</td>\n      <td>NaN</td>\n      <td>NaN</td>\n      <td>NaN</td>\n      <td>NaN</td>\n      <td>NaN</td>\n      <td>NaN</td>\n      <td>...</td>\n      <td>NaN</td>\n      <td>NaN</td>\n      <td>NaN</td>\n      <td>NaN</td>\n      <td>NaN</td>\n      <td>NaN</td>\n      <td>NaN</td>\n      <td>NaN</td>\n      <td>NaN</td>\n      <td>NaN</td>\n    </tr>\n    <tr>\n      <th>2000-09-30</th>\n      <td>NaN</td>\n      <td>NaN</td>\n      <td>NaN</td>\n      <td>NaN</td>\n      <td>NaN</td>\n      <td>NaN</td>\n      <td>NaN</td>\n      <td>NaN</td>\n      <td>NaN</td>\n      <td>NaN</td>\n      <td>...</td>\n      <td>NaN</td>\n      <td>NaN</td>\n      <td>NaN</td>\n      <td>NaN</td>\n      <td>NaN</td>\n      <td>NaN</td>\n      <td>NaN</td>\n      <td>NaN</td>\n      <td>NaN</td>\n      <td>NaN</td>\n    </tr>\n    <tr>\n      <th>2000-10-31</th>\n      <td>NaN</td>\n      <td>NaN</td>\n      <td>NaN</td>\n      <td>NaN</td>\n      <td>NaN</td>\n      <td>NaN</td>\n      <td>NaN</td>\n      <td>NaN</td>\n      <td>NaN</td>\n      <td>NaN</td>\n      <td>...</td>\n      <td>NaN</td>\n      <td>NaN</td>\n      <td>NaN</td>\n      <td>NaN</td>\n      <td>NaN</td>\n      <td>NaN</td>\n      <td>NaN</td>\n      <td>NaN</td>\n      <td>NaN</td>\n      <td>NaN</td>\n    </tr>\n    <tr>\n      <th>2000-11-30</th>\n      <td>-0.275174</td>\n      <td>-0.292420</td>\n      <td>NaN</td>\n      <td>NaN</td>\n      <td>NaN</td>\n      <td>2.164659</td>\n      <td>-0.028145</td>\n      <td>0.277397</td>\n      <td>NaN</td>\n      <td>NaN</td>\n      <td>...</td>\n      <td>NaN</td>\n      <td>0.549145</td>\n      <td>-0.702860</td>\n      <td>NaN</td>\n      <td>NaN</td>\n      <td>NaN</td>\n      <td>NaN</td>\n      <td>-0.256382</td>\n      <td>0.004414</td>\n      <td>NaN</td>\n    </tr>\n    <tr>\n      <th>2000-12-31</th>\n      <td>-0.172805</td>\n      <td>-0.023305</td>\n      <td>NaN</td>\n      <td>NaN</td>\n      <td>NaN</td>\n      <td>1.786208</td>\n      <td>-0.043440</td>\n      <td>-0.170940</td>\n      <td>NaN</td>\n      <td>NaN</td>\n      <td>...</td>\n      <td>NaN</td>\n      <td>0.593179</td>\n      <td>-0.770473</td>\n      <td>NaN</td>\n      <td>NaN</td>\n      <td>NaN</td>\n      <td>NaN</td>\n      <td>-0.310718</td>\n      <td>0.071842</td>\n      <td>NaN</td>\n    </tr>\n    <tr>\n      <th>2001-01-31</th>\n      <td>-0.474850</td>\n      <td>0.090568</td>\n      <td>NaN</td>\n      <td>NaN</td>\n      <td>NaN</td>\n      <td>2.284464</td>\n      <td>0.144996</td>\n      <td>-0.389687</td>\n      <td>NaN</td>\n      <td>NaN</td>\n      <td>...</td>\n      <td>NaN</td>\n      <td>0.359336</td>\n      <td>-0.610855</td>\n      <td>NaN</td>\n      <td>NaN</td>\n      <td>NaN</td>\n      <td>NaN</td>\n      <td>-0.163380</td>\n      <td>0.068775</td>\n      <td>NaN</td>\n    </tr>\n    <tr>\n      <th>2001-02-28</th>\n      <td>-0.653846</td>\n      <td>0.035036</td>\n      <td>NaN</td>\n      <td>NaN</td>\n      <td>NaN</td>\n      <td>2.581332</td>\n      <td>0.178010</td>\n      <td>0.123457</td>\n      <td>NaN</td>\n      <td>NaN</td>\n      <td>...</td>\n      <td>NaN</td>\n      <td>0.333401</td>\n      <td>-0.759568</td>\n      <td>NaN</td>\n      <td>NaN</td>\n      <td>NaN</td>\n      <td>NaN</td>\n      <td>-0.098750</td>\n      <td>0.405441</td>\n      <td>NaN</td>\n    </tr>\n    <tr>\n      <th>2001-03-31</th>\n      <td>-0.653258</td>\n      <td>0.126745</td>\n      <td>NaN</td>\n      <td>NaN</td>\n      <td>NaN</td>\n      <td>1.452500</td>\n      <td>0.253375</td>\n      <td>-0.151515</td>\n      <td>NaN</td>\n      <td>NaN</td>\n      <td>...</td>\n      <td>NaN</td>\n      <td>0.265477</td>\n      <td>-0.766057</td>\n      <td>NaN</td>\n      <td>NaN</td>\n      <td>NaN</td>\n      <td>NaN</td>\n      <td>-0.331140</td>\n      <td>0.278432</td>\n      <td>NaN</td>\n    </tr>\n    <tr>\n      <th>2001-04-30</th>\n      <td>-0.470153</td>\n      <td>0.434926</td>\n      <td>NaN</td>\n      <td>NaN</td>\n      <td>NaN</td>\n      <td>1.226805</td>\n      <td>0.128267</td>\n      <td>0.003922</td>\n      <td>NaN</td>\n      <td>NaN</td>\n      <td>...</td>\n      <td>NaN</td>\n      <td>0.286463</td>\n      <td>-0.657651</td>\n      <td>NaN</td>\n      <td>NaN</td>\n      <td>NaN</td>\n      <td>NaN</td>\n      <td>-0.098750</td>\n      <td>0.156309</td>\n      <td>NaN</td>\n    </tr>\n    <tr>\n      <th>2001-05-31</th>\n      <td>-0.545220</td>\n      <td>0.512328</td>\n      <td>NaN</td>\n      <td>NaN</td>\n      <td>NaN</td>\n      <td>0.860675</td>\n      <td>0.243204</td>\n      <td>0.611707</td>\n      <td>NaN</td>\n      <td>NaN</td>\n      <td>...</td>\n      <td>NaN</td>\n      <td>0.437306</td>\n      <td>-0.509403</td>\n      <td>NaN</td>\n      <td>NaN</td>\n      <td>NaN</td>\n      <td>NaN</td>\n      <td>0.016192</td>\n      <td>0.198008</td>\n      <td>NaN</td>\n    </tr>\n    <tr>\n      <th>2001-06-30</th>\n      <td>-0.202454</td>\n      <td>0.343996</td>\n      <td>NaN</td>\n      <td>NaN</td>\n      <td>NaN</td>\n      <td>0.584258</td>\n      <td>0.493065</td>\n      <td>0.186415</td>\n      <td>NaN</td>\n      <td>NaN</td>\n      <td>...</td>\n      <td>NaN</td>\n      <td>0.320974</td>\n      <td>-0.347343</td>\n      <td>NaN</td>\n      <td>NaN</td>\n      <td>NaN</td>\n      <td>NaN</td>\n      <td>-0.038042</td>\n      <td>0.369428</td>\n      <td>NaN</td>\n    </tr>\n    <tr>\n      <th>2001-07-31</th>\n      <td>-0.530984</td>\n      <td>0.193810</td>\n      <td>NaN</td>\n      <td>NaN</td>\n      <td>NaN</td>\n      <td>0.655231</td>\n      <td>0.473708</td>\n      <td>-0.370600</td>\n      <td>NaN</td>\n      <td>NaN</td>\n      <td>...</td>\n      <td>NaN</td>\n      <td>0.336781</td>\n      <td>-0.501314</td>\n      <td>NaN</td>\n      <td>NaN</td>\n      <td>NaN</td>\n      <td>-0.038978</td>\n      <td>-0.217593</td>\n      <td>0.320318</td>\n      <td>NaN</td>\n    </tr>\n    <tr>\n      <th>2001-08-31</th>\n      <td>-0.458493</td>\n      <td>0.530360</td>\n      <td>NaN</td>\n      <td>NaN</td>\n      <td>NaN</td>\n      <td>0.371064</td>\n      <td>0.689199</td>\n      <td>-0.449541</td>\n      <td>NaN</td>\n      <td>NaN</td>\n      <td>...</td>\n      <td>NaN</td>\n      <td>0.283943</td>\n      <td>-0.377163</td>\n      <td>NaN</td>\n      <td>NaN</td>\n      <td>NaN</td>\n      <td>-0.086021</td>\n      <td>-0.025852</td>\n      <td>0.135688</td>\n      <td>NaN</td>\n    </tr>\n  </tbody>\n</table>\n<p>20 rows × 575 columns</p>\n</div>"
     },
     "execution_count": 157,
     "metadata": {},
     "output_type": "execute_result"
    }
   ],
   "source": [
    "past_12_months.head(20)"
   ],
   "metadata": {
    "collapsed": false,
    "pycharm": {
     "name": "#%%\n"
    }
   }
  },
  {
   "cell_type": "code",
   "execution_count": 239,
   "outputs": [
    {
     "data": {
      "text/plain": "datetime.datetime(2001, 1, 31, 0, 0)"
     },
     "execution_count": 239,
     "metadata": {},
     "output_type": "execute_result"
    }
   ],
   "source": [
    "formation = dt.datetime(2001,1,31)\n",
    "formation"
   ],
   "metadata": {
    "collapsed": false,
    "pycharm": {
     "name": "#%%\n"
    }
   }
  },
  {
   "cell_type": "code",
   "execution_count": 214,
   "outputs": [
    {
     "data": {
      "text/plain": "Timestamp('2021-11-30 00:00:00')"
     },
     "execution_count": 214,
     "metadata": {},
     "output_type": "execute_result"
    }
   ],
   "source": [
    "begin_formation = formation + MonthEnd(252)\n",
    "begin_formation"
   ],
   "metadata": {
    "collapsed": false,
    "pycharm": {
     "name": "#%%\n"
    }
   }
  },
  {
   "cell_type": "code",
   "execution_count": 215,
   "outputs": [
    {
     "data": {
      "text/plain": "Timestamp('2020-11-30 00:00:00')"
     },
     "execution_count": 215,
     "metadata": {},
     "output_type": "execute_result"
    }
   ],
   "source": [
    "end_measurement = begin_formation - MonthEnd(12)\n",
    "end_measurement"
   ],
   "metadata": {
    "collapsed": false,
    "pycharm": {
     "name": "#%%\n"
    }
   }
  },
  {
   "cell_type": "code",
   "execution_count": 216,
   "outputs": [],
   "source": [
    "price_end = monthly_return.loc[end_measurement]"
   ],
   "metadata": {
    "collapsed": false,
    "pycharm": {
     "name": "#%%\n"
    }
   }
  },
  {
   "cell_type": "code",
   "execution_count": 217,
   "outputs": [
    {
     "data": {
      "text/plain": "A       0.145068\nAA      0.540248\nAAL     0.252660\nAAP     0.002852\nABBV    0.228907\n          ...   \nYHOO    0.000000\nZBH     0.128842\nZBRA    0.334156\nZION    0.206209\nZTS     0.011542\nName: 2020-11-30 00:00:00, Length: 575, dtype: float64"
     },
     "execution_count": 217,
     "metadata": {},
     "output_type": "execute_result"
    }
   ],
   "source": [
    "price_end"
   ],
   "metadata": {
    "collapsed": false,
    "pycharm": {
     "name": "#%%\n"
    }
   }
  },
  {
   "cell_type": "code",
   "execution_count": 218,
   "outputs": [
    {
     "data": {
      "text/plain": "    index  2020-11-30 00:00:00\n0       A             0.379151\n1      AA            -0.074849\n2     AAL            -0.505501\n3     AAP            -0.072134\n4    ABBV             0.246549\n..    ...                  ...\n570  YHOO                  NaN\n571   ZBH             0.002583\n572  ZBRA             0.481444\n573  ZION            -0.228649\n574   ZTS             0.218729\n\n[575 rows x 2 columns]",
      "text/html": "<div>\n<style scoped>\n    .dataframe tbody tr th:only-of-type {\n        vertical-align: middle;\n    }\n\n    .dataframe tbody tr th {\n        vertical-align: top;\n    }\n\n    .dataframe thead th {\n        text-align: right;\n    }\n</style>\n<table border=\"1\" class=\"dataframe\">\n  <thead>\n    <tr style=\"text-align: right;\">\n      <th></th>\n      <th>index</th>\n      <th>2020-11-30 00:00:00</th>\n    </tr>\n  </thead>\n  <tbody>\n    <tr>\n      <th>0</th>\n      <td>A</td>\n      <td>0.379151</td>\n    </tr>\n    <tr>\n      <th>1</th>\n      <td>AA</td>\n      <td>-0.074849</td>\n    </tr>\n    <tr>\n      <th>2</th>\n      <td>AAL</td>\n      <td>-0.505501</td>\n    </tr>\n    <tr>\n      <th>3</th>\n      <td>AAP</td>\n      <td>-0.072134</td>\n    </tr>\n    <tr>\n      <th>4</th>\n      <td>ABBV</td>\n      <td>0.246549</td>\n    </tr>\n    <tr>\n      <th>...</th>\n      <td>...</td>\n      <td>...</td>\n    </tr>\n    <tr>\n      <th>570</th>\n      <td>YHOO</td>\n      <td>NaN</td>\n    </tr>\n    <tr>\n      <th>571</th>\n      <td>ZBH</td>\n      <td>0.002583</td>\n    </tr>\n    <tr>\n      <th>572</th>\n      <td>ZBRA</td>\n      <td>0.481444</td>\n    </tr>\n    <tr>\n      <th>573</th>\n      <td>ZION</td>\n      <td>-0.228649</td>\n    </tr>\n    <tr>\n      <th>574</th>\n      <td>ZTS</td>\n      <td>0.218729</td>\n    </tr>\n  </tbody>\n</table>\n<p>575 rows × 2 columns</p>\n</div>"
     },
     "execution_count": 218,
     "metadata": {},
     "output_type": "execute_result"
    }
   ],
   "source": [
    "return_12 = past_12_months.loc[end_measurement]\n",
    "return_12 = return_12.reset_index()\n",
    "return_12"
   ],
   "metadata": {
    "collapsed": false,
    "pycharm": {
     "name": "#%%\n"
    }
   }
  },
  {
   "cell_type": "code",
   "execution_count": 219,
   "outputs": [
    {
     "data": {
      "text/plain": "    index  2020-11-30 00:00:00  decile\n0       A             0.379151     8.0\n1      AA            -0.074849     2.0\n2     AAL            -0.505501     0.0\n3     AAP            -0.072134     3.0\n4    ABBV             0.246549     6.0\n..    ...                  ...     ...\n570  YHOO                  NaN     NaN\n571   ZBH             0.002583     3.0\n572  ZBRA             0.481444     8.0\n573  ZION            -0.228649     1.0\n574   ZTS             0.218729     6.0\n\n[575 rows x 3 columns]",
      "text/html": "<div>\n<style scoped>\n    .dataframe tbody tr th:only-of-type {\n        vertical-align: middle;\n    }\n\n    .dataframe tbody tr th {\n        vertical-align: top;\n    }\n\n    .dataframe thead th {\n        text-align: right;\n    }\n</style>\n<table border=\"1\" class=\"dataframe\">\n  <thead>\n    <tr style=\"text-align: right;\">\n      <th></th>\n      <th>index</th>\n      <th>2020-11-30 00:00:00</th>\n      <th>decile</th>\n    </tr>\n  </thead>\n  <tbody>\n    <tr>\n      <th>0</th>\n      <td>A</td>\n      <td>0.379151</td>\n      <td>8.0</td>\n    </tr>\n    <tr>\n      <th>1</th>\n      <td>AA</td>\n      <td>-0.074849</td>\n      <td>2.0</td>\n    </tr>\n    <tr>\n      <th>2</th>\n      <td>AAL</td>\n      <td>-0.505501</td>\n      <td>0.0</td>\n    </tr>\n    <tr>\n      <th>3</th>\n      <td>AAP</td>\n      <td>-0.072134</td>\n      <td>3.0</td>\n    </tr>\n    <tr>\n      <th>4</th>\n      <td>ABBV</td>\n      <td>0.246549</td>\n      <td>6.0</td>\n    </tr>\n    <tr>\n      <th>...</th>\n      <td>...</td>\n      <td>...</td>\n      <td>...</td>\n    </tr>\n    <tr>\n      <th>570</th>\n      <td>YHOO</td>\n      <td>NaN</td>\n      <td>NaN</td>\n    </tr>\n    <tr>\n      <th>571</th>\n      <td>ZBH</td>\n      <td>0.002583</td>\n      <td>3.0</td>\n    </tr>\n    <tr>\n      <th>572</th>\n      <td>ZBRA</td>\n      <td>0.481444</td>\n      <td>8.0</td>\n    </tr>\n    <tr>\n      <th>573</th>\n      <td>ZION</td>\n      <td>-0.228649</td>\n      <td>1.0</td>\n    </tr>\n    <tr>\n      <th>574</th>\n      <td>ZTS</td>\n      <td>0.218729</td>\n      <td>6.0</td>\n    </tr>\n  </tbody>\n</table>\n<p>575 rows × 3 columns</p>\n</div>"
     },
     "execution_count": 219,
     "metadata": {},
     "output_type": "execute_result"
    }
   ],
   "source": [
    "return_12['decile'] = pd.qcut(return_12.iloc[:,1], q=10 , labels=False, duplicates='drop')\n",
    "return_12"
   ],
   "metadata": {
    "collapsed": false,
    "pycharm": {
     "name": "#%%\n"
    }
   }
  },
  {
   "cell_type": "code",
   "execution_count": 220,
   "outputs": [
    {
     "data": {
      "text/plain": "A      -0.041844\nAA      0.012622\nAAL    -0.078646\nAAP    -0.021284\nABBV    0.005320\n          ...   \nYHOO    0.000000\nZBH    -0.164338\nZBRA    0.102688\nZION    0.001429\nZTS     0.027012\nName: 2021-11-30 00:00:00, Length: 575, dtype: float64"
     },
     "execution_count": 220,
     "metadata": {},
     "output_type": "execute_result"
    }
   ],
   "source": [
    "price_12mbefore = monthly_return.loc[begin_formation]\n",
    "price_12mbefore"
   ],
   "metadata": {
    "collapsed": false,
    "pycharm": {
     "name": "#%%\n"
    }
   }
  },
  {
   "cell_type": "code",
   "execution_count": 221,
   "outputs": [
    {
     "data": {
      "text/plain": "   index  2020-11-30 00:00:00  decile\n7   ABMD             0.606777     9.0\n10   ACE            24.190841     9.0\n21   ALB             0.887933     9.0\n22  ALGN             0.724806     9.0\n28   AMD             1.020497     9.0",
      "text/html": "<div>\n<style scoped>\n    .dataframe tbody tr th:only-of-type {\n        vertical-align: middle;\n    }\n\n    .dataframe tbody tr th {\n        vertical-align: top;\n    }\n\n    .dataframe thead th {\n        text-align: right;\n    }\n</style>\n<table border=\"1\" class=\"dataframe\">\n  <thead>\n    <tr style=\"text-align: right;\">\n      <th></th>\n      <th>index</th>\n      <th>2020-11-30 00:00:00</th>\n      <th>decile</th>\n    </tr>\n  </thead>\n  <tbody>\n    <tr>\n      <th>7</th>\n      <td>ABMD</td>\n      <td>0.606777</td>\n      <td>9.0</td>\n    </tr>\n    <tr>\n      <th>10</th>\n      <td>ACE</td>\n      <td>24.190841</td>\n      <td>9.0</td>\n    </tr>\n    <tr>\n      <th>21</th>\n      <td>ALB</td>\n      <td>0.887933</td>\n      <td>9.0</td>\n    </tr>\n    <tr>\n      <th>22</th>\n      <td>ALGN</td>\n      <td>0.724806</td>\n      <td>9.0</td>\n    </tr>\n    <tr>\n      <th>28</th>\n      <td>AMD</td>\n      <td>1.020497</td>\n      <td>9.0</td>\n    </tr>\n  </tbody>\n</table>\n</div>"
     },
     "execution_count": 221,
     "metadata": {},
     "output_type": "execute_result"
    }
   ],
   "source": [
    "winners = return_12[return_12['decile'] == 9]\n",
    "winners.head()"
   ],
   "metadata": {
    "collapsed": false,
    "pycharm": {
     "name": "#%%\n"
    }
   }
  },
  {
   "cell_type": "code",
   "execution_count": 222,
   "outputs": [
    {
     "data": {
      "text/plain": "   index  2020-11-30 00:00:00  decile\n2    AAL            -0.505501     0.0\n12   ADS            -0.335685     0.0\n16   AIV            -1.698046     0.0\n49   ATI            -0.347047     0.0\n78   BTU            -0.851974     0.0",
      "text/html": "<div>\n<style scoped>\n    .dataframe tbody tr th:only-of-type {\n        vertical-align: middle;\n    }\n\n    .dataframe tbody tr th {\n        vertical-align: top;\n    }\n\n    .dataframe thead th {\n        text-align: right;\n    }\n</style>\n<table border=\"1\" class=\"dataframe\">\n  <thead>\n    <tr style=\"text-align: right;\">\n      <th></th>\n      <th>index</th>\n      <th>2020-11-30 00:00:00</th>\n      <th>decile</th>\n    </tr>\n  </thead>\n  <tbody>\n    <tr>\n      <th>2</th>\n      <td>AAL</td>\n      <td>-0.505501</td>\n      <td>0.0</td>\n    </tr>\n    <tr>\n      <th>12</th>\n      <td>ADS</td>\n      <td>-0.335685</td>\n      <td>0.0</td>\n    </tr>\n    <tr>\n      <th>16</th>\n      <td>AIV</td>\n      <td>-1.698046</td>\n      <td>0.0</td>\n    </tr>\n    <tr>\n      <th>49</th>\n      <td>ATI</td>\n      <td>-0.347047</td>\n      <td>0.0</td>\n    </tr>\n    <tr>\n      <th>78</th>\n      <td>BTU</td>\n      <td>-0.851974</td>\n      <td>0.0</td>\n    </tr>\n  </tbody>\n</table>\n</div>"
     },
     "execution_count": 222,
     "metadata": {},
     "output_type": "execute_result"
    }
   ],
   "source": [
    "losers= return_12[return_12['decile'] == 0]\n",
    "losers.head()"
   ],
   "metadata": {
    "collapsed": false,
    "pycharm": {
     "name": "#%%\n"
    }
   }
  },
  {
   "cell_type": "code",
   "execution_count": 223,
   "outputs": [
    {
     "data": {
      "text/plain": "ABMD    0.040214\nACE     0.000000\nALB     0.128406\nALGN    0.000000\nAMD    -0.094262\nName: 2000-12-31 00:00:00, dtype: float64"
     },
     "execution_count": 223,
     "metadata": {},
     "output_type": "execute_result"
    }
   ],
   "source": [
    "winner_ret = monthly_return.loc[formation+MonthEnd(1),monthly_return.columns.isin(winners['index'])]\n",
    "winner_ret.head()\n"
   ],
   "metadata": {
    "collapsed": false,
    "pycharm": {
     "name": "#%%\n"
    }
   }
  },
  {
   "cell_type": "code",
   "execution_count": 223,
   "outputs": [],
   "source": [],
   "metadata": {
    "collapsed": false,
    "pycharm": {
     "name": "#%%\n"
    }
   }
  },
  {
   "cell_type": "code",
   "execution_count": 240,
   "outputs": [],
   "source": [
    "def mom(begin_measurement, holdingperiod =1, formation_period =1  ):\n",
    "    end_measurement = begin_formation - MonthEnd(formation_period)\n",
    "    if formation_period ==3 :\n",
    "        returns = past_03_months.loc[end_measurement]\n",
    "    elif formation_period == 6:\n",
    "        returns = past_06_months.loc[end_measurement]\n",
    "    elif formation_period == 9:\n",
    "        returns = past_09_months.loc[end_measurement]\n",
    "    else: returns = past_12_months.loc[end_measurement]\n",
    "    returns = returns.reset_index()\n",
    "    returns['decile'] = pd.qcut(returns.iloc[:,1], q=10 , labels=False, duplicates='drop')\n",
    "    winners = returns[returns['decile'] == 9]\n",
    "    losers= returns[returns['decile'] == 0]\n",
    "    winner_ret = monthly_return.loc[formation+MonthEnd(holdingperiod),monthly_return.columns.isin(winners['index'])]\n",
    "    losers_ret = monthly_return.loc[formation+MonthEnd(holdingperiod),monthly_return.columns.isin(losers['index'])]\n",
    "    momentum_profit = winner_ret.mean() - losers_ret.mean()\n",
    "    return momentum_profit\n",
    "\n"
   ],
   "metadata": {
    "collapsed": false,
    "pycharm": {
     "name": "#%%\n"
    }
   }
  },
  {
   "cell_type": "code",
   "execution_count": 241,
   "outputs": [],
   "source": [
    "j1 = [3,6,9,12]\n",
    "k2 = [3,6,9,12]\n"
   ],
   "metadata": {
    "collapsed": false,
    "pycharm": {
     "name": "#%%\n"
    }
   }
  },
  {
   "cell_type": "code",
   "execution_count": 242,
   "outputs": [],
   "source": [
    "# cols = []\n",
    "# cols.append('dates')\n",
    "# for j in j1:\n",
    "#     for k in j1:\n",
    "#         cols.append(f'J:{j}, K:{k}')\n",
    "# cols"
   ],
   "metadata": {
    "collapsed": false,
    "pycharm": {
     "name": "#%%\n"
    }
   }
  },
  {
   "cell_type": "code",
   "execution_count": 242,
   "outputs": [],
   "source": [],
   "metadata": {
    "collapsed": false,
    "pycharm": {
     "name": "#%%\n"
    }
   }
  },
  {
   "cell_type": "code",
   "execution_count": 249,
   "outputs": [],
   "source": [
    "dates=[]\n",
    "profits=[]\n",
    "cols2 = []\n",
    "for i in range (252):\n",
    "    begin_formation = formation + MonthEnd(i)\n",
    "    for j in j1:\n",
    "        for k in j1:\n",
    "            profits.append(mom(begin_formation,j,k))\n",
    "            dates.append(begin_formation)\n",
    "            cols2.append(f'J:{j}, K:{k}')"
   ],
   "metadata": {
    "collapsed": false,
    "pycharm": {
     "name": "#%%\n"
    }
   }
  },
  {
   "cell_type": "code",
   "execution_count": 250,
   "outputs": [],
   "source": [
    "\n",
    "df_porfits = pd.DataFrame(profits,columns=['profits'])\n"
   ],
   "metadata": {
    "collapsed": false,
    "pycharm": {
     "name": "#%%\n"
    }
   }
  },
  {
   "cell_type": "code",
   "execution_count": 251,
   "outputs": [
    {
     "data": {
      "text/plain": "4032"
     },
     "execution_count": 251,
     "metadata": {},
     "output_type": "execute_result"
    }
   ],
   "source": [
    "len(profits)"
   ],
   "metadata": {
    "collapsed": false,
    "pycharm": {
     "name": "#%%\n"
    }
   }
  },
  {
   "cell_type": "code",
   "execution_count": 266,
   "outputs": [],
   "source": [
    "df = pd.DataFrame()\n",
    "df['dates'] = dates"
   ],
   "metadata": {
    "collapsed": false,
    "pycharm": {
     "name": "#%%\n"
    }
   }
  },
  {
   "cell_type": "code",
   "execution_count": 267,
   "outputs": [
    {
     "data": {
      "text/plain": "0   2001-01-31\n1   2001-01-31\n2   2001-01-31\n3   2001-01-31\n4   2001-01-31\nName: dates, dtype: datetime64[ns]"
     },
     "execution_count": 267,
     "metadata": {},
     "output_type": "execute_result"
    }
   ],
   "source": [
    "df['dates'].head()\n"
   ],
   "metadata": {
    "collapsed": false,
    "pycharm": {
     "name": "#%%\n"
    }
   }
  },
  {
   "cell_type": "code",
   "execution_count": 257,
   "outputs": [],
   "source": [
    "df['port'] = cols2"
   ],
   "metadata": {
    "collapsed": false,
    "pycharm": {
     "name": "#%%\n"
    }
   }
  },
  {
   "cell_type": "code",
   "execution_count": 258,
   "outputs": [],
   "source": [
    "df['returns'] = profits"
   ],
   "metadata": {
    "collapsed": false,
    "pycharm": {
     "name": "#%%\n"
    }
   }
  },
  {
   "cell_type": "code",
   "execution_count": 259,
   "outputs": [
    {
     "data": {
      "text/plain": "          dates        port   returns\n3762 2020-08-31  J:12, K:12 -0.014799\n1697 2009-11-30  J:12, K:12 -0.014702\n2625 2014-09-30  J:12, K:12 -0.017097\n3793 2020-10-31  J:12, K:12 -0.001820\n561  2003-12-31  J:12, K:12  0.004719\n...         ...         ...       ...\n3898 2021-04-30    J:9, K:9 -0.010099\n3656 2020-01-31    J:9, K:9  0.054253\n1491 2008-10-31    J:9, K:9 -0.087644\n3592 2019-09-30    J:9, K:9  0.050034\n2638 2014-09-30    J:9, K:9  0.051339\n\n[4032 rows x 3 columns]",
      "text/html": "<div>\n<style scoped>\n    .dataframe tbody tr th:only-of-type {\n        vertical-align: middle;\n    }\n\n    .dataframe tbody tr th {\n        vertical-align: top;\n    }\n\n    .dataframe thead th {\n        text-align: right;\n    }\n</style>\n<table border=\"1\" class=\"dataframe\">\n  <thead>\n    <tr style=\"text-align: right;\">\n      <th></th>\n      <th>dates</th>\n      <th>port</th>\n      <th>returns</th>\n    </tr>\n  </thead>\n  <tbody>\n    <tr>\n      <th>3762</th>\n      <td>2020-08-31</td>\n      <td>J:12, K:12</td>\n      <td>-0.014799</td>\n    </tr>\n    <tr>\n      <th>1697</th>\n      <td>2009-11-30</td>\n      <td>J:12, K:12</td>\n      <td>-0.014702</td>\n    </tr>\n    <tr>\n      <th>2625</th>\n      <td>2014-09-30</td>\n      <td>J:12, K:12</td>\n      <td>-0.017097</td>\n    </tr>\n    <tr>\n      <th>3793</th>\n      <td>2020-10-31</td>\n      <td>J:12, K:12</td>\n      <td>-0.001820</td>\n    </tr>\n    <tr>\n      <th>561</th>\n      <td>2003-12-31</td>\n      <td>J:12, K:12</td>\n      <td>0.004719</td>\n    </tr>\n    <tr>\n      <th>...</th>\n      <td>...</td>\n      <td>...</td>\n      <td>...</td>\n    </tr>\n    <tr>\n      <th>3898</th>\n      <td>2021-04-30</td>\n      <td>J:9, K:9</td>\n      <td>-0.010099</td>\n    </tr>\n    <tr>\n      <th>3656</th>\n      <td>2020-01-31</td>\n      <td>J:9, K:9</td>\n      <td>0.054253</td>\n    </tr>\n    <tr>\n      <th>1491</th>\n      <td>2008-10-31</td>\n      <td>J:9, K:9</td>\n      <td>-0.087644</td>\n    </tr>\n    <tr>\n      <th>3592</th>\n      <td>2019-09-30</td>\n      <td>J:9, K:9</td>\n      <td>0.050034</td>\n    </tr>\n    <tr>\n      <th>2638</th>\n      <td>2014-09-30</td>\n      <td>J:9, K:9</td>\n      <td>0.051339</td>\n    </tr>\n  </tbody>\n</table>\n<p>4032 rows × 3 columns</p>\n</div>"
     },
     "execution_count": 259,
     "metadata": {},
     "output_type": "execute_result"
    }
   ],
   "source": [
    "df = df.sort_values(by='port')\n",
    "df"
   ],
   "metadata": {
    "collapsed": false,
    "pycharm": {
     "name": "#%%\n"
    }
   }
  },
  {
   "cell_type": "code",
   "execution_count": 260,
   "outputs": [
    {
     "data": {
      "text/plain": "             returns\nport                \nJ:3, K:6   -0.011239\nJ:3, K:9   -0.008761\nJ:3, K:12  -0.006842\nJ:3, K:3   -0.004744\nJ:6, K:3    0.001529\nJ:9, K:3    0.002734\nJ:9, K:9    0.003534\nJ:6, K:6    0.004157\nJ:9, K:12   0.005716\nJ:12, K:3   0.005789\nJ:9, K:6    0.006552\nJ:6, K:9    0.007092\nJ:6, K:12   0.007787\nJ:12, K:6   0.008931\nJ:12, K:9   0.010145\nJ:12, K:12  0.011656",
      "text/html": "<div>\n<style scoped>\n    .dataframe tbody tr th:only-of-type {\n        vertical-align: middle;\n    }\n\n    .dataframe tbody tr th {\n        vertical-align: top;\n    }\n\n    .dataframe thead th {\n        text-align: right;\n    }\n</style>\n<table border=\"1\" class=\"dataframe\">\n  <thead>\n    <tr style=\"text-align: right;\">\n      <th></th>\n      <th>returns</th>\n    </tr>\n    <tr>\n      <th>port</th>\n      <th></th>\n    </tr>\n  </thead>\n  <tbody>\n    <tr>\n      <th>J:3, K:6</th>\n      <td>-0.011239</td>\n    </tr>\n    <tr>\n      <th>J:3, K:9</th>\n      <td>-0.008761</td>\n    </tr>\n    <tr>\n      <th>J:3, K:12</th>\n      <td>-0.006842</td>\n    </tr>\n    <tr>\n      <th>J:3, K:3</th>\n      <td>-0.004744</td>\n    </tr>\n    <tr>\n      <th>J:6, K:3</th>\n      <td>0.001529</td>\n    </tr>\n    <tr>\n      <th>J:9, K:3</th>\n      <td>0.002734</td>\n    </tr>\n    <tr>\n      <th>J:9, K:9</th>\n      <td>0.003534</td>\n    </tr>\n    <tr>\n      <th>J:6, K:6</th>\n      <td>0.004157</td>\n    </tr>\n    <tr>\n      <th>J:9, K:12</th>\n      <td>0.005716</td>\n    </tr>\n    <tr>\n      <th>J:12, K:3</th>\n      <td>0.005789</td>\n    </tr>\n    <tr>\n      <th>J:9, K:6</th>\n      <td>0.006552</td>\n    </tr>\n    <tr>\n      <th>J:6, K:9</th>\n      <td>0.007092</td>\n    </tr>\n    <tr>\n      <th>J:6, K:12</th>\n      <td>0.007787</td>\n    </tr>\n    <tr>\n      <th>J:12, K:6</th>\n      <td>0.008931</td>\n    </tr>\n    <tr>\n      <th>J:12, K:9</th>\n      <td>0.010145</td>\n    </tr>\n    <tr>\n      <th>J:12, K:12</th>\n      <td>0.011656</td>\n    </tr>\n  </tbody>\n</table>\n</div>"
     },
     "execution_count": 260,
     "metadata": {},
     "output_type": "execute_result"
    }
   ],
   "source": [
    "df = df.groupby('port').mean()\n",
    "df = df.sort_values('returns' , ascending=True)\n",
    "df"
   ],
   "metadata": {
    "collapsed": false,
    "pycharm": {
     "name": "#%%\n"
    }
   }
  },
  {
   "cell_type": "code",
   "execution_count": 261,
   "outputs": [
    {
     "data": {
      "text/plain": "             returns  returns_annualized\nport                                    \nJ:3, K:6   -0.011239           -0.126832\nJ:3, K:9   -0.008761           -0.100209\nJ:3, K:12  -0.006842           -0.079087\nJ:3, K:3   -0.004744           -0.055460\nJ:6, K:3    0.001529            0.018506\nJ:9, K:3    0.002734            0.033308\nJ:9, K:9    0.003534            0.043245\nJ:6, K:6    0.004157            0.051046\nJ:9, K:12   0.005716            0.070788\nJ:12, K:3   0.005789            0.071720\nJ:9, K:6    0.006552            0.081526\nJ:6, K:9    0.007092            0.088507\nJ:6, K:12   0.007787            0.097549\nJ:12, K:6   0.008931            0.112598\nJ:12, K:9   0.010145            0.128772\nJ:12, K:12  0.011656            0.149194",
      "text/html": "<div>\n<style scoped>\n    .dataframe tbody tr th:only-of-type {\n        vertical-align: middle;\n    }\n\n    .dataframe tbody tr th {\n        vertical-align: top;\n    }\n\n    .dataframe thead th {\n        text-align: right;\n    }\n</style>\n<table border=\"1\" class=\"dataframe\">\n  <thead>\n    <tr style=\"text-align: right;\">\n      <th></th>\n      <th>returns</th>\n      <th>returns_annualized</th>\n    </tr>\n    <tr>\n      <th>port</th>\n      <th></th>\n      <th></th>\n    </tr>\n  </thead>\n  <tbody>\n    <tr>\n      <th>J:3, K:6</th>\n      <td>-0.011239</td>\n      <td>-0.126832</td>\n    </tr>\n    <tr>\n      <th>J:3, K:9</th>\n      <td>-0.008761</td>\n      <td>-0.100209</td>\n    </tr>\n    <tr>\n      <th>J:3, K:12</th>\n      <td>-0.006842</td>\n      <td>-0.079087</td>\n    </tr>\n    <tr>\n      <th>J:3, K:3</th>\n      <td>-0.004744</td>\n      <td>-0.055460</td>\n    </tr>\n    <tr>\n      <th>J:6, K:3</th>\n      <td>0.001529</td>\n      <td>0.018506</td>\n    </tr>\n    <tr>\n      <th>J:9, K:3</th>\n      <td>0.002734</td>\n      <td>0.033308</td>\n    </tr>\n    <tr>\n      <th>J:9, K:9</th>\n      <td>0.003534</td>\n      <td>0.043245</td>\n    </tr>\n    <tr>\n      <th>J:6, K:6</th>\n      <td>0.004157</td>\n      <td>0.051046</td>\n    </tr>\n    <tr>\n      <th>J:9, K:12</th>\n      <td>0.005716</td>\n      <td>0.070788</td>\n    </tr>\n    <tr>\n      <th>J:12, K:3</th>\n      <td>0.005789</td>\n      <td>0.071720</td>\n    </tr>\n    <tr>\n      <th>J:9, K:6</th>\n      <td>0.006552</td>\n      <td>0.081526</td>\n    </tr>\n    <tr>\n      <th>J:6, K:9</th>\n      <td>0.007092</td>\n      <td>0.088507</td>\n    </tr>\n    <tr>\n      <th>J:6, K:12</th>\n      <td>0.007787</td>\n      <td>0.097549</td>\n    </tr>\n    <tr>\n      <th>J:12, K:6</th>\n      <td>0.008931</td>\n      <td>0.112598</td>\n    </tr>\n    <tr>\n      <th>J:12, K:9</th>\n      <td>0.010145</td>\n      <td>0.128772</td>\n    </tr>\n    <tr>\n      <th>J:12, K:12</th>\n      <td>0.011656</td>\n      <td>0.149194</td>\n    </tr>\n  </tbody>\n</table>\n</div>"
     },
     "execution_count": 261,
     "metadata": {},
     "output_type": "execute_result"
    }
   ],
   "source": [
    "df['returns_annualized'] = (((df['returns'] + 1)**12) -1)\n",
    "df"
   ],
   "metadata": {
    "collapsed": false,
    "pycharm": {
     "name": "#%%\n"
    }
   }
  },
  {
   "cell_type": "code",
   "execution_count": 262,
   "outputs": [],
   "source": [
    "df = df.sort_values(by='returns_annualized')"
   ],
   "metadata": {
    "collapsed": false,
    "pycharm": {
     "name": "#%%\n"
    }
   }
  },
  {
   "cell_type": "code",
   "execution_count": 263,
   "outputs": [
    {
     "data": {
      "text/plain": "             returns  returns_annualized\nport                                    \nJ:3, K:6   -0.011239           -0.126832\nJ:3, K:9   -0.008761           -0.100209\nJ:3, K:12  -0.006842           -0.079087\nJ:3, K:3   -0.004744           -0.055460\nJ:6, K:3    0.001529            0.018506\nJ:9, K:3    0.002734            0.033308\nJ:9, K:9    0.003534            0.043245\nJ:6, K:6    0.004157            0.051046\nJ:9, K:12   0.005716            0.070788\nJ:12, K:3   0.005789            0.071720\nJ:9, K:6    0.006552            0.081526\nJ:6, K:9    0.007092            0.088507\nJ:6, K:12   0.007787            0.097549\nJ:12, K:6   0.008931            0.112598\nJ:12, K:9   0.010145            0.128772\nJ:12, K:12  0.011656            0.149194",
      "text/html": "<div>\n<style scoped>\n    .dataframe tbody tr th:only-of-type {\n        vertical-align: middle;\n    }\n\n    .dataframe tbody tr th {\n        vertical-align: top;\n    }\n\n    .dataframe thead th {\n        text-align: right;\n    }\n</style>\n<table border=\"1\" class=\"dataframe\">\n  <thead>\n    <tr style=\"text-align: right;\">\n      <th></th>\n      <th>returns</th>\n      <th>returns_annualized</th>\n    </tr>\n    <tr>\n      <th>port</th>\n      <th></th>\n      <th></th>\n    </tr>\n  </thead>\n  <tbody>\n    <tr>\n      <th>J:3, K:6</th>\n      <td>-0.011239</td>\n      <td>-0.126832</td>\n    </tr>\n    <tr>\n      <th>J:3, K:9</th>\n      <td>-0.008761</td>\n      <td>-0.100209</td>\n    </tr>\n    <tr>\n      <th>J:3, K:12</th>\n      <td>-0.006842</td>\n      <td>-0.079087</td>\n    </tr>\n    <tr>\n      <th>J:3, K:3</th>\n      <td>-0.004744</td>\n      <td>-0.055460</td>\n    </tr>\n    <tr>\n      <th>J:6, K:3</th>\n      <td>0.001529</td>\n      <td>0.018506</td>\n    </tr>\n    <tr>\n      <th>J:9, K:3</th>\n      <td>0.002734</td>\n      <td>0.033308</td>\n    </tr>\n    <tr>\n      <th>J:9, K:9</th>\n      <td>0.003534</td>\n      <td>0.043245</td>\n    </tr>\n    <tr>\n      <th>J:6, K:6</th>\n      <td>0.004157</td>\n      <td>0.051046</td>\n    </tr>\n    <tr>\n      <th>J:9, K:12</th>\n      <td>0.005716</td>\n      <td>0.070788</td>\n    </tr>\n    <tr>\n      <th>J:12, K:3</th>\n      <td>0.005789</td>\n      <td>0.071720</td>\n    </tr>\n    <tr>\n      <th>J:9, K:6</th>\n      <td>0.006552</td>\n      <td>0.081526</td>\n    </tr>\n    <tr>\n      <th>J:6, K:9</th>\n      <td>0.007092</td>\n      <td>0.088507</td>\n    </tr>\n    <tr>\n      <th>J:6, K:12</th>\n      <td>0.007787</td>\n      <td>0.097549</td>\n    </tr>\n    <tr>\n      <th>J:12, K:6</th>\n      <td>0.008931</td>\n      <td>0.112598</td>\n    </tr>\n    <tr>\n      <th>J:12, K:9</th>\n      <td>0.010145</td>\n      <td>0.128772</td>\n    </tr>\n    <tr>\n      <th>J:12, K:12</th>\n      <td>0.011656</td>\n      <td>0.149194</td>\n    </tr>\n  </tbody>\n</table>\n</div>"
     },
     "execution_count": 263,
     "metadata": {},
     "output_type": "execute_result"
    }
   ],
   "source": [
    "df"
   ],
   "metadata": {
    "collapsed": false,
    "pycharm": {
     "name": "#%%\n"
    }
   }
  },
  {
   "cell_type": "code",
   "execution_count": 87,
   "outputs": [],
   "source": [],
   "metadata": {
    "collapsed": false,
    "pycharm": {
     "name": "#%%\n"
    }
   }
  },
  {
   "cell_type": "code",
   "execution_count": null,
   "outputs": [],
   "source": [],
   "metadata": {
    "collapsed": false,
    "pycharm": {
     "name": "#%%\n"
    }
   }
  }
 ],
 "metadata": {
  "kernelspec": {
   "display_name": "Python 3 (ipykernel)",
   "language": "python",
   "name": "python3"
  },
  "language_info": {
   "codemirror_mode": {
    "name": "ipython",
    "version": 3
   },
   "file_extension": ".py",
   "mimetype": "text/x-python",
   "name": "python",
   "nbconvert_exporter": "python",
   "pygments_lexer": "ipython3",
   "version": "3.9.7"
  }
 },
 "nbformat": 4,
 "nbformat_minor": 1
}