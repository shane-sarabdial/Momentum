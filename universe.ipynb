{
 "cells": [
  {
   "cell_type": "code",
   "execution_count": 96,
   "metadata": {
    "collapsed": true
   },
   "outputs": [],
   "source": [
    "import yahooquery as yq\n",
    "import numpy as np\n",
    "import pandas as pd\n",
    "import datetime as dt\n",
    "from pandas.tseries.offsets import MonthEnd"
   ]
  },
  {
   "cell_type": "code",
   "execution_count": 97,
   "outputs": [],
   "source": [
    "# Get current list of Spy from wiki\n",
    "url = 'https://en.wikipedia.org/wiki/List_of_S%26P_500_companies'\n",
    "data = pd.read_html(url)"
   ],
   "metadata": {
    "collapsed": false,
    "pycharm": {
     "name": "#%%\n"
    }
   }
  },
  {
   "cell_type": "code",
   "execution_count": 98,
   "outputs": [],
   "source": [
    "sp500 = data[0].iloc[:,[0,1,6]]\n",
    "sp500.columns = ['ticker', 'name', 'date']"
   ],
   "metadata": {
    "collapsed": false,
    "pycharm": {
     "name": "#%%\n"
    }
   }
  },
  {
   "cell_type": "code",
   "execution_count": 99,
   "outputs": [
    {
     "data": {
      "text/plain": "    ticker           name        date\n0      MMM             3M  1976-08-09\n1      AOS    A. O. Smith  2017-07-26\n2      ABT         Abbott  1964-03-31\n3     ABBV         AbbVie  2012-12-31\n4     ABMD        Abiomed  2018-05-31\n..     ...            ...         ...\n499    YUM    Yum! Brands  1997-10-06\n500   ZBRA          Zebra  2019-12-23\n501    ZBH  Zimmer Biomet  2001-08-07\n502   ZION  Zions Bancorp  2001-06-22\n503    ZTS         Zoetis  2013-06-21\n\n[504 rows x 3 columns]",
      "text/html": "<div>\n<style scoped>\n    .dataframe tbody tr th:only-of-type {\n        vertical-align: middle;\n    }\n\n    .dataframe tbody tr th {\n        vertical-align: top;\n    }\n\n    .dataframe thead th {\n        text-align: right;\n    }\n</style>\n<table border=\"1\" class=\"dataframe\">\n  <thead>\n    <tr style=\"text-align: right;\">\n      <th></th>\n      <th>ticker</th>\n      <th>name</th>\n      <th>date</th>\n    </tr>\n  </thead>\n  <tbody>\n    <tr>\n      <th>0</th>\n      <td>MMM</td>\n      <td>3M</td>\n      <td>1976-08-09</td>\n    </tr>\n    <tr>\n      <th>1</th>\n      <td>AOS</td>\n      <td>A. O. Smith</td>\n      <td>2017-07-26</td>\n    </tr>\n    <tr>\n      <th>2</th>\n      <td>ABT</td>\n      <td>Abbott</td>\n      <td>1964-03-31</td>\n    </tr>\n    <tr>\n      <th>3</th>\n      <td>ABBV</td>\n      <td>AbbVie</td>\n      <td>2012-12-31</td>\n    </tr>\n    <tr>\n      <th>4</th>\n      <td>ABMD</td>\n      <td>Abiomed</td>\n      <td>2018-05-31</td>\n    </tr>\n    <tr>\n      <th>...</th>\n      <td>...</td>\n      <td>...</td>\n      <td>...</td>\n    </tr>\n    <tr>\n      <th>499</th>\n      <td>YUM</td>\n      <td>Yum! Brands</td>\n      <td>1997-10-06</td>\n    </tr>\n    <tr>\n      <th>500</th>\n      <td>ZBRA</td>\n      <td>Zebra</td>\n      <td>2019-12-23</td>\n    </tr>\n    <tr>\n      <th>501</th>\n      <td>ZBH</td>\n      <td>Zimmer Biomet</td>\n      <td>2001-08-07</td>\n    </tr>\n    <tr>\n      <th>502</th>\n      <td>ZION</td>\n      <td>Zions Bancorp</td>\n      <td>2001-06-22</td>\n    </tr>\n    <tr>\n      <th>503</th>\n      <td>ZTS</td>\n      <td>Zoetis</td>\n      <td>2013-06-21</td>\n    </tr>\n  </tbody>\n</table>\n<p>504 rows × 3 columns</p>\n</div>"
     },
     "execution_count": 99,
     "metadata": {},
     "output_type": "execute_result"
    }
   ],
   "source": [
    "sp500"
   ],
   "metadata": {
    "collapsed": false,
    "pycharm": {
     "name": "#%%\n"
    }
   }
  },
  {
   "cell_type": "code",
   "execution_count": 100,
   "outputs": [
    {
     "data": {
      "text/plain": "    ticker        name                     date\n29     AMD         AMD                      NaN\n51       T        AT&T  1983-11-30 (1957-03-04)\n126     ED  Con Edison                      NaN\n131    GLW     Corning                      NaN\n140    DHR     Danaher                      NaN",
      "text/html": "<div>\n<style scoped>\n    .dataframe tbody tr th:only-of-type {\n        vertical-align: middle;\n    }\n\n    .dataframe tbody tr th {\n        vertical-align: top;\n    }\n\n    .dataframe thead th {\n        text-align: right;\n    }\n</style>\n<table border=\"1\" class=\"dataframe\">\n  <thead>\n    <tr style=\"text-align: right;\">\n      <th></th>\n      <th>ticker</th>\n      <th>name</th>\n      <th>date</th>\n    </tr>\n  </thead>\n  <tbody>\n    <tr>\n      <th>29</th>\n      <td>AMD</td>\n      <td>AMD</td>\n      <td>NaN</td>\n    </tr>\n    <tr>\n      <th>51</th>\n      <td>T</td>\n      <td>AT&amp;T</td>\n      <td>1983-11-30 (1957-03-04)</td>\n    </tr>\n    <tr>\n      <th>126</th>\n      <td>ED</td>\n      <td>Con Edison</td>\n      <td>NaN</td>\n    </tr>\n    <tr>\n      <th>131</th>\n      <td>GLW</td>\n      <td>Corning</td>\n      <td>NaN</td>\n    </tr>\n    <tr>\n      <th>140</th>\n      <td>DHR</td>\n      <td>Danaher</td>\n      <td>NaN</td>\n    </tr>\n  </tbody>\n</table>\n</div>"
     },
     "execution_count": 100,
     "metadata": {},
     "output_type": "execute_result"
    }
   ],
   "source": [
    "# Get rows where date is missing or not formatted correctly.\n",
    "mask = sp500['date'].str.strip().str.fullmatch('\\d{4}-\\d{2}-\\d{2}')\n",
    "mask.loc[mask.isnull()] = False\n",
    "mask = mask == False\n",
    "sp500[mask].head()"
   ],
   "metadata": {
    "collapsed": false,
    "pycharm": {
     "name": "#%%\n"
    }
   }
  },
  {
   "cell_type": "code",
   "execution_count": 101,
   "outputs": [],
   "source": [
    "current = sp500.copy()\n",
    "current.loc[mask, 'date'] = '1900-01-01'\n",
    "current.loc[:, 'date'] = pd.to_datetime(current['date'])"
   ],
   "metadata": {
    "collapsed": false,
    "pycharm": {
     "name": "#%%\n"
    }
   }
  },
  {
   "cell_type": "code",
   "execution_count": 102,
   "outputs": [
    {
     "data": {
      "text/plain": "                date ticker_added            name_added ticker_removed  \\\n0      April 4, 2022          CPT                Camden           PBCT   \n1      March 2, 2022          MOH     Molina Healthcare           INFO   \n2  February 15, 2022         NDSN               Nordson           XLNX   \n3   February 3, 2022          NaN                   NaN            GPS   \n4   February 2, 2022          CEG  Constellation Energy            NaN   \n\n                name_removed  \\\n0  People's United Financial   \n1                 IHS Markit   \n2                     Xilinx   \n3                        Gap   \n4                        NaN   \n\n                                              reason  \n0  S&P 500 constituent M&T Bank Corp. acquired Pe...  \n1  S&P 500 constituent S&P Global Inc. acquired I...  \n2  S&P 500 constituent Advanced Micro Devices acq...  \n3                   Market capitalization change.[9]  \n4  S&P 500 and 100 constituent Exelon Corp. spun ...  ",
      "text/html": "<div>\n<style scoped>\n    .dataframe tbody tr th:only-of-type {\n        vertical-align: middle;\n    }\n\n    .dataframe tbody tr th {\n        vertical-align: top;\n    }\n\n    .dataframe thead th {\n        text-align: right;\n    }\n</style>\n<table border=\"1\" class=\"dataframe\">\n  <thead>\n    <tr style=\"text-align: right;\">\n      <th></th>\n      <th>date</th>\n      <th>ticker_added</th>\n      <th>name_added</th>\n      <th>ticker_removed</th>\n      <th>name_removed</th>\n      <th>reason</th>\n    </tr>\n  </thead>\n  <tbody>\n    <tr>\n      <th>0</th>\n      <td>April 4, 2022</td>\n      <td>CPT</td>\n      <td>Camden</td>\n      <td>PBCT</td>\n      <td>People's United Financial</td>\n      <td>S&amp;P 500 constituent M&amp;T Bank Corp. acquired Pe...</td>\n    </tr>\n    <tr>\n      <th>1</th>\n      <td>March 2, 2022</td>\n      <td>MOH</td>\n      <td>Molina Healthcare</td>\n      <td>INFO</td>\n      <td>IHS Markit</td>\n      <td>S&amp;P 500 constituent S&amp;P Global Inc. acquired I...</td>\n    </tr>\n    <tr>\n      <th>2</th>\n      <td>February 15, 2022</td>\n      <td>NDSN</td>\n      <td>Nordson</td>\n      <td>XLNX</td>\n      <td>Xilinx</td>\n      <td>S&amp;P 500 constituent Advanced Micro Devices acq...</td>\n    </tr>\n    <tr>\n      <th>3</th>\n      <td>February 3, 2022</td>\n      <td>NaN</td>\n      <td>NaN</td>\n      <td>GPS</td>\n      <td>Gap</td>\n      <td>Market capitalization change.[9]</td>\n    </tr>\n    <tr>\n      <th>4</th>\n      <td>February 2, 2022</td>\n      <td>CEG</td>\n      <td>Constellation Energy</td>\n      <td>NaN</td>\n      <td>NaN</td>\n      <td>S&amp;P 500 and 100 constituent Exelon Corp. spun ...</td>\n    </tr>\n  </tbody>\n</table>\n</div>"
     },
     "execution_count": 102,
     "metadata": {},
     "output_type": "execute_result"
    }
   ],
   "source": [
    "# Fill in missing data\n",
    "adjustments = data[1]\n",
    "adjustments.columns =['date', 'ticker_added','name_added', 'ticker_removed', 'name_removed', 'reason']\n",
    "adjustments.head()"
   ],
   "metadata": {
    "collapsed": false,
    "pycharm": {
     "name": "#%%\n"
    }
   }
  },
  {
   "cell_type": "code",
   "execution_count": 103,
   "outputs": [],
   "source": [
    "# create additons df\n",
    "additions = adjustments[~adjustments['ticker_added'].isnull()][['date','ticker_added', 'name_added']]\n",
    "additions.columns = ['date','ticker', 'name']\n",
    "additions['action'] = 'added'"
   ],
   "metadata": {
    "collapsed": false,
    "pycharm": {
     "name": "#%%\n"
    }
   }
  },
  {
   "cell_type": "code",
   "execution_count": 104,
   "outputs": [],
   "source": [
    "#create removals df\n",
    "removals = adjustments[~adjustments['ticker_removed'].isnull()][['date','ticker_removed', 'name_removed']]\n",
    "removals.columns = ['date','ticker','name']\n",
    "removals['action'] = 'removed'"
   ],
   "metadata": {
    "collapsed": false,
    "pycharm": {
     "name": "#%%\n"
    }
   }
  },
  {
   "cell_type": "code",
   "execution_count": 105,
   "outputs": [
    {
     "data": {
      "text/plain": "                date ticker                  name action\n0      April 4, 2022    CPT                Camden  added\n1      March 2, 2022    MOH     Molina Healthcare  added\n2  February 15, 2022   NDSN               Nordson  added\n4   February 2, 2022    CEG  Constellation Energy  added\n5  December 20, 2021   SBNY        Signature Bank  added",
      "text/html": "<div>\n<style scoped>\n    .dataframe tbody tr th:only-of-type {\n        vertical-align: middle;\n    }\n\n    .dataframe tbody tr th {\n        vertical-align: top;\n    }\n\n    .dataframe thead th {\n        text-align: right;\n    }\n</style>\n<table border=\"1\" class=\"dataframe\">\n  <thead>\n    <tr style=\"text-align: right;\">\n      <th></th>\n      <th>date</th>\n      <th>ticker</th>\n      <th>name</th>\n      <th>action</th>\n    </tr>\n  </thead>\n  <tbody>\n    <tr>\n      <th>0</th>\n      <td>April 4, 2022</td>\n      <td>CPT</td>\n      <td>Camden</td>\n      <td>added</td>\n    </tr>\n    <tr>\n      <th>1</th>\n      <td>March 2, 2022</td>\n      <td>MOH</td>\n      <td>Molina Healthcare</td>\n      <td>added</td>\n    </tr>\n    <tr>\n      <th>2</th>\n      <td>February 15, 2022</td>\n      <td>NDSN</td>\n      <td>Nordson</td>\n      <td>added</td>\n    </tr>\n    <tr>\n      <th>4</th>\n      <td>February 2, 2022</td>\n      <td>CEG</td>\n      <td>Constellation Energy</td>\n      <td>added</td>\n    </tr>\n    <tr>\n      <th>5</th>\n      <td>December 20, 2021</td>\n      <td>SBNY</td>\n      <td>Signature Bank</td>\n      <td>added</td>\n    </tr>\n  </tbody>\n</table>\n</div>"
     },
     "execution_count": 105,
     "metadata": {},
     "output_type": "execute_result"
    }
   ],
   "source": [
    "#Merge df\n",
    "historical = pd.concat([additions,removals])\n",
    "historical.head()"
   ],
   "metadata": {
    "collapsed": false,
    "pycharm": {
     "name": "#%%\n"
    }
   }
  },
  {
   "cell_type": "code",
   "execution_count": 106,
   "outputs": [
    {
     "data": {
      "text/plain": "        date ticker    name action\n0 1976-08-09    MMM      3M  added\n2 1964-03-31    ABT  Abbott  added\n7 1981-07-29    ADM     ADM  added\n8 1997-05-05   ADBE   Adobe  added\n9 1981-03-31    ADP     ADP  added",
      "text/html": "<div>\n<style scoped>\n    .dataframe tbody tr th:only-of-type {\n        vertical-align: middle;\n    }\n\n    .dataframe tbody tr th {\n        vertical-align: top;\n    }\n\n    .dataframe thead th {\n        text-align: right;\n    }\n</style>\n<table border=\"1\" class=\"dataframe\">\n  <thead>\n    <tr style=\"text-align: right;\">\n      <th></th>\n      <th>date</th>\n      <th>ticker</th>\n      <th>name</th>\n      <th>action</th>\n    </tr>\n  </thead>\n  <tbody>\n    <tr>\n      <th>0</th>\n      <td>1976-08-09</td>\n      <td>MMM</td>\n      <td>3M</td>\n      <td>added</td>\n    </tr>\n    <tr>\n      <th>2</th>\n      <td>1964-03-31</td>\n      <td>ABT</td>\n      <td>Abbott</td>\n      <td>added</td>\n    </tr>\n    <tr>\n      <th>7</th>\n      <td>1981-07-29</td>\n      <td>ADM</td>\n      <td>ADM</td>\n      <td>added</td>\n    </tr>\n    <tr>\n      <th>8</th>\n      <td>1997-05-05</td>\n      <td>ADBE</td>\n      <td>Adobe</td>\n      <td>added</td>\n    </tr>\n    <tr>\n      <th>9</th>\n      <td>1981-03-31</td>\n      <td>ADP</td>\n      <td>ADP</td>\n      <td>added</td>\n    </tr>\n  </tbody>\n</table>\n</div>"
     },
     "execution_count": 106,
     "metadata": {},
     "output_type": "execute_result"
    }
   ],
   "source": [
    "missing = current[~current['ticker'].isin(historical['ticker'])].copy()\n",
    "missing['action'] = 'added'\n",
    "missing = missing[['date','ticker','name','action']]\n",
    "missing.head()"
   ],
   "metadata": {
    "collapsed": false,
    "pycharm": {
     "name": "#%%\n"
    }
   }
  },
  {
   "cell_type": "code",
   "execution_count": 107,
   "outputs": [
    {
     "data": {
      "text/plain": "                    date ticker                    name   action\n121    September 8, 2016   CHTR  Charter Communications    added\n121    September 8, 2016    EMC         EMC Corporation  removed\n122    September 6, 2016    MTD          Mettler Toledo    added\n122    September 6, 2016    TYC      Tyco International  removed\n217    September 5, 2012    LYB          LyondellBasell    added\n..                   ...    ...                     ...      ...\n485  1900-01-01 00:00:00    WAT                  Waters    added\n493  1900-01-01 00:00:00    WHR               Whirlpool    added\n484  1900-01-01 00:00:00     WM        Waste Management    added\n491  1900-01-01 00:00:00    WRK                WestRock    added\n492  1900-01-01 00:00:00     WY            Weyerhaeuser    added\n\n[870 rows x 4 columns]",
      "text/html": "<div>\n<style scoped>\n    .dataframe tbody tr th:only-of-type {\n        vertical-align: middle;\n    }\n\n    .dataframe tbody tr th {\n        vertical-align: top;\n    }\n\n    .dataframe thead th {\n        text-align: right;\n    }\n</style>\n<table border=\"1\" class=\"dataframe\">\n  <thead>\n    <tr style=\"text-align: right;\">\n      <th></th>\n      <th>date</th>\n      <th>ticker</th>\n      <th>name</th>\n      <th>action</th>\n    </tr>\n  </thead>\n  <tbody>\n    <tr>\n      <th>121</th>\n      <td>September 8, 2016</td>\n      <td>CHTR</td>\n      <td>Charter Communications</td>\n      <td>added</td>\n    </tr>\n    <tr>\n      <th>121</th>\n      <td>September 8, 2016</td>\n      <td>EMC</td>\n      <td>EMC Corporation</td>\n      <td>removed</td>\n    </tr>\n    <tr>\n      <th>122</th>\n      <td>September 6, 2016</td>\n      <td>MTD</td>\n      <td>Mettler Toledo</td>\n      <td>added</td>\n    </tr>\n    <tr>\n      <th>122</th>\n      <td>September 6, 2016</td>\n      <td>TYC</td>\n      <td>Tyco International</td>\n      <td>removed</td>\n    </tr>\n    <tr>\n      <th>217</th>\n      <td>September 5, 2012</td>\n      <td>LYB</td>\n      <td>LyondellBasell</td>\n      <td>added</td>\n    </tr>\n    <tr>\n      <th>...</th>\n      <td>...</td>\n      <td>...</td>\n      <td>...</td>\n      <td>...</td>\n    </tr>\n    <tr>\n      <th>485</th>\n      <td>1900-01-01 00:00:00</td>\n      <td>WAT</td>\n      <td>Waters</td>\n      <td>added</td>\n    </tr>\n    <tr>\n      <th>493</th>\n      <td>1900-01-01 00:00:00</td>\n      <td>WHR</td>\n      <td>Whirlpool</td>\n      <td>added</td>\n    </tr>\n    <tr>\n      <th>484</th>\n      <td>1900-01-01 00:00:00</td>\n      <td>WM</td>\n      <td>Waste Management</td>\n      <td>added</td>\n    </tr>\n    <tr>\n      <th>491</th>\n      <td>1900-01-01 00:00:00</td>\n      <td>WRK</td>\n      <td>WestRock</td>\n      <td>added</td>\n    </tr>\n    <tr>\n      <th>492</th>\n      <td>1900-01-01 00:00:00</td>\n      <td>WY</td>\n      <td>Weyerhaeuser</td>\n      <td>added</td>\n    </tr>\n  </tbody>\n</table>\n<p>870 rows × 4 columns</p>\n</div>"
     },
     "execution_count": 107,
     "metadata": {},
     "output_type": "execute_result"
    }
   ],
   "source": [
    "sp500_history = pd.concat([historical, missing])\n",
    "sp500_history = sp500_history.sort_values(by=['date','ticker'], ascending=[False, True])\n",
    "sp500_history = sp500_history.drop_duplicates(subset=['date','ticker'])\n",
    "sp500_history"
   ],
   "metadata": {
    "collapsed": false,
    "pycharm": {
     "name": "#%%\n"
    }
   }
  },
  {
   "cell_type": "code",
   "execution_count": 108,
   "outputs": [],
   "source": [
    "sp500_history['date'] = pd.to_datetime(sp500_history['date'])"
   ],
   "metadata": {
    "collapsed": false,
    "pycharm": {
     "name": "#%%\n"
    }
   }
  },
  {
   "cell_type": "code",
   "execution_count": 109,
   "outputs": [
    {
     "data": {
      "text/plain": "          date ticker                    name   action\n121 2016-09-08   CHTR  Charter Communications    added\n121 2016-09-08    EMC         EMC Corporation  removed\n122 2016-09-06    MTD          Mettler Toledo    added\n122 2016-09-06    TYC      Tyco International  removed\n217 2012-09-05    LYB          LyondellBasell    added\n..         ...    ...                     ...      ...\n485 1900-01-01    WAT                  Waters    added\n493 1900-01-01    WHR               Whirlpool    added\n484 1900-01-01     WM        Waste Management    added\n491 1900-01-01    WRK                WestRock    added\n492 1900-01-01     WY            Weyerhaeuser    added\n\n[870 rows x 4 columns]",
      "text/html": "<div>\n<style scoped>\n    .dataframe tbody tr th:only-of-type {\n        vertical-align: middle;\n    }\n\n    .dataframe tbody tr th {\n        vertical-align: top;\n    }\n\n    .dataframe thead th {\n        text-align: right;\n    }\n</style>\n<table border=\"1\" class=\"dataframe\">\n  <thead>\n    <tr style=\"text-align: right;\">\n      <th></th>\n      <th>date</th>\n      <th>ticker</th>\n      <th>name</th>\n      <th>action</th>\n    </tr>\n  </thead>\n  <tbody>\n    <tr>\n      <th>121</th>\n      <td>2016-09-08</td>\n      <td>CHTR</td>\n      <td>Charter Communications</td>\n      <td>added</td>\n    </tr>\n    <tr>\n      <th>121</th>\n      <td>2016-09-08</td>\n      <td>EMC</td>\n      <td>EMC Corporation</td>\n      <td>removed</td>\n    </tr>\n    <tr>\n      <th>122</th>\n      <td>2016-09-06</td>\n      <td>MTD</td>\n      <td>Mettler Toledo</td>\n      <td>added</td>\n    </tr>\n    <tr>\n      <th>122</th>\n      <td>2016-09-06</td>\n      <td>TYC</td>\n      <td>Tyco International</td>\n      <td>removed</td>\n    </tr>\n    <tr>\n      <th>217</th>\n      <td>2012-09-05</td>\n      <td>LYB</td>\n      <td>LyondellBasell</td>\n      <td>added</td>\n    </tr>\n    <tr>\n      <th>...</th>\n      <td>...</td>\n      <td>...</td>\n      <td>...</td>\n      <td>...</td>\n    </tr>\n    <tr>\n      <th>485</th>\n      <td>1900-01-01</td>\n      <td>WAT</td>\n      <td>Waters</td>\n      <td>added</td>\n    </tr>\n    <tr>\n      <th>493</th>\n      <td>1900-01-01</td>\n      <td>WHR</td>\n      <td>Whirlpool</td>\n      <td>added</td>\n    </tr>\n    <tr>\n      <th>484</th>\n      <td>1900-01-01</td>\n      <td>WM</td>\n      <td>Waste Management</td>\n      <td>added</td>\n    </tr>\n    <tr>\n      <th>491</th>\n      <td>1900-01-01</td>\n      <td>WRK</td>\n      <td>WestRock</td>\n      <td>added</td>\n    </tr>\n    <tr>\n      <th>492</th>\n      <td>1900-01-01</td>\n      <td>WY</td>\n      <td>Weyerhaeuser</td>\n      <td>added</td>\n    </tr>\n  </tbody>\n</table>\n<p>870 rows × 4 columns</p>\n</div>"
     },
     "execution_count": 109,
     "metadata": {},
     "output_type": "execute_result"
    }
   ],
   "source": [
    "sp500_history.sort_values(by='date', axis=0)\n",
    "sp500_history"
   ],
   "metadata": {
    "collapsed": false,
    "pycharm": {
     "name": "#%%\n"
    }
   }
  },
  {
   "cell_type": "code",
   "execution_count": 110,
   "outputs": [],
   "source": [
    "mask = (sp500_history['date']> '2000-01-01') & (sp500_history['date'] <='2021-12-31')\n",
    "universe = sp500_history.loc[mask]"
   ],
   "metadata": {
    "collapsed": false,
    "pycharm": {
     "name": "#%%\n"
    }
   }
  },
  {
   "cell_type": "code",
   "execution_count": 111,
   "outputs": [
    {
     "data": {
      "text/plain": "          date ticker                    name   action\n13  2000-06-05      A    Agilent Technologies    added\n294 2000-06-07    SMS  Shared Medical Systems  removed\n294 2000-06-07   SBUX               Starbucks    added\n293 2000-07-27   JDSU            JDS Uniphase    added\n293 2000-07-27    RAD                 RiteAid  removed\n..         ...    ...                     ...      ...\n7   2021-12-20     WU           Western Union  removed\n5   2021-12-20    LEG         Leggett & Platt  removed\n6   2021-12-20    HBI             Hanesbrands  removed\n5   2021-12-20   SBNY          Signature Bank    added\n7   2021-12-20    FDS                 FactSet    added\n\n[653 rows x 4 columns]",
      "text/html": "<div>\n<style scoped>\n    .dataframe tbody tr th:only-of-type {\n        vertical-align: middle;\n    }\n\n    .dataframe tbody tr th {\n        vertical-align: top;\n    }\n\n    .dataframe thead th {\n        text-align: right;\n    }\n</style>\n<table border=\"1\" class=\"dataframe\">\n  <thead>\n    <tr style=\"text-align: right;\">\n      <th></th>\n      <th>date</th>\n      <th>ticker</th>\n      <th>name</th>\n      <th>action</th>\n    </tr>\n  </thead>\n  <tbody>\n    <tr>\n      <th>13</th>\n      <td>2000-06-05</td>\n      <td>A</td>\n      <td>Agilent Technologies</td>\n      <td>added</td>\n    </tr>\n    <tr>\n      <th>294</th>\n      <td>2000-06-07</td>\n      <td>SMS</td>\n      <td>Shared Medical Systems</td>\n      <td>removed</td>\n    </tr>\n    <tr>\n      <th>294</th>\n      <td>2000-06-07</td>\n      <td>SBUX</td>\n      <td>Starbucks</td>\n      <td>added</td>\n    </tr>\n    <tr>\n      <th>293</th>\n      <td>2000-07-27</td>\n      <td>JDSU</td>\n      <td>JDS Uniphase</td>\n      <td>added</td>\n    </tr>\n    <tr>\n      <th>293</th>\n      <td>2000-07-27</td>\n      <td>RAD</td>\n      <td>RiteAid</td>\n      <td>removed</td>\n    </tr>\n    <tr>\n      <th>...</th>\n      <td>...</td>\n      <td>...</td>\n      <td>...</td>\n      <td>...</td>\n    </tr>\n    <tr>\n      <th>7</th>\n      <td>2021-12-20</td>\n      <td>WU</td>\n      <td>Western Union</td>\n      <td>removed</td>\n    </tr>\n    <tr>\n      <th>5</th>\n      <td>2021-12-20</td>\n      <td>LEG</td>\n      <td>Leggett &amp; Platt</td>\n      <td>removed</td>\n    </tr>\n    <tr>\n      <th>6</th>\n      <td>2021-12-20</td>\n      <td>HBI</td>\n      <td>Hanesbrands</td>\n      <td>removed</td>\n    </tr>\n    <tr>\n      <th>5</th>\n      <td>2021-12-20</td>\n      <td>SBNY</td>\n      <td>Signature Bank</td>\n      <td>added</td>\n    </tr>\n    <tr>\n      <th>7</th>\n      <td>2021-12-20</td>\n      <td>FDS</td>\n      <td>FactSet</td>\n      <td>added</td>\n    </tr>\n  </tbody>\n</table>\n<p>653 rows × 4 columns</p>\n</div>"
     },
     "execution_count": 111,
     "metadata": {},
     "output_type": "execute_result"
    }
   ],
   "source": [
    "universe.sort_values(by='date', axis=0)"
   ],
   "metadata": {
    "collapsed": false,
    "pycharm": {
     "name": "#%%\n"
    }
   }
  },
  {
   "cell_type": "code",
   "execution_count": 112,
   "outputs": [],
   "source": [
    "universe.to_csv('S&P500 from 2000-2021')"
   ],
   "metadata": {
    "collapsed": false,
    "pycharm": {
     "name": "#%%\n"
    }
   }
  },
  {
   "cell_type": "code",
   "execution_count": 112,
   "outputs": [],
   "source": [],
   "metadata": {
    "collapsed": false,
    "pycharm": {
     "name": "#%%\n"
    }
   }
  }
 ],
 "metadata": {
  "kernelspec": {
   "display_name": "Python 3",
   "language": "python",
   "name": "python3"
  },
  "language_info": {
   "codemirror_mode": {
    "name": "ipython",
    "version": 2
   },
   "file_extension": ".py",
   "mimetype": "text/x-python",
   "name": "python",
   "nbconvert_exporter": "python",
   "pygments_lexer": "ipython2",
   "version": "2.7.6"
  }
 },
 "nbformat": 4,
 "nbformat_minor": 0
}